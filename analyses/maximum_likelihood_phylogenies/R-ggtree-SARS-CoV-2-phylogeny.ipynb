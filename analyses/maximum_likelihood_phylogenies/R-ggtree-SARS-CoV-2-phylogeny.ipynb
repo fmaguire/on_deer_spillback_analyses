{
 "cells": [
  {
   "cell_type": "markdown",
   "id": "eb6cb3c1",
   "metadata": {},
   "source": [
    "# R ggtree phylogeny of ON WTD SARS-CoV-2\n",
    "\n",
    "This R Jupyter Notebook was used to generate the phylogenetic tree visualizations for ON WTD SARS-CoV-2 and related SARS-CoV-2 sequences from GISAID using ggtree."
   ]
  },
  {
   "cell_type": "code",
   "execution_count": 1,
   "id": "ea513016",
   "metadata": {
    "ExecuteTime": {
     "end_time": "2022-04-29T21:47:36.840483Z",
     "start_time": "2022-04-29T21:47:35.869Z"
    }
   },
   "outputs": [
    {
     "name": "stderr",
     "output_type": "stream",
     "text": [
      "── \u001b[1mAttaching packages\u001b[22m ─────────────────────────────────────────────────────────────────────────────────────────────────────────────────────────────────────────────────────────────────────────────────────────────────────── tidyverse 1.3.1 ──\n",
      "\n",
      "\u001b[32m✔\u001b[39m \u001b[34mggplot2\u001b[39m 3.3.5     \u001b[32m✔\u001b[39m \u001b[34mpurrr  \u001b[39m 0.3.4\n",
      "\u001b[32m✔\u001b[39m \u001b[34mtibble \u001b[39m 3.1.6     \u001b[32m✔\u001b[39m \u001b[34mdplyr  \u001b[39m 1.0.7\n",
      "\u001b[32m✔\u001b[39m \u001b[34mtidyr  \u001b[39m 1.1.4     \u001b[32m✔\u001b[39m \u001b[34mstringr\u001b[39m 1.4.0\n",
      "\u001b[32m✔\u001b[39m \u001b[34mreadr  \u001b[39m 2.1.1     \u001b[32m✔\u001b[39m \u001b[34mforcats\u001b[39m 0.5.1\n",
      "\n",
      "── \u001b[1mConflicts\u001b[22m ────────────────────────────────────────────────────────────────────────────────────────────────────────────────────────────────────────────────────────────────────────────────────────────────────────── tidyverse_conflicts() ──\n",
      "\u001b[31m✖\u001b[39m \u001b[34mdplyr\u001b[39m::\u001b[32mfilter()\u001b[39m masks \u001b[34mstats\u001b[39m::filter()\n",
      "\u001b[31m✖\u001b[39m \u001b[34mdplyr\u001b[39m::\u001b[32mlag()\u001b[39m    masks \u001b[34mstats\u001b[39m::lag()\n",
      "\n",
      "ggtree v3.2.0  For help: https://yulab-smu.top/treedata-book/\n",
      "\n",
      "If you use ggtree in published research, please cite the most appropriate paper(s):\n",
      "\n",
      "1. Guangchuang Yu. Using ggtree to visualize data on tree-like structures. Current Protocols in Bioinformatics. 2020, 69:e96. doi:10.1002/cpbi.96\n",
      "2. Guangchuang Yu, Tommy Tsan-Yuk Lam, Huachen Zhu, Yi Guan. Two methods for mapping and visualizing associated data on phylogeny using ggtree. Molecular Biology and Evolution. 2018, 35(12):3041-3043. doi:10.1093/molbev/msy194\n",
      "3. Guangchuang Yu, David Smith, Huachen Zhu, Yi Guan, Tommy Tsan-Yuk Lam. ggtree: an R package for visualization and annotation of phylogenetic trees with their covariates and other associated data. Methods in Ecology and Evolution. 2017, 8(1):28-36. doi:10.1111/2041-210X.12628\n",
      "\n",
      "\n",
      "\n",
      "\n",
      "Attaching package: ‘ggtree’\n",
      "\n",
      "\n",
      "The following object is masked from ‘package:tidyr’:\n",
      "\n",
      "    expand\n",
      "\n",
      "\n"
     ]
    }
   ],
   "source": [
    "# ggtree v3.2.0\n",
    "library(ggtree)\n",
    "# ggnewscale for multiple independent scales in the same plot\n",
    "library(ggnewscale)\n",
    "# tidyverse 1.3.1\n",
    "# ✔ ggplot2 3.3.5     ✔ purrr   0.3.4\n",
    "# ✔ tibble  3.1.6     ✔ dplyr   1.0.7\n",
    "# ✔ tidyr   1.1.4     ✔ stringr 1.4.0\n",
    "# ✔ readr   2.1.1     ✔ forcats 0.5.1\n",
    "library(tidyverse)"
   ]
  },
  {
   "cell_type": "code",
   "execution_count": 2,
   "id": "ec12225b",
   "metadata": {
    "ExecuteTime": {
     "end_time": "2022-04-29T21:47:37.003978Z",
     "start_time": "2022-04-29T21:47:35.871Z"
    }
   },
   "outputs": [
    {
     "name": "stderr",
     "output_type": "stream",
     "text": [
      "\u001b[1mRows: \u001b[22m\u001b[34m1308\u001b[39m \u001b[1mColumns: \u001b[22m\u001b[34m12\u001b[39m\n",
      "\n",
      "\u001b[36m──\u001b[39m \u001b[1mColumn specification\u001b[22m \u001b[36m────────────────────────────────────────────────────────────────────────────────────────────────────────────────────────────────────────────────────────────────────────────────────────────────────────────────────────\u001b[39m\n",
      "\u001b[1mDelimiter:\u001b[22m \"\\t\"\n",
      "\u001b[31mchr\u001b[39m (12): sample, type, accession, collection_date, host, clade, lineage, re...\n",
      "\n",
      "\n",
      "\u001b[36mℹ\u001b[39m Use \u001b[30m\u001b[47m\u001b[30m\u001b[47m`spec()`\u001b[47m\u001b[30m\u001b[49m\u001b[39m to retrieve the full column specification for this data.\n",
      "\u001b[36mℹ\u001b[39m Specify the column types or set \u001b[30m\u001b[47m\u001b[30m\u001b[47m`show_col_types = FALSE`\u001b[47m\u001b[30m\u001b[49m\u001b[39m to quiet this message.\n",
      "\n"
     ]
    }
   ],
   "source": [
    "df = read_tsv('metadata-subsampled.tsv')"
   ]
  },
  {
   "cell_type": "code",
   "execution_count": 3,
   "id": "ae25f237",
   "metadata": {
    "ExecuteTime": {
     "end_time": "2022-04-29T21:47:37.017064Z",
     "start_time": "2022-04-29T21:47:35.873Z"
    }
   },
   "outputs": [],
   "source": [
    "tree = read.tree('tree-subsampled.newick')"
   ]
  },
  {
   "cell_type": "code",
   "execution_count": 4,
   "id": "58471a0f",
   "metadata": {
    "ExecuteTime": {
     "end_time": "2022-04-29T21:47:37.028285Z",
     "start_time": "2022-04-29T21:47:35.874Z"
    }
   },
   "outputs": [
    {
     "data": {
      "text/plain": [
       "\n",
       "Phylogenetic tree with 1309 tips and 1307 internal nodes.\n",
       "\n",
       "Tip labels:\n",
       "  MN908947.3, USA/MT-BHDH-155/2021, USA/KS-KHEL-0228/2020, USA/CO-CDPHE-2009183838/2020, USA/KS-QDX-4448/2020, USA/LA-EVTL1824/2021, ...\n",
       "\n",
       "Rooted; includes branch lengths."
      ]
     },
     "metadata": {},
     "output_type": "display_data"
    }
   ],
   "source": [
    "tree"
   ]
  },
  {
   "cell_type": "code",
   "execution_count": 5,
   "id": "dfc1bd89",
   "metadata": {
    "ExecuteTime": {
     "end_time": "2022-04-29T21:47:37.037437Z",
     "start_time": "2022-04-29T21:47:35.876Z"
    }
   },
   "outputs": [],
   "source": [
    "heatmapData = as.data.frame(sapply(df, as.character))"
   ]
  },
  {
   "cell_type": "code",
   "execution_count": 6,
   "id": "bd39069b",
   "metadata": {
    "ExecuteTime": {
     "end_time": "2022-04-29T21:47:37.046112Z",
     "start_time": "2022-04-29T21:47:35.877Z"
    }
   },
   "outputs": [],
   "source": [
    "rn = df[['sample']]"
   ]
  },
  {
   "cell_type": "code",
   "execution_count": 7,
   "id": "9e3c2fa0",
   "metadata": {
    "ExecuteTime": {
     "end_time": "2022-04-29T21:47:37.057317Z",
     "start_time": "2022-04-29T21:47:35.879Z"
    }
   },
   "outputs": [
    {
     "data": {
      "text/html": [
       "1308"
      ],
      "text/latex": [
       "1308"
      ],
      "text/markdown": [
       "1308"
      ],
      "text/plain": [
       "[1] 1308"
      ]
     },
     "metadata": {},
     "output_type": "display_data"
    }
   ],
   "source": [
    "nrow(heatmapData)"
   ]
  },
  {
   "cell_type": "code",
   "execution_count": 8,
   "id": "34a46336",
   "metadata": {
    "ExecuteTime": {
     "end_time": "2022-04-29T21:47:37.072299Z",
     "start_time": "2022-04-29T21:47:35.880Z"
    }
   },
   "outputs": [
    {
     "data": {
      "text/html": [
       "1308"
      ],
      "text/latex": [
       "1308"
      ],
      "text/markdown": [
       "1308"
      ],
      "text/plain": [
       "[1] 1308"
      ]
     },
     "metadata": {},
     "output_type": "display_data"
    }
   ],
   "source": [
    "length(rn)"
   ]
  },
  {
   "cell_type": "code",
   "execution_count": 9,
   "id": "59e545b5",
   "metadata": {
    "ExecuteTime": {
     "end_time": "2022-04-29T21:47:37.080883Z",
     "start_time": "2022-04-29T21:47:35.882Z"
    }
   },
   "outputs": [],
   "source": [
    "rownames(heatmapData) = rn"
   ]
  },
  {
   "cell_type": "code",
   "execution_count": 10,
   "id": "6d845fb7",
   "metadata": {
    "ExecuteTime": {
     "end_time": "2022-04-29T21:47:37.091651Z",
     "start_time": "2022-04-29T21:47:35.883Z"
    }
   },
   "outputs": [
    {
     "data": {
      "text/html": [
       "<style>\n",
       ".list-inline {list-style: none; margin:0; padding: 0}\n",
       ".list-inline>li {display: inline-block}\n",
       ".list-inline>li:not(:last-child)::after {content: \"\\00b7\"; padding: 0 .5ex}\n",
       "</style>\n",
       "<ol class=list-inline><li>'sample'</li><li>'type'</li><li>'accession'</li><li>'collection_date'</li><li>'host'</li><li>'clade'</li><li>'lineage'</li><li>'region'</li><li>'country'</li><li>'division'</li><li>'city'</li><li>'VOC'</li></ol>\n"
      ],
      "text/latex": [
       "\\begin{enumerate*}\n",
       "\\item 'sample'\n",
       "\\item 'type'\n",
       "\\item 'accession'\n",
       "\\item 'collection\\_date'\n",
       "\\item 'host'\n",
       "\\item 'clade'\n",
       "\\item 'lineage'\n",
       "\\item 'region'\n",
       "\\item 'country'\n",
       "\\item 'division'\n",
       "\\item 'city'\n",
       "\\item 'VOC'\n",
       "\\end{enumerate*}\n"
      ],
      "text/markdown": [
       "1. 'sample'\n",
       "2. 'type'\n",
       "3. 'accession'\n",
       "4. 'collection_date'\n",
       "5. 'host'\n",
       "6. 'clade'\n",
       "7. 'lineage'\n",
       "8. 'region'\n",
       "9. 'country'\n",
       "10. 'division'\n",
       "11. 'city'\n",
       "12. 'VOC'\n",
       "\n",
       "\n"
      ],
      "text/plain": [
       " [1] \"sample\"          \"type\"            \"accession\"       \"collection_date\"\n",
       " [5] \"host\"            \"clade\"           \"lineage\"         \"region\"         \n",
       " [9] \"country\"         \"division\"        \"city\"            \"VOC\"            "
      ]
     },
     "metadata": {},
     "output_type": "display_data"
    }
   ],
   "source": [
    "colnames(heatmapData)"
   ]
  },
  {
   "cell_type": "markdown",
   "id": "c3899055",
   "metadata": {},
   "source": [
    "Subset of dataframe with only the fields to be displayed in "
   ]
  },
  {
   "cell_type": "code",
   "execution_count": 11,
   "id": "cf3150b3",
   "metadata": {
    "ExecuteTime": {
     "end_time": "2022-04-29T21:47:37.100870Z",
     "start_time": "2022-04-29T21:47:35.886Z"
    }
   },
   "outputs": [],
   "source": [
    "hmd = heatmapData[c('host')]"
   ]
  },
  {
   "cell_type": "code",
   "execution_count": 12,
   "id": "5a48d761",
   "metadata": {
    "ExecuteTime": {
     "end_time": "2022-04-29T21:47:37.110324Z",
     "start_time": "2022-04-29T21:47:35.888Z"
    }
   },
   "outputs": [],
   "source": [
    "hmd[['clade']] = heatmapData$clade"
   ]
  },
  {
   "cell_type": "code",
   "execution_count": 13,
   "id": "331ac290",
   "metadata": {
    "ExecuteTime": {
     "end_time": "2022-04-29T21:47:37.124593Z",
     "start_time": "2022-04-29T21:47:35.889Z"
    }
   },
   "outputs": [],
   "source": [
    "hmd[['animal_host']] = df$host\n",
    "hmd[['animal_host']][(hmd[['animal_host']] %in% c('Environment'))] = NA\n",
    "hmd[['animal_host']][hmd[['animal_host']] == 'Environment'] = NA\n",
    "hmd[['animal_host']] = stringr::str_replace(hmd[['animal_host']], pattern = '(\\\\w+).*', replacement = '\\\\1')"
   ]
  },
  {
   "cell_type": "code",
   "execution_count": 14,
   "id": "57a690c4",
   "metadata": {
    "ExecuteTime": {
     "end_time": "2022-04-29T21:47:37.135658Z",
     "start_time": "2022-04-29T21:47:35.890Z"
    }
   },
   "outputs": [
    {
     "data": {
      "text/plain": [
       "\n",
       "   Arctictis      Crocuta Hippopotamus        Nasua         Puma Prionailurus \n",
       "           1            1            1            1            1            2 \n",
       "     Mustela  Chlorocebus          Mus        Aonyx Mesocricetus      Gorilla \n",
       "           3            4            4            8           14           15 \n",
       "       Canis        Felis   Odocoileus     Panthera     Neovison        Human \n",
       "          54           93           93          118          212          672 "
      ]
     },
     "metadata": {},
     "output_type": "display_data"
    }
   ],
   "source": [
    "sort(table(hmd$animal_host))"
   ]
  },
  {
   "cell_type": "code",
   "execution_count": 15,
   "id": "4c4155a8",
   "metadata": {
    "ExecuteTime": {
     "end_time": "2022-04-29T21:47:37.145071Z",
     "start_time": "2022-04-29T21:47:35.891Z"
    }
   },
   "outputs": [],
   "source": [
    "low_abundance_host = names(sort(table(hmd$animal_host))[1:9])"
   ]
  },
  {
   "cell_type": "code",
   "execution_count": 16,
   "id": "48ccb0b7",
   "metadata": {
    "ExecuteTime": {
     "end_time": "2022-04-29T21:47:37.156033Z",
     "start_time": "2022-04-29T21:47:35.893Z"
    }
   },
   "outputs": [
    {
     "data": {
      "text/plain": [
       "\n",
       "   Arctictis      Crocuta Hippopotamus        Nasua         Puma Prionailurus \n",
       "           1            1            1            1            1            2 \n",
       "     Mustela  Chlorocebus          Mus \n",
       "           3            4            4 "
      ]
     },
     "metadata": {},
     "output_type": "display_data"
    }
   ],
   "source": [
    "sort(table(hmd$animal_host))[low_abundance_host]"
   ]
  },
  {
   "cell_type": "code",
   "execution_count": 17,
   "id": "d6421e39",
   "metadata": {
    "ExecuteTime": {
     "end_time": "2022-04-29T21:47:37.164938Z",
     "start_time": "2022-04-29T21:47:35.894Z"
    }
   },
   "outputs": [],
   "source": [
    "hmd[['animal_host']][hmd[['animal_host']] %in% low_abundance_host] = 'Other'"
   ]
  },
  {
   "cell_type": "code",
   "execution_count": 18,
   "id": "685ec2e6",
   "metadata": {
    "ExecuteTime": {
     "end_time": "2022-04-29T21:47:37.178010Z",
     "start_time": "2022-04-29T21:47:35.896Z"
    }
   },
   "outputs": [
    {
     "data": {
      "text/plain": [
       "\n",
       "       Aonyx        Canis        Felis      Gorilla        Human Mesocricetus \n",
       "           8           54           93           15          672           14 \n",
       "    Neovison   Odocoileus        Other     Panthera \n",
       "         212           93           18          118 "
      ]
     },
     "metadata": {},
     "output_type": "display_data"
    }
   ],
   "source": [
    "table(hmd$animal_host)"
   ]
  },
  {
   "cell_type": "code",
   "execution_count": 19,
   "id": "6db2a3d6",
   "metadata": {
    "ExecuteTime": {
     "end_time": "2022-04-29T21:47:37.188847Z",
     "start_time": "2022-04-29T21:47:35.898Z"
    }
   },
   "outputs": [
    {
     "data": {
      "text/plain": [
       "\n",
       "       Human     Neovison     Panthera   Odocoileus        Felis        Canis \n",
       "         672          212          118           93           93           54 \n",
       "       Other      Gorilla Mesocricetus        Aonyx \n",
       "          18           15           14            8 "
      ]
     },
     "metadata": {},
     "output_type": "display_data"
    }
   ],
   "source": [
    "rev(sort(table(hmd$animal_host)))"
   ]
  },
  {
   "cell_type": "code",
   "execution_count": 20,
   "id": "ab823c1d",
   "metadata": {
    "ExecuteTime": {
     "end_time": "2022-04-29T21:47:37.198426Z",
     "start_time": "2022-04-29T21:47:35.899Z"
    }
   },
   "outputs": [],
   "source": [
    "heatmapData$collection_date = as.character.Date(df$collection_date)"
   ]
  },
  {
   "cell_type": "code",
   "execution_count": 21,
   "id": "864ca4ee",
   "metadata": {
    "ExecuteTime": {
     "end_time": "2022-04-29T21:47:37.211919Z",
     "start_time": "2022-04-29T21:47:35.900Z"
    }
   },
   "outputs": [
    {
     "name": "stderr",
     "output_type": "stream",
     "text": [
      "Warning message:\n",
      "“54 parsing failures.\n",
      "row col   expected  actual\n",
      "  9  -- date like  2020-12\n",
      " 23  -- date like  2021-02\n",
      " 29  -- date like  2021-02\n",
      " 41  -- date like  2021-01\n",
      " 51  -- date like  2020-06\n",
      "... ... .......... .......\n",
      "See problems(...) for more details.\n",
      "”\n"
     ]
    }
   ],
   "source": [
    "heatmapData[['date']] = parse_date(heatmapData$collection_date)"
   ]
  },
  {
   "cell_type": "code",
   "execution_count": 22,
   "id": "017fd680",
   "metadata": {
    "ExecuteTime": {
     "end_time": "2022-04-29T21:47:37.220671Z",
     "start_time": "2022-04-29T21:47:35.902Z"
    }
   },
   "outputs": [],
   "source": [
    "mask_in_tree = df$sample %in% tree$tip.label"
   ]
  },
  {
   "cell_type": "code",
   "execution_count": 23,
   "id": "ece7d568",
   "metadata": {
    "ExecuteTime": {
     "end_time": "2022-04-29T21:47:37.230111Z",
     "start_time": "2022-04-29T21:47:35.903Z"
    }
   },
   "outputs": [],
   "source": [
    "in_tree_accessions = df[mask_in_tree,]$accession"
   ]
  },
  {
   "cell_type": "code",
   "execution_count": 24,
   "id": "afd6a9c8",
   "metadata": {
    "ExecuteTime": {
     "end_time": "2022-04-29T21:47:37.285112Z",
     "start_time": "2022-04-29T21:47:35.904Z"
    }
   },
   "outputs": [],
   "source": [
    "write_lines(x = in_tree_accessions[!is.na(in_tree_accessions)], file = 'subsampled-tree-accessions.txt', sep = '\\n')"
   ]
  },
  {
   "cell_type": "code",
   "execution_count": 25,
   "id": "7dd7ab60",
   "metadata": {
    "ExecuteTime": {
     "end_time": "2022-04-29T21:47:37.295975Z",
     "start_time": "2022-04-29T21:47:35.905Z"
    }
   },
   "outputs": [
    {
     "data": {
      "text/html": [
       "12"
      ],
      "text/latex": [
       "12"
      ],
      "text/markdown": [
       "12"
      ],
      "text/plain": [
       "[1] 12"
      ]
     },
     "metadata": {},
     "output_type": "display_data"
    }
   ],
   "source": [
    "length(unique(df$clade))"
   ]
  },
  {
   "cell_type": "code",
   "execution_count": 26,
   "id": "5645ce55",
   "metadata": {
    "ExecuteTime": {
     "end_time": "2022-04-29T21:47:37.305030Z",
     "start_time": "2022-04-29T21:47:35.906Z"
    }
   },
   "outputs": [
    {
     "data": {
      "text/plain": [
       "\n",
       "  G  GH  GK  GR GRA GRY  GV   L   O   S   V \n",
       "302 577 214  97  32  16  29   6  21   3   4 "
      ]
     },
     "metadata": {},
     "output_type": "display_data"
    }
   ],
   "source": [
    "table(df$clade)"
   ]
  },
  {
   "cell_type": "code",
   "execution_count": 27,
   "id": "819e4d9b",
   "metadata": {
    "ExecuteTime": {
     "end_time": "2022-04-29T21:47:37.313747Z",
     "start_time": "2022-04-29T21:47:35.907Z"
    }
   },
   "outputs": [
    {
     "data": {
      "text/plain": [
       "\n",
       "  Alpha B.1.311    Beta   Delta Epsilon     Eta   Gamma    Iota   Iota*  Lambda \n",
       "     27      50      20     213      17      10      21      11       2       8 \n",
       "     Mu Omicron \n",
       "     20      32 "
      ]
     },
     "metadata": {},
     "output_type": "display_data"
    }
   ],
   "source": [
    "table(df$VOC)"
   ]
  },
  {
   "cell_type": "code",
   "execution_count": 28,
   "id": "21d78b5d",
   "metadata": {
    "ExecuteTime": {
     "end_time": "2022-04-29T21:47:37.322104Z",
     "start_time": "2022-04-29T21:47:35.908Z"
    }
   },
   "outputs": [],
   "source": [
    "df[['VOC']][df[['VOC']] == ''] = NA"
   ]
  },
  {
   "cell_type": "code",
   "execution_count": 29,
   "id": "45c08155",
   "metadata": {
    "ExecuteTime": {
     "end_time": "2022-04-29T21:47:37.333836Z",
     "start_time": "2022-04-29T21:47:35.909Z"
    }
   },
   "outputs": [],
   "source": [
    "on_wtd_names = c('4645','4581','4658','Canada/ON-PHL-21-44225/2021', '4534', '4662', '4538', '4649')"
   ]
  },
  {
   "cell_type": "code",
   "execution_count": 30,
   "id": "ba88636d",
   "metadata": {
    "ExecuteTime": {
     "end_time": "2022-04-29T21:47:37.370862Z",
     "start_time": "2022-04-29T21:47:35.911Z"
    }
   },
   "outputs": [],
   "source": [
    "tree2 = groupClade(tree, MRCA(tree, on_wtd_names))"
   ]
  },
  {
   "cell_type": "code",
   "execution_count": 31,
   "id": "dc1e2d4b",
   "metadata": {
    "ExecuteTime": {
     "end_time": "2022-04-29T21:47:37.412446Z",
     "start_time": "2022-04-29T21:47:35.912Z"
    }
   },
   "outputs": [],
   "source": [
    "node_mrca_on_wtd = MRCA(tree, on_wtd_names)\n",
    "node_subtree = tidytree::parent(tree, node_mrca_on_wtd) %>%\n",
    "                tidytree::parent(tree, .) %>% \n",
    "                tidytree::parent(tree, .) %>%\n",
    "                tidytree::parent(tree, .) %>%\n",
    "                tidytree::parent(tree, .)\n",
    "\n",
    "tree2 = groupClade(tree, c(node_subtree, node_mrca_on_wtd))"
   ]
  },
  {
   "cell_type": "code",
   "execution_count": 32,
   "id": "215e63e1",
   "metadata": {
    "ExecuteTime": {
     "end_time": "2022-04-29T21:47:37.434834Z",
     "start_time": "2022-04-29T21:47:35.913Z"
    }
   },
   "outputs": [
    {
     "name": "stderr",
     "output_type": "stream",
     "text": [
      "Warning message:\n",
      "“`as.tibble()` was deprecated in tibble 2.0.0.\n",
      "Please use `as_tibble()` instead.\n",
      "The signature and semantics have changed, see `?as_tibble`.\n",
      "\u001b[90mThis warning is displayed once every 8 hours.\u001b[39m\n",
      "\u001b[90mCall `lifecycle::last_lifecycle_warnings()` to see where this warning was generated.\u001b[39m”\n"
     ]
    }
   ],
   "source": [
    "tree2_tbl = as.tibble(tree2)"
   ]
  },
  {
   "cell_type": "code",
   "execution_count": 33,
   "id": "dbfbfb8d",
   "metadata": {
    "ExecuteTime": {
     "end_time": "2022-04-29T21:47:37.445306Z",
     "start_time": "2022-04-29T21:47:35.915Z"
    }
   },
   "outputs": [],
   "source": [
    "subset_tree_samples = tree2_tbl[tree2_tbl$group %in% c(1,2),]$label\n",
    "subset_tree_samples = subset_tree_samples[!is.na(subset_tree_samples)]"
   ]
  },
  {
   "cell_type": "code",
   "execution_count": 34,
   "id": "38050d86",
   "metadata": {
    "ExecuteTime": {
     "end_time": "2022-04-29T21:47:37.454788Z",
     "start_time": "2022-04-29T21:47:35.917Z"
    }
   },
   "outputs": [],
   "source": [
    "df_subtree = df[df$sample %in% subset_tree_samples,]"
   ]
  },
  {
   "cell_type": "code",
   "execution_count": 35,
   "id": "f9161de6",
   "metadata": {
    "ExecuteTime": {
     "end_time": "2022-04-29T21:47:37.490506Z",
     "start_time": "2022-04-29T21:47:35.918Z"
    }
   },
   "outputs": [
    {
     "name": "stdout",
     "output_type": "stream",
     "text": [
      "[1] \"B.1.311\" \"50\"     \n",
      "[1] \"Mu\" \"20\"\n",
      "[1] \"Iota\" \"11\"  \n",
      "[1] \"Epsilon\" \"17\"     \n",
      "[1] \"Iota*\" \"2\"    \n",
      "[1] \"Beta\" \"20\"  \n",
      "[1] \"Gamma\" \"21\"   \n",
      "[1] \"Lambda\" \"8\"     \n",
      "[1] \"Alpha\" \"27\"   \n",
      "[1] \"Omicron\" \"32\"     \n",
      "[1] \"Delta\" \"213\"  \n",
      "[1] \"Eta\" \"10\" \n"
     ]
    }
   ],
   "source": [
    "for(voc in unique(df$VOC)) {\n",
    "    if (is.na(voc)){\n",
    "        next\n",
    "    }\n",
    "    mask = df$VOC == voc & !is.na(df$VOC)\n",
    "    samples = df$sample[mask]\n",
    "    print(c(voc, length(samples)))\n",
    "}"
   ]
  },
  {
   "cell_type": "code",
   "execution_count": 36,
   "id": "4208fa29",
   "metadata": {
    "ExecuteTime": {
     "end_time": "2022-04-29T21:47:37.499753Z",
     "start_time": "2022-04-29T21:47:35.919Z"
    }
   },
   "outputs": [],
   "source": [
    "df[['animal_host_genus']] = hmd$animal_host"
   ]
  },
  {
   "cell_type": "code",
   "execution_count": 37,
   "id": "767f7fdb",
   "metadata": {
    "ExecuteTime": {
     "end_time": "2022-04-29T21:47:37.509529Z",
     "start_time": "2022-04-29T21:47:35.920Z"
    }
   },
   "outputs": [],
   "source": [
    "host_genus = hmd$animal_host"
   ]
  },
  {
   "cell_type": "markdown",
   "id": "a8500734",
   "metadata": {},
   "source": [
    "Replace \"Human\" with \"Homo\""
   ]
  },
  {
   "cell_type": "code",
   "execution_count": 38,
   "id": "136d7913",
   "metadata": {
    "ExecuteTime": {
     "end_time": "2022-04-29T21:47:37.519299Z",
     "start_time": "2022-04-29T21:47:35.922Z"
    }
   },
   "outputs": [],
   "source": [
    "df$animal_host_genus[df$animal_host_genus == 'Human'] = 'Homo'"
   ]
  },
  {
   "cell_type": "code",
   "execution_count": 39,
   "id": "ceac766c",
   "metadata": {
    "ExecuteTime": {
     "end_time": "2022-04-29T21:47:37.528661Z",
     "start_time": "2022-04-29T21:47:35.923Z"
    }
   },
   "outputs": [],
   "source": [
    "options(repr.plot.width  = 10,\n",
    "        repr.plot.height = 8)"
   ]
  },
  {
   "cell_type": "code",
   "execution_count": 40,
   "id": "a7cde011",
   "metadata": {
    "ExecuteTime": {
     "end_time": "2022-04-29T21:47:41.004094Z",
     "start_time": "2022-04-29T21:47:35.925Z"
    }
   },
   "outputs": [
    {
     "name": "stderr",
     "output_type": "stream",
     "text": [
      "Warning message:\n",
      "“Ignoring unknown parameters: graident.direction”\n"
     ]
    },
    {
     "name": "stdout",
     "output_type": "stream",
     "text": [
      "[1] \"B.1.311\" \"50\"     \n",
      "[1] \"Mu\" \"20\"\n",
      "[1] \"Iota\" \"11\"  \n",
      "[1] \"Epsilon\" \"17\"     \n",
      "[1] \"Iota*\" \"2\"    \n",
      "[1] \"Beta\" \"20\"  \n",
      "[1] \"Gamma\" \"21\"   \n",
      "[1] \"Lambda\" \"8\"     \n",
      "[1] \"Alpha\" \"27\"   \n",
      "[1] \"Omicron\" \"32\"     \n",
      "[1] \"Delta\" \"213\"  \n",
      "[1] \"Eta\" \"10\" \n"
     ]
    },
    {
     "name": "stderr",
     "output_type": "stream",
     "text": [
      "Coordinate system already present. Adding new coordinate system, which will replace the existing one.\n",
      "\n",
      "Warning message:\n",
      "“The gradient color hight light layer only presents in rectangular, ellipse,\n",
      "roundrect layouts”\n",
      "Warning message:\n",
      "“Removed 12 rows containing missing values (geom_point_g_gtree).”\n"
     ]
    }
   ],
   "source": [
    "p = ggtree(tree2, aes(color=group), layout='circular') %<+% df\n",
    "# highlight taxa highlighted in tree of ON WTD + most closely related sequences\n",
    "p = p + geom_hilight(mapping=aes(subset = node %in% c(node_subtree)), fill=NA, color='#888888', linetype='dotted',\n",
    "                        type = \"gradient\", graident.direction = 'rt', alpha=0.3)\n",
    "\n",
    "dark_gray = '#555555'\n",
    "# this was originally used to set the colour of branches to highlight certain clades\n",
    "p = p + scale_color_manual(values=c(dark_gray, dark_gray, dark_gray), guide='none')\n",
    "\n",
    "p = p + new_scale_color()\n",
    "\n",
    "p = p + geom_tippoint(aes(color=animal_host_genus), size=1, show.legend=TRUE)\n",
    "host_colors = c(\n",
    "'#984ea3', # purple\n",
    "'#f781bf', # pink\n",
    "'#e41a1c', # red\n",
    "'#377eb8', # blue\n",
    "'#e6ab02', # yellow\n",
    "'#a65628', # brown\n",
    "'#4daf4a', # green\n",
    "'#d95f02', # orange\n",
    "'#999999', # gray\n",
    "'#000000'\n",
    ")\n",
    "p = p + scale_color_manual(values=host_colors, na.translate = F, \n",
    "                           guide=guide_legend(title='Host Genus', \n",
    "                                              label.theme=element_text(size=10, face='italic'),\n",
    "                                              order=0,\n",
    "                                              override.aes = list(alpha=1, size=5, linesize=5)))\n",
    "# p = p + theme(legend.key.size=unit(2, 'cm'))\n",
    "p = p + new_scale_color()\n",
    "\n",
    "# list of attrs for geom_cladelab: [key] label; [1] offset.text; [2] hjust; [3] vjust\n",
    "label_offsets = list(Omicron=c(0.0004, 0, -1),\n",
    "                     Beta=c(0.00005, 0.5, 0),\n",
    "                     Delta=c(0.00015, 0, 0),\n",
    "                     Gamma=c(0.0004, 0, 0),\n",
    "                     Epsilon=c(0.00005, 0.5, 0),\n",
    "                     Eta=c(0.00015, 0.5, -0.5),\n",
    "                     Iota=c(0.000025, 1, 0),\n",
    "                     \"Iota*\"=c(0.00001, 0, 0),\n",
    "                     Mu=c(0.00005, 1, 0.5),\n",
    "                     Lambda=c(0.000425, 0, -1.2),\n",
    "                     Alpha=c(0.0003, 0, -1))\n",
    "# adjust the clade label position of each VOC/VOI\n",
    "for(voc in unique(df$VOC)) {\n",
    "    if (is.na(voc)){\n",
    "        next\n",
    "    }\n",
    "    mask = df$VOC == voc & !is.na(df$VOC)\n",
    "    samples = df$sample[mask]\n",
    "    print(c(voc, length(samples)))\n",
    "    node_voc = MRCA(tree2, samples)\n",
    "    voc_adj = label_offsets[[voc]]\n",
    "    offset_text = 0.00005\n",
    "    vjust = 0\n",
    "    hjust = 0\n",
    "    if (!is.null(voc_adj)) {\n",
    "        offset_text = voc_adj[1]\n",
    "        hjust = voc_adj[2]\n",
    "        vjust = voc_adj[3]\n",
    "    }\n",
    "    p = p + geom_cladelab(node=node_voc, label=voc, \n",
    "                          offset=0.00005, \n",
    "                          offset.text=offset_text,\n",
    "                          extend=2,\n",
    "                          vjust=vjust,\n",
    "                          hjust=hjust)\n",
    "}\n",
    "# label ON WTD and human taxa in tree\n",
    "p = p + geom_cladelabel(node=node_mrca_on_wtd, label='Ontario WTD\\nclade with\\nassociated\\nhuman case')\n",
    "# manually position tree scale and rotate tree viz\n",
    "p = p + geom_treescale(y = 154, offset=8, width=0.0002, fontsize = 2, color = dark_gray)\n",
    "p = rotate_tree(p, angle = 137)\n",
    "# adjust margins and legend position\n",
    "p = p + theme(legend.position = c(0.8, 0.325), \n",
    "              plot.margin = margin(-8, -0.5, -5, -6, unit = 'cm'))\n",
    "\n",
    "# save to PDF \n",
    "ggsave(p, filename = 'global-tree.pdf', height = 8, width =10)"
   ]
  },
  {
   "cell_type": "code",
   "execution_count": 41,
   "id": "a0d93ca5",
   "metadata": {
    "ExecuteTime": {
     "end_time": "2022-04-29T21:47:41.013075Z",
     "start_time": "2022-04-29T21:47:35.926Z"
    }
   },
   "outputs": [
    {
     "data": {
      "text/html": [
       "157"
      ],
      "text/latex": [
       "157"
      ],
      "text/markdown": [
       "157"
      ],
      "text/plain": [
       "[1] 157"
      ]
     },
     "metadata": {},
     "output_type": "display_data"
    }
   ],
   "source": [
    "length(subset_tree_samples)"
   ]
  },
  {
   "cell_type": "code",
   "execution_count": 42,
   "id": "35c00ce9",
   "metadata": {
    "ExecuteTime": {
     "end_time": "2022-04-29T21:47:41.027730Z",
     "start_time": "2022-04-29T21:47:35.927Z"
    }
   },
   "outputs": [],
   "source": [
    "write_lines(x = subset_tree_samples, file = 'subtree-samples.txt', sep='\\n')"
   ]
  },
  {
   "cell_type": "code",
   "execution_count": 43,
   "id": "97ebae31",
   "metadata": {
    "ExecuteTime": {
     "end_time": "2022-04-29T21:47:41.035576Z",
     "start_time": "2022-04-29T21:47:35.928Z"
    }
   },
   "outputs": [],
   "source": [
    "hmd_sub = heatmapData[subset_tree_samples, ]"
   ]
  },
  {
   "cell_type": "code",
   "execution_count": 44,
   "id": "bac6ae95",
   "metadata": {
    "ExecuteTime": {
     "end_time": "2022-04-29T21:47:41.043087Z",
     "start_time": "2022-04-29T21:47:35.930Z"
    }
   },
   "outputs": [],
   "source": [
    "df_sub = df[df$sample %in% subset_tree_samples, ]"
   ]
  },
  {
   "cell_type": "code",
   "execution_count": 45,
   "id": "37859708",
   "metadata": {
    "ExecuteTime": {
     "end_time": "2022-04-29T21:47:41.050264Z",
     "start_time": "2022-04-29T21:47:35.931Z"
    }
   },
   "outputs": [],
   "source": [
    "subtree = read.tree('subtree-collapsed.newick')"
   ]
  },
  {
   "cell_type": "code",
   "execution_count": 46,
   "id": "d15927e7",
   "metadata": {
    "ExecuteTime": {
     "end_time": "2022-04-29T21:47:41.059567Z",
     "start_time": "2022-04-29T21:47:35.932Z"
    }
   },
   "outputs": [
    {
     "data": {
      "text/plain": [
       "\n",
       "Phylogenetic tree with 37 tips and 36 internal nodes.\n",
       "\n",
       "Tip labels:\n",
       "  4534, 4649, 4581, 4538, 4645, 4662, ...\n",
       "Node labels:\n",
       "  , 72.00, 93.00, 100.00, 100.00, 100.00, ...\n",
       "\n",
       "Rooted; includes branch lengths."
      ]
     },
     "metadata": {},
     "output_type": "display_data"
    }
   ],
   "source": [
    "subtree"
   ]
  },
  {
   "cell_type": "code",
   "execution_count": 47,
   "id": "2b5e2221",
   "metadata": {
    "ExecuteTime": {
     "end_time": "2022-04-29T21:47:41.080775Z",
     "start_time": "2022-04-29T21:47:35.933Z"
    }
   },
   "outputs": [],
   "source": [
    "subtree2 = groupClade(subtree, MRCA(subtree, on_wtd_names))"
   ]
  },
  {
   "cell_type": "code",
   "execution_count": 48,
   "id": "002088e7",
   "metadata": {
    "ExecuteTime": {
     "end_time": "2022-04-29T21:47:41.088551Z",
     "start_time": "2022-04-29T21:47:35.935Z"
    }
   },
   "outputs": [],
   "source": [
    "hmd_sub = as.data.frame(sapply(df, as.character))"
   ]
  },
  {
   "cell_type": "code",
   "execution_count": 49,
   "id": "eca4fc08",
   "metadata": {
    "ExecuteTime": {
     "end_time": "2022-04-29T21:47:41.095489Z",
     "start_time": "2022-04-29T21:47:35.936Z"
    }
   },
   "outputs": [],
   "source": [
    "hmd_sub[['division']] = hmd_sub$division"
   ]
  },
  {
   "cell_type": "code",
   "execution_count": 50,
   "id": "a937f9bd",
   "metadata": {
    "ExecuteTime": {
     "end_time": "2022-04-29T21:47:41.154535Z",
     "start_time": "2022-04-29T21:47:35.937Z"
    }
   },
   "outputs": [
    {
     "name": "stderr",
     "output_type": "stream",
     "text": [
      "\u001b[1mRows: \u001b[22m\u001b[34m37\u001b[39m \u001b[1mColumns: \u001b[22m\u001b[34m69\u001b[39m\n",
      "\n",
      "\u001b[36m──\u001b[39m \u001b[1mColumn specification\u001b[22m \u001b[36m────────────────────────────────────────────────────────────────────────────────────────────────────────────────────────────────────────────────────────────────────────────────────────────────────────────────────────\u001b[39m\n",
      "\u001b[1mDelimiter:\u001b[22m \"\\t\"\n",
      "\u001b[31mchr\u001b[39m (69): sample, ORF1a:T265I, ORF1a:T708I, ORF1a:A1204V, ORF1a:A1283V, ORF1...\n",
      "\n",
      "\n",
      "\u001b[36mℹ\u001b[39m Use \u001b[30m\u001b[47m\u001b[30m\u001b[47m`spec()`\u001b[47m\u001b[30m\u001b[49m\u001b[39m to retrieve the full column specification for this data.\n",
      "\u001b[36mℹ\u001b[39m Specify the column types or set \u001b[30m\u001b[47m\u001b[30m\u001b[47m`show_col_types = FALSE`\u001b[47m\u001b[30m\u001b[49m\u001b[39m to quiet this message.\n",
      "\n"
     ]
    }
   ],
   "source": [
    "dfaa = read_tsv('on-wtd-deer-aa-matrix-collapsed-nr-samples.tsv')"
   ]
  },
  {
   "cell_type": "code",
   "execution_count": 51,
   "id": "93f7c914",
   "metadata": {
    "ExecuteTime": {
     "end_time": "2022-04-29T21:47:41.162790Z",
     "start_time": "2022-04-29T21:47:35.938Z"
    }
   },
   "outputs": [
    {
     "name": "stderr",
     "output_type": "stream",
     "text": [
      "Warning message:\n",
      "“Setting row names on a tibble is deprecated.”\n"
     ]
    }
   ],
   "source": [
    "rownames(dfaa) = dfaa$sample"
   ]
  },
  {
   "cell_type": "code",
   "execution_count": 52,
   "id": "df73c760",
   "metadata": {
    "ExecuteTime": {
     "end_time": "2022-04-29T21:47:41.172098Z",
     "start_time": "2022-04-29T21:47:35.939Z"
    }
   },
   "outputs": [
    {
     "data": {
      "text/html": [
       "<style>\n",
       ".list-inline {list-style: none; margin:0; padding: 0}\n",
       ".list-inline>li {display: inline-block}\n",
       ".list-inline>li:not(:last-child)::after {content: \"\\00b7\"; padding: 0 .5ex}\n",
       "</style>\n",
       "<ol class=list-inline><li>'4538'</li><li>'4645'</li><li>'4649'</li><li>'4534'</li><li>'4581'</li><li>'4662'</li><li>'4658'</li><li>'Canada/ON-PHL-21-44225/2021'</li><li>'USA/MI-MDHHS-SC23517/2020'</li><li>'USA/MI-MDHHS-SC22669/2020'</li><li>'mink/USA/MI-CDC-3886954-001/2020'</li><li>'mink/USA/MI-CDC-3886572-001/2020'</li><li>'mink/USA/MI-CDC-3886516-001/2020'</li><li>'mink/USA/MI-CDC-3886779-001/2020'</li><li>'mink/USA/MI-CDC-3886891-001/2020'</li><li>'USA/MI-MDHHS-SC22140/2020'</li><li>'USA/MI-MDHHS-SC22125/2020'</li><li>'USA/NJ-NYGC-NJ-BioR-303-AmpliSeq/2020'</li><li>'mink/USA/WI-CDC-3892612-001/2020'</li><li>'mink/USA/WI-CDC-3892613-001/2020'</li><li>'mink/USA/WI-CDC-3892918-001/2020'</li><li>'mink/USA/WI-CDC-3892848-001/2020'</li><li>'mink/USA/WI-CDC-3892621-001/2020'</li><li>'mink/USA/WI-CDC-3892618-001/2020'</li><li>'mink/USA/WI-20-031493-001/2020'</li><li>'USA/NE-CUMC_21081058/2021'</li><li>'USA/TX-HMH-MCoV-8963/2020'</li><li>'USA/TX-HMH-MCoV-8462/2020'</li><li>'USA/TX-HMH-MCoV-40474/2020'</li><li>'USA/TX-HMH-MCoV-33283/2020'</li><li>'USA/TX-HMH-MCoV-40932/2020'</li><li>'USA/TX-HMH-MCoV-39934/2020'</li><li>'USA/TX-HMH-4685/2020'</li><li>'USA/CO-CDPHE-2010132029/2020'</li><li>'USA/CA-CZB-13805/2020'</li><li>'USA/TX-HMH-MCoV-34510/2020'</li><li>'USA/TX-HMH-MCoV-16519/2020'</li></ol>\n"
      ],
      "text/latex": [
       "\\begin{enumerate*}\n",
       "\\item '4538'\n",
       "\\item '4645'\n",
       "\\item '4649'\n",
       "\\item '4534'\n",
       "\\item '4581'\n",
       "\\item '4662'\n",
       "\\item '4658'\n",
       "\\item 'Canada/ON-PHL-21-44225/2021'\n",
       "\\item 'USA/MI-MDHHS-SC23517/2020'\n",
       "\\item 'USA/MI-MDHHS-SC22669/2020'\n",
       "\\item 'mink/USA/MI-CDC-3886954-001/2020'\n",
       "\\item 'mink/USA/MI-CDC-3886572-001/2020'\n",
       "\\item 'mink/USA/MI-CDC-3886516-001/2020'\n",
       "\\item 'mink/USA/MI-CDC-3886779-001/2020'\n",
       "\\item 'mink/USA/MI-CDC-3886891-001/2020'\n",
       "\\item 'USA/MI-MDHHS-SC22140/2020'\n",
       "\\item 'USA/MI-MDHHS-SC22125/2020'\n",
       "\\item 'USA/NJ-NYGC-NJ-BioR-303-AmpliSeq/2020'\n",
       "\\item 'mink/USA/WI-CDC-3892612-001/2020'\n",
       "\\item 'mink/USA/WI-CDC-3892613-001/2020'\n",
       "\\item 'mink/USA/WI-CDC-3892918-001/2020'\n",
       "\\item 'mink/USA/WI-CDC-3892848-001/2020'\n",
       "\\item 'mink/USA/WI-CDC-3892621-001/2020'\n",
       "\\item 'mink/USA/WI-CDC-3892618-001/2020'\n",
       "\\item 'mink/USA/WI-20-031493-001/2020'\n",
       "\\item 'USA/NE-CUMC\\_21081058/2021'\n",
       "\\item 'USA/TX-HMH-MCoV-8963/2020'\n",
       "\\item 'USA/TX-HMH-MCoV-8462/2020'\n",
       "\\item 'USA/TX-HMH-MCoV-40474/2020'\n",
       "\\item 'USA/TX-HMH-MCoV-33283/2020'\n",
       "\\item 'USA/TX-HMH-MCoV-40932/2020'\n",
       "\\item 'USA/TX-HMH-MCoV-39934/2020'\n",
       "\\item 'USA/TX-HMH-4685/2020'\n",
       "\\item 'USA/CO-CDPHE-2010132029/2020'\n",
       "\\item 'USA/CA-CZB-13805/2020'\n",
       "\\item 'USA/TX-HMH-MCoV-34510/2020'\n",
       "\\item 'USA/TX-HMH-MCoV-16519/2020'\n",
       "\\end{enumerate*}\n"
      ],
      "text/markdown": [
       "1. '4538'\n",
       "2. '4645'\n",
       "3. '4649'\n",
       "4. '4534'\n",
       "5. '4581'\n",
       "6. '4662'\n",
       "7. '4658'\n",
       "8. 'Canada/ON-PHL-21-44225/2021'\n",
       "9. 'USA/MI-MDHHS-SC23517/2020'\n",
       "10. 'USA/MI-MDHHS-SC22669/2020'\n",
       "11. 'mink/USA/MI-CDC-3886954-001/2020'\n",
       "12. 'mink/USA/MI-CDC-3886572-001/2020'\n",
       "13. 'mink/USA/MI-CDC-3886516-001/2020'\n",
       "14. 'mink/USA/MI-CDC-3886779-001/2020'\n",
       "15. 'mink/USA/MI-CDC-3886891-001/2020'\n",
       "16. 'USA/MI-MDHHS-SC22140/2020'\n",
       "17. 'USA/MI-MDHHS-SC22125/2020'\n",
       "18. 'USA/NJ-NYGC-NJ-BioR-303-AmpliSeq/2020'\n",
       "19. 'mink/USA/WI-CDC-3892612-001/2020'\n",
       "20. 'mink/USA/WI-CDC-3892613-001/2020'\n",
       "21. 'mink/USA/WI-CDC-3892918-001/2020'\n",
       "22. 'mink/USA/WI-CDC-3892848-001/2020'\n",
       "23. 'mink/USA/WI-CDC-3892621-001/2020'\n",
       "24. 'mink/USA/WI-CDC-3892618-001/2020'\n",
       "25. 'mink/USA/WI-20-031493-001/2020'\n",
       "26. 'USA/NE-CUMC_21081058/2021'\n",
       "27. 'USA/TX-HMH-MCoV-8963/2020'\n",
       "28. 'USA/TX-HMH-MCoV-8462/2020'\n",
       "29. 'USA/TX-HMH-MCoV-40474/2020'\n",
       "30. 'USA/TX-HMH-MCoV-33283/2020'\n",
       "31. 'USA/TX-HMH-MCoV-40932/2020'\n",
       "32. 'USA/TX-HMH-MCoV-39934/2020'\n",
       "33. 'USA/TX-HMH-4685/2020'\n",
       "34. 'USA/CO-CDPHE-2010132029/2020'\n",
       "35. 'USA/CA-CZB-13805/2020'\n",
       "36. 'USA/TX-HMH-MCoV-34510/2020'\n",
       "37. 'USA/TX-HMH-MCoV-16519/2020'\n",
       "\n",
       "\n"
      ],
      "text/plain": [
       " [1] \"4538\"                                 \n",
       " [2] \"4645\"                                 \n",
       " [3] \"4649\"                                 \n",
       " [4] \"4534\"                                 \n",
       " [5] \"4581\"                                 \n",
       " [6] \"4662\"                                 \n",
       " [7] \"4658\"                                 \n",
       " [8] \"Canada/ON-PHL-21-44225/2021\"          \n",
       " [9] \"USA/MI-MDHHS-SC23517/2020\"            \n",
       "[10] \"USA/MI-MDHHS-SC22669/2020\"            \n",
       "[11] \"mink/USA/MI-CDC-3886954-001/2020\"     \n",
       "[12] \"mink/USA/MI-CDC-3886572-001/2020\"     \n",
       "[13] \"mink/USA/MI-CDC-3886516-001/2020\"     \n",
       "[14] \"mink/USA/MI-CDC-3886779-001/2020\"     \n",
       "[15] \"mink/USA/MI-CDC-3886891-001/2020\"     \n",
       "[16] \"USA/MI-MDHHS-SC22140/2020\"            \n",
       "[17] \"USA/MI-MDHHS-SC22125/2020\"            \n",
       "[18] \"USA/NJ-NYGC-NJ-BioR-303-AmpliSeq/2020\"\n",
       "[19] \"mink/USA/WI-CDC-3892612-001/2020\"     \n",
       "[20] \"mink/USA/WI-CDC-3892613-001/2020\"     \n",
       "[21] \"mink/USA/WI-CDC-3892918-001/2020\"     \n",
       "[22] \"mink/USA/WI-CDC-3892848-001/2020\"     \n",
       "[23] \"mink/USA/WI-CDC-3892621-001/2020\"     \n",
       "[24] \"mink/USA/WI-CDC-3892618-001/2020\"     \n",
       "[25] \"mink/USA/WI-20-031493-001/2020\"       \n",
       "[26] \"USA/NE-CUMC_21081058/2021\"            \n",
       "[27] \"USA/TX-HMH-MCoV-8963/2020\"            \n",
       "[28] \"USA/TX-HMH-MCoV-8462/2020\"            \n",
       "[29] \"USA/TX-HMH-MCoV-40474/2020\"           \n",
       "[30] \"USA/TX-HMH-MCoV-33283/2020\"           \n",
       "[31] \"USA/TX-HMH-MCoV-40932/2020\"           \n",
       "[32] \"USA/TX-HMH-MCoV-39934/2020\"           \n",
       "[33] \"USA/TX-HMH-4685/2020\"                 \n",
       "[34] \"USA/CO-CDPHE-2010132029/2020\"         \n",
       "[35] \"USA/CA-CZB-13805/2020\"                \n",
       "[36] \"USA/TX-HMH-MCoV-34510/2020\"           \n",
       "[37] \"USA/TX-HMH-MCoV-16519/2020\"           "
      ]
     },
     "metadata": {},
     "output_type": "display_data"
    }
   ],
   "source": [
    "rownames(dfaa)"
   ]
  },
  {
   "cell_type": "code",
   "execution_count": 53,
   "id": "a8b46d0d",
   "metadata": {
    "ExecuteTime": {
     "end_time": "2022-04-29T21:47:41.180060Z",
     "start_time": "2022-04-29T21:47:35.940Z"
    }
   },
   "outputs": [],
   "source": [
    "dfaa_heatmap = as.data.frame(dfaa[,colnames(dfaa)[2:ncol(dfaa)]])"
   ]
  },
  {
   "cell_type": "code",
   "execution_count": 54,
   "id": "912554e7",
   "metadata": {
    "ExecuteTime": {
     "end_time": "2022-04-29T21:47:41.191080Z",
     "start_time": "2022-04-29T21:47:35.941Z"
    }
   },
   "outputs": [],
   "source": [
    "rownames(dfaa_heatmap) = dfaa$sample"
   ]
  },
  {
   "cell_type": "code",
   "execution_count": 55,
   "id": "92b65a6c",
   "metadata": {
    "ExecuteTime": {
     "end_time": "2022-04-29T21:47:41.198550Z",
     "start_time": "2022-04-29T21:47:35.942Z"
    }
   },
   "outputs": [],
   "source": [
    "rownames(hmd_sub) = hmd_sub$sample"
   ]
  },
  {
   "cell_type": "code",
   "execution_count": 56,
   "id": "67d458fa",
   "metadata": {
    "ExecuteTime": {
     "end_time": "2022-04-29T21:47:41.206284Z",
     "start_time": "2022-04-29T21:47:35.943Z"
    }
   },
   "outputs": [],
   "source": [
    "hmd_sub = hmd_sub[dfaa$sample,]"
   ]
  },
  {
   "cell_type": "code",
   "execution_count": 57,
   "id": "253035ec",
   "metadata": {
    "ExecuteTime": {
     "end_time": "2022-04-29T21:47:41.218235Z",
     "start_time": "2022-04-29T21:47:35.944Z"
    }
   },
   "outputs": [],
   "source": [
    "subtree2_tbl = as.tibble(subtree2)"
   ]
  },
  {
   "cell_type": "markdown",
   "id": "016ad381",
   "metadata": {},
   "source": [
    "Read table with AA pattern counts for collapsed node representatives\n",
    "\n",
    "Table looks like this:\n",
    "\n",
    "| sample | count |\n",
    "| --- | --- |\n",
    "| Sample1 | 10 |\n",
    "| Sample2 | 5 |"
   ]
  },
  {
   "cell_type": "code",
   "execution_count": 58,
   "id": "ecd7dbf3",
   "metadata": {
    "ExecuteTime": {
     "end_time": "2022-04-29T21:47:41.235076Z",
     "start_time": "2022-04-29T21:47:35.945Z"
    }
   },
   "outputs": [
    {
     "name": "stderr",
     "output_type": "stream",
     "text": [
      "Warning message in read.table(\"aa-mut-pattern-collapsed-count.tsv\", row.names = 1, :\n",
      "“header and 'col.names' are of different lengths”\n"
     ]
    }
   ],
   "source": [
    "df_collapsed = read.table('aa-mut-pattern-collapsed-count.tsv', row.names = 1, col.names = c('count'))"
   ]
  },
  {
   "cell_type": "markdown",
   "id": "74cbfad3",
   "metadata": {},
   "source": [
    "Set `NA` where `count == 0`"
   ]
  },
  {
   "cell_type": "code",
   "execution_count": 59,
   "id": "7220c80d",
   "metadata": {
    "ExecuteTime": {
     "end_time": "2022-04-29T21:47:41.242840Z",
     "start_time": "2022-04-29T21:47:35.945Z"
    }
   },
   "outputs": [],
   "source": [
    "df_collapsed$count[df_collapsed$count == 0] = NA"
   ]
  },
  {
   "cell_type": "markdown",
   "id": "6f0b97b0",
   "metadata": {},
   "source": [
    "Add collapsed count to tibble tree"
   ]
  },
  {
   "cell_type": "code",
   "execution_count": 60,
   "id": "3a615036",
   "metadata": {
    "ExecuteTime": {
     "end_time": "2022-04-29T21:47:41.250351Z",
     "start_time": "2022-04-29T21:47:35.946Z"
    }
   },
   "outputs": [],
   "source": [
    "subtree2_tbl[['collapsed']] = df_collapsed[subtree2_tbl$label,] "
   ]
  },
  {
   "cell_type": "markdown",
   "id": "7ec598b3",
   "metadata": {},
   "source": [
    "Replace collapsed count where count > 0 (not NA) with label, e.g. `10 collapsed`"
   ]
  },
  {
   "cell_type": "code",
   "execution_count": 61,
   "id": "fb727118",
   "metadata": {
    "ExecuteTime": {
     "end_time": "2022-04-29T21:47:41.258031Z",
     "start_time": "2022-04-29T21:47:35.947Z"
    }
   },
   "outputs": [],
   "source": [
    "subtree2_tbl$collapsed[!is.na(subtree2_tbl$collapsed)] = paste(subtree2_tbl$collapsed[!is.na(subtree2_tbl$collapsed)], 'collapsed')"
   ]
  },
  {
   "cell_type": "markdown",
   "id": "c8b0ff91",
   "metadata": {},
   "source": [
    "Convert tibble back to tree for viz"
   ]
  },
  {
   "cell_type": "code",
   "execution_count": 62,
   "id": "2d02d812",
   "metadata": {
    "ExecuteTime": {
     "end_time": "2022-04-29T21:47:41.268256Z",
     "start_time": "2022-04-29T21:47:35.948Z"
    }
   },
   "outputs": [],
   "source": [
    "subtree2 = treeio::as.treedata(subtree2_tbl)"
   ]
  },
  {
   "cell_type": "markdown",
   "id": "a902f628",
   "metadata": {},
   "source": [
    "Get State/Province and Host metadata for viz beside tree in ggtree heatmap"
   ]
  },
  {
   "cell_type": "code",
   "execution_count": 63,
   "id": "1aa7260d",
   "metadata": {
    "ExecuteTime": {
     "end_time": "2022-04-29T21:47:41.276780Z",
     "start_time": "2022-04-29T21:47:35.949Z"
    }
   },
   "outputs": [],
   "source": [
    "hmd_sub[['State/Province']] = hmd_sub$division\n",
    "hmd_sub[['Host']] = hmd_sub$host"
   ]
  },
  {
   "cell_type": "markdown",
   "id": "b77159f9",
   "metadata": {},
   "source": [
    "Replace `Human` with `Homo sapiens` so that all host species are in Latin"
   ]
  },
  {
   "cell_type": "code",
   "execution_count": 64,
   "id": "bdcb69cd",
   "metadata": {
    "ExecuteTime": {
     "end_time": "2022-04-29T21:47:41.283937Z",
     "start_time": "2022-04-29T21:47:35.950Z"
    }
   },
   "outputs": [],
   "source": [
    "hmd_sub$Host[hmd_sub$Host == 'Human'] = 'Homo sapiens'"
   ]
  },
  {
   "cell_type": "markdown",
   "id": "7d42b304",
   "metadata": {},
   "source": [
    "# Subtree with AA mutation annotation\n",
    "\n",
    "- colours are set manually with `scale_fill_manual`\n",
    "- gene labels are ordered using `breaks` arg for `scale_fill_manual`\n",
    "- margins are adjusted with `theme`"
   ]
  },
  {
   "cell_type": "code",
   "execution_count": 67,
   "id": "2a89f4cc",
   "metadata": {
    "ExecuteTime": {
     "end_time": "2022-05-02T19:49:36.448231Z",
     "start_time": "2022-05-02T19:49:35.828Z"
    }
   },
   "outputs": [
    {
     "name": "stderr",
     "output_type": "stream",
     "text": [
      "Warning message in FUN(X[[i]], ...):\n",
      "“NAs introduced by coercion”\n",
      "Warning message in FUN(X[[i]], ...):\n",
      "“NAs introduced by coercion”\n",
      "Warning message in FUN(X[[i]], ...):\n",
      "“NAs introduced by coercion”\n",
      "Warning message in FUN(X[[i]], ...):\n",
      "“NAs introduced by coercion”\n",
      "Warning message in FUN(X[[i]], ...):\n",
      "“NAs introduced by coercion”\n",
      "Warning message in FUN(X[[i]], ...):\n",
      "“NAs introduced by coercion”\n",
      "Warning message in FUN(X[[i]], ...):\n",
      "“NAs introduced by coercion”\n",
      "Warning message in FUN(X[[i]], ...):\n",
      "“NAs introduced by coercion”\n",
      "Warning message in FUN(X[[i]], ...):\n",
      "“NAs introduced by coercion”\n",
      "Warning message in FUN(X[[i]], ...):\n",
      "“NAs introduced by coercion”\n",
      "Warning message in FUN(X[[i]], ...):\n",
      "“NAs introduced by coercion”\n",
      "Warning message in FUN(X[[i]], ...):\n",
      "“NAs introduced by coercion”\n",
      "Scale for 'fill' is already present. Adding another scale for 'fill', which\n",
      "will replace the existing scale.\n",
      "\n",
      "Scale for 'fill' is already present. Adding another scale for 'fill', which\n",
      "will replace the existing scale.\n",
      "\n",
      "Scale for 'y' is already present. Adding another scale for 'y', which will\n",
      "replace the existing scale.\n",
      "\n",
      "Scale for 'fill' is already present. Adding another scale for 'fill', which\n",
      "will replace the existing scale.\n",
      "\n",
      "Warning message in FUN(X[[i]], ...):\n",
      "“NAs introduced by coercion”\n",
      "Warning message in FUN(X[[i]], ...):\n",
      "“NAs introduced by coercion”\n",
      "Warning message in FUN(X[[i]], ...):\n",
      "“NAs introduced by coercion”\n",
      "Warning message in FUN(X[[i]], ...):\n",
      "“NAs introduced by coercion”\n",
      "Warning message in FUN(X[[i]], ...):\n",
      "“NAs introduced by coercion”\n",
      "Warning message in FUN(X[[i]], ...):\n",
      "“NAs introduced by coercion”\n",
      "Warning message in FUN(X[[i]], ...):\n",
      "“NAs introduced by coercion”\n",
      "Warning message in FUN(X[[i]], ...):\n",
      "“NAs introduced by coercion”\n",
      "Warning message in FUN(X[[i]], ...):\n",
      "“NAs introduced by coercion”\n",
      "Warning message in FUN(X[[i]], ...):\n",
      "“NAs introduced by coercion”\n",
      "Warning message in FUN(X[[i]], ...):\n",
      "“NAs introduced by coercion”\n",
      "Warning message in FUN(X[[i]], ...):\n",
      "“NAs introduced by coercion”\n"
     ]
    }
   ],
   "source": [
    "p = ggtree(subtree2, aes(color=group)) %<+% df_sub \n",
    "# probably don't need this, but kept since ON WTD clade is set as a \"group\" in the tree as treedata\n",
    "p = p + scale_color_manual(values=c(dark_gray, dark_gray), guide='none')\n",
    "p = p + new_scale_color()\n",
    "# highlight nodes with >=95% UFBoot\n",
    "p = p + geom_nodepoint(aes(label=as.numeric(label), subset=(!is.na(as.numeric(label)) & as.numeric(label) >= 95)),\n",
    "                      size=1, color='darkgreen')\n",
    "p = p + geom_text2(aes(label=as.numeric(label), \n",
    "                       subset=(!is.na(as.numeric(label)) & as.numeric(label) >= 95 & !(label %in% on_wtd_names) )),\n",
    "                      size=2, nudge_x=0.00011, nudge_y=-0.2)\n",
    "p = p + new_scale_color()\n",
    "# Highlight host species in tip label colours and dotted lines\n",
    "p = p + geom_tiplab(aes(color=host), align=T, size=2.7, linetype='dotted', show.legend=F, linesize = 0.1)\n",
    "p = p + scale_color_manual(values = c(\n",
    "#     '#f781bf', # pink\n",
    "#     '#e41a1c', # red\n",
    "    '#e6ab02', #yellow\n",
    "    '#4daf4a', # green\n",
    "    '#d95f02' # orange\n",
    "), na.translate=F, guide='none')\n",
    "p = p + new_scale_color()\n",
    "p = p + geom_tiplab(aes(label=collapsed), offset=0.0001, size=2.5, show.legend=F, color=dark_gray, geom='label')\n",
    "\n",
    "# offset and offset step needs to be set manually and adjusted based on plot size to ensure proper placement of\n",
    "# plot elements beside tree\n",
    "offset = 0.0032\n",
    "offset_step = 0.0002\n",
    "\n",
    "hm_col_fontsize = 2.7\n",
    "# Highlight host species as rects beside tree\n",
    "p = gheatmap(p, hmd_sub['Host'], font.size=hm_col_fontsize, colnames=T,\n",
    "             colnames_offset_y=-0.25, hjust=0, colnames_angle=45, colnames_position=\"top\",\n",
    "             width=0.05, \n",
    "             offset=offset,\n",
    "             color=NULL)\n",
    "p = p + scale_fill_manual(values = c(\n",
    "#     '#f781bf', # pink\n",
    "#     '#e41a1c', # red\n",
    "    '#e6ab02', #yellow\n",
    "    '#4daf4a', # green\n",
    "    '#d95f02' # orange\n",
    "), na.translate=F, guide=guide_legend(title='Host', label.theme=element_text(face='italic', size=10)))\n",
    "\n",
    "p = p + new_scale_fill()\n",
    "\n",
    "offset = offset + offset_step\n",
    "\n",
    "p = gheatmap(p, hmd_sub['State/Province'], font.size=hm_col_fontsize,\n",
    "             colnames_offset_y=-0.25, hjust=0, colnames_angle=45, colnames_position=\"top\",\n",
    "             width=0.05, \n",
    "             offset=offset, \n",
    "             colnames=T, \n",
    "             color=NULL)\n",
    "\n",
    "p = p + scale_fill_brewer(palette = 'Set3', na.translate=F, guide=guide_legend(title='State/Province'))\n",
    "\n",
    "p = p + new_scale_fill()\n",
    "\n",
    "offset = offset + offset_step + 0.00005\n",
    "# add gheatmap of AA mutation data\n",
    "p = gheatmap(p, dfaa_heatmap, font.size=hm_col_fontsize,\n",
    "             colnames_offset_y=-0.25, hjust=0, colnames_angle=45, colnames_position=\"top\",\n",
    "             width=4, \n",
    "             offset=offset, \n",
    "             colnames=T,\n",
    "             color='#eeeeee')\n",
    "\n",
    "# expand y-axis by a little bit so that AA mutation matrix y-axis labels don't get cut off\n",
    "p = p + scale_y_continuous(expand = c(0.08,0))\n",
    "# manually set gene colours and order of genes for the legend; default is alphabetical\n",
    "p = p + scale_fill_manual(breaks=c(\n",
    "'ORF1a',\n",
    "'ORF1b',\n",
    "'S',\n",
    "'ORF3a',\n",
    "'E',\n",
    "'ORF8',\n",
    "'N',\n",
    "'*No Coverage',\n",
    "'-'\n",
    "), \n",
    "values=c(\n",
    "'#1b9e77',\n",
    "'#d95f02',\n",
    "'#7570b3',\n",
    "'#e7298a',\n",
    "'#66a61e',\n",
    "'#e6ab02',\n",
    "'#a6761d',\n",
    "'gray',\n",
    "'white'\n",
    "), na.translate=F, guide=guide_legend(title='Gene'))\n",
    "\n",
    "\n",
    "p = p + theme(plot.margin=margin(0, 0.1, -1.8, -1.7, \"cm\"), legend.margin=margin(0,0,-0,-1.75,'cm'),\n",
    "              plot.background=element_rect(fill = \"transparent\", color='transparent'),\n",
    "              panel.background=element_rect(fill='transparent', color='transparent'))\n",
    "# saving to PDF and viewing with evince for high res, hot-reloading viz of figure\n",
    "ggsave(plot = p, filename = 'subtree-collapsed-UFBoot.pdf', height = 10, width = 16)"
   ]
  },
  {
   "cell_type": "markdown",
   "id": "f1c65e86",
   "metadata": {},
   "source": [
    "# Subtree with uncollapsed nodes\n",
    "\n",
    "Taxa not collapsed down to unique AA profiles"
   ]
  },
  {
   "cell_type": "code",
   "execution_count": 66,
   "id": "1e53d940",
   "metadata": {
    "ExecuteTime": {
     "end_time": "2022-04-29T21:47:42.285167Z",
     "start_time": "2022-04-29T21:47:35.953Z"
    }
   },
   "outputs": [
    {
     "name": "stderr",
     "output_type": "stream",
     "text": [
      "Scale for 'fill' is already present. Adding another scale for 'fill', which\n",
      "will replace the existing scale.\n",
      "\n",
      "Scale for 'fill' is already present. Adding another scale for 'fill', which\n",
      "will replace the existing scale.\n",
      "\n",
      "Scale for 'y' is already present. Adding another scale for 'y', which will\n",
      "replace the existing scale.\n",
      "\n",
      "Scale for 'fill' is already present. Adding another scale for 'fill', which\n",
      "will replace the existing scale.\n",
      "\n",
      "Warning message in FUN(X[[i]], ...):\n",
      "“NAs introduced by coercion”\n",
      "Warning message in FUN(X[[i]], ...):\n",
      "“NAs introduced by coercion”\n",
      "Warning message in FUN(X[[i]], ...):\n",
      "“NAs introduced by coercion”\n",
      "Warning message in FUN(X[[i]], ...):\n",
      "“NAs introduced by coercion”\n",
      "Warning message in FUN(X[[i]], ...):\n",
      "“NAs introduced by coercion”\n",
      "Warning message in FUN(X[[i]], ...):\n",
      "“NAs introduced by coercion”\n"
     ]
    }
   ],
   "source": [
    "p = ggtree(subtree2, aes(color=group)) %<+% df_sub \n",
    "\n",
    "p = p + scale_color_manual(values=c(dark_gray, dark_gray), guide='none')\n",
    "p = p + new_scale_color()\n",
    "p = p + geom_nodepoint(aes(label=as.numeric(label), subset=(!is.na(as.numeric(label)) & as.numeric(label) > 95)),\n",
    "                      size=1, color='green')\n",
    "\n",
    "p = p + geom_tiplab(align=T, size=1.5, linetype='dotted', show.legend=F, color=dark_gray, linesize = 0.1)\n",
    "\n",
    "offset = 0.0015\n",
    "offset_step = 0.0002\n",
    "\n",
    "p = gheatmap(p, hmd_sub['host'], font.size = 2,\n",
    "             colnames_offset_y=0, hjust=0, colnames_angle=45, colnames_position=\"top\",\n",
    "             width=0.05, \n",
    "             offset=offset,\n",
    "             colnames=T,\n",
    "             color=NULL)\n",
    "p = p + scale_fill_manual(values = c(\n",
    "    '#f781bf', # pink\n",
    "    '#e41a1c', # red\n",
    "    '#e6ab02', #yellow\n",
    "    '#4daf4a', # green\n",
    "    '#d95f02' # orange\n",
    "), na.translate=F, guide=guide_legend(title='Host'))\n",
    "\n",
    "p = p + new_scale_fill()\n",
    "\n",
    "offset = offset + offset_step\n",
    "\n",
    "p = gheatmap(p, hmd_sub['division'], font.size = 2,\n",
    "             colnames_offset_y=0, hjust=0, colnames_angle=45, colnames_position=\"top\",\n",
    "             width=0.05, \n",
    "             offset=offset, \n",
    "             colnames=T, \n",
    "             color=NULL)\n",
    "\n",
    "p = p + scale_fill_brewer(palette = 'Set3', na.translate=F, guide=guide_legend(title='State/Province'))\n",
    "\n",
    "p = p + new_scale_fill()\n",
    "\n",
    "offset = offset + offset_step + 0.00005\n",
    "\n",
    "p = gheatmap(p, dfaa_heatmap, font.size = 2, \n",
    "             colnames_offset_y=0, hjust=0, colnames_angle=45, colnames_position=\"top\",\n",
    "             width=4, \n",
    "             offset=offset, \n",
    "             colnames=T,\n",
    "             color='#eeeeee')\n",
    "\n",
    "p = p + scale_y_continuous(expand = c(0.075,0))\n",
    "p = p + scale_fill_manual(values=c(\n",
    "'white',\n",
    "'gray',\n",
    "'#1b9e77',\n",
    "'#d95f02',\n",
    "'#7570b3',\n",
    "'#e7298a',\n",
    "'#66a61e',\n",
    "'#e6ab02',\n",
    "'#a6761d',\n",
    "'#666666'\n",
    "), na.translate=F, guide=guide_legend(title='Gene'))\n",
    "\n",
    "\n",
    "p = p + theme(plot.margin=margin(0, 0, -1.5, -1.75, \"cm\"), legend.margin=margin(0,0,0,-1.75,'cm'),\n",
    "              plot.background=element_rect(fill = \"transparent\", color='transparent'),\n",
    "              panel.background=element_rect(fill='transparent', color='transparent'))\n",
    "\n",
    "ggsave(plot = p, filename = 'subtree-uncollapsed-UFBoot.pdf', height = 10, width = 16)"
   ]
  }
 ],
 "metadata": {
  "kernelspec": {
   "display_name": "R",
   "language": "R",
   "name": "ir"
  },
  "language_info": {
   "codemirror_mode": "r",
   "file_extension": ".r",
   "mimetype": "text/x-r-source",
   "name": "R",
   "pygments_lexer": "r",
   "version": "4.1.2"
  }
 },
 "nbformat": 4,
 "nbformat_minor": 5
}
