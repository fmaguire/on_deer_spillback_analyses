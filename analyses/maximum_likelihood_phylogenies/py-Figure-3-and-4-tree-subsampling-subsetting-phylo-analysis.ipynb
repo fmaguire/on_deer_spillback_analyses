{
 "cells": [
  {
   "cell_type": "markdown",
   "metadata": {},
   "source": [
    "# Tree from most closely related sequences\n",
    "\n",
    "This notebook was used for getting the most closely related sequences from a large tree of diverse SARS-CoV-2 from multiple VOC, clades and lineages including closely related sequences identified by UShER analysis. A maximum-likelihood tree was generated with IQ-TREE from a MAFFT multiple-sequence alignment of the Ontario WTD and human plus the most closely related sequences totalling 157 sequences. This 157 taxa tree was used to generate the tree in Figure 3 after some post-processing to collapse nodes with identical amino acid mutation patterns relative to the ON WTD sequences."
   ]
  },
  {
   "cell_type": "code",
   "execution_count": 96,
   "metadata": {
    "ExecuteTime": {
     "end_time": "2022-02-16T14:52:12.989547Z",
     "start_time": "2022-02-16T14:52:12.985226Z"
    }
   },
   "outputs": [],
   "source": [
    "import pandas as pd"
   ]
  },
  {
   "cell_type": "markdown",
   "metadata": {},
   "source": [
    "Read metadata about all sequences in 9163 taxa tree"
   ]
  },
  {
   "cell_type": "code",
   "execution_count": 97,
   "metadata": {
    "ExecuteTime": {
     "end_time": "2022-02-16T14:52:13.187381Z",
     "start_time": "2022-02-16T14:52:13.170023Z"
    }
   },
   "outputs": [],
   "source": [
    "df = pd.read_table('metadata.tsv')"
   ]
  },
  {
   "cell_type": "code",
   "execution_count": 98,
   "metadata": {
    "ExecuteTime": {
     "end_time": "2022-02-16T14:52:13.377125Z",
     "start_time": "2022-02-16T14:52:13.366338Z"
    }
   },
   "outputs": [],
   "source": [
    "df = df.set_index('sample')"
   ]
  },
  {
   "cell_type": "code",
   "execution_count": 99,
   "metadata": {
    "ExecuteTime": {
     "end_time": "2022-02-16T14:52:13.938449Z",
     "start_time": "2022-02-16T14:52:13.919606Z"
    }
   },
   "outputs": [
    {
     "data": {
      "text/plain": [
       "B.1          4604\n",
       "B.1.311      3817\n",
       "B.1.2          83\n",
       "AY.44          32\n",
       "B.1.160        26\n",
       "             ... \n",
       "B.1.1.221       1\n",
       "B.1.452         1\n",
       "B.1.1.362       1\n",
       "B.1.1.39        1\n",
       "B.1.239         1\n",
       "Name: lineage, Length: 161, dtype: int64"
      ]
     },
     "execution_count": 99,
     "metadata": {},
     "output_type": "execute_result"
    }
   ],
   "source": [
    "df.lineage.value_counts()"
   ]
  },
  {
   "cell_type": "markdown",
   "metadata": {},
   "source": [
    "Read tree with BioPython's Phylo module"
   ]
  },
  {
   "cell_type": "code",
   "execution_count": 100,
   "metadata": {
    "ExecuteTime": {
     "end_time": "2022-02-16T14:52:14.374334Z",
     "start_time": "2022-02-16T14:52:14.367872Z"
    }
   },
   "outputs": [],
   "source": [
    "from Bio import Phylo"
   ]
  },
  {
   "cell_type": "code",
   "execution_count": 101,
   "metadata": {
    "ExecuteTime": {
     "end_time": "2022-02-16T14:52:17.931365Z",
     "start_time": "2022-02-16T14:52:17.727970Z"
    }
   },
   "outputs": [],
   "source": [
    "tree = Phylo.read('results-B.1.311/iqtree/iqtree-MN908947.3-GTR.treefile', format='newick')"
   ]
  },
  {
   "cell_type": "code",
   "execution_count": 102,
   "metadata": {
    "ExecuteTime": {
     "end_time": "2022-02-16T14:52:18.612990Z",
     "start_time": "2022-02-16T14:52:18.527043Z"
    }
   },
   "outputs": [
    {
     "data": {
      "text/plain": [
       "9163"
      ]
     },
     "execution_count": 102,
     "metadata": {},
     "output_type": "execute_result"
    }
   ],
   "source": [
    "tree.count_terminals()"
   ]
  },
  {
   "cell_type": "markdown",
   "metadata": {},
   "source": [
    "Find one of the ON WTD taxa"
   ]
  },
  {
   "cell_type": "code",
   "execution_count": 103,
   "metadata": {
    "ExecuteTime": {
     "end_time": "2022-02-16T14:52:19.391772Z",
     "start_time": "2022-02-16T14:52:19.318772Z"
    }
   },
   "outputs": [],
   "source": [
    "node_4662 = tree.find_any(name='4662')"
   ]
  },
  {
   "cell_type": "markdown",
   "metadata": {},
   "source": [
    "Retrieve subtree with less than 300 taxa of related sequences to sample 4662"
   ]
  },
  {
   "cell_type": "code",
   "execution_count": 104,
   "metadata": {
    "ExecuteTime": {
     "end_time": "2022-02-16T14:52:21.991359Z",
     "start_time": "2022-02-16T14:52:21.959304Z"
    }
   },
   "outputs": [
    {
     "name": "stdout",
     "output_type": "stream",
     "text": [
      "2.0138e-06 None 6\n",
      "0.0016228185 None 8\n",
      "0.0004953373 None 10\n",
      "0.0002341633 None 68\n",
      "3.3443e-05 None 69\n",
      "1e-06 None 122\n",
      "1e-06 None 157\n"
     ]
    }
   ],
   "source": [
    "node_under_300 = None\n",
    "for n in tree.get_path(node_4662)[::-1]:\n",
    "    if n.is_terminal():\n",
    "        continue\n",
    "    if n.count_terminals() <= 300:\n",
    "        node_under_300 = n\n",
    "    else:\n",
    "        break\n",
    "    print(n.branch_length, n.name, n.count_terminals())"
   ]
  },
  {
   "cell_type": "code",
   "execution_count": 105,
   "metadata": {
    "ExecuteTime": {
     "end_time": "2022-02-16T14:52:22.995369Z",
     "start_time": "2022-02-16T14:52:22.992188Z"
    }
   },
   "outputs": [],
   "source": [
    "related_samples = [x.name for x in node_under_300.get_terminals()]"
   ]
  },
  {
   "cell_type": "markdown",
   "metadata": {},
   "source": [
    "Obtained subtree of 157 taxa"
   ]
  },
  {
   "cell_type": "code",
   "execution_count": 106,
   "metadata": {
    "ExecuteTime": {
     "end_time": "2022-02-16T14:52:23.391230Z",
     "start_time": "2022-02-16T14:52:23.382555Z"
    }
   },
   "outputs": [
    {
     "data": {
      "text/plain": [
       "157"
      ]
     },
     "execution_count": 106,
     "metadata": {},
     "output_type": "execute_result"
    }
   ],
   "source": [
    "len(related_samples)"
   ]
  },
  {
   "cell_type": "markdown",
   "metadata": {},
   "source": [
    "Subset metadata table to get metadata for 157 subtree taxa"
   ]
  },
  {
   "cell_type": "code",
   "execution_count": 107,
   "metadata": {
    "ExecuteTime": {
     "end_time": "2022-02-16T14:52:24.479309Z",
     "start_time": "2022-02-16T14:52:24.474475Z"
    }
   },
   "outputs": [],
   "source": [
    "df_subtree = df.loc[list(set(related_samples) & set(df.index)),:]"
   ]
  },
  {
   "cell_type": "code",
   "execution_count": 109,
   "metadata": {
    "ExecuteTime": {
     "end_time": "2022-02-16T14:52:30.835782Z",
     "start_time": "2022-02-16T14:52:30.823713Z"
    }
   },
   "outputs": [
    {
     "data": {
      "text/plain": [
       "B.1        144\n",
       "B.1.311      8\n",
       "B.1.516      2\n",
       "B.1.582      2\n",
       "B.1.2        1\n",
       "Name: lineage, dtype: int64"
      ]
     },
     "execution_count": 109,
     "metadata": {},
     "output_type": "execute_result"
    }
   ],
   "source": [
    "df_subtree.lineage.value_counts()"
   ]
  },
  {
   "cell_type": "markdown",
   "metadata": {},
   "source": [
    "Remove major outliers according to visual inspection in Dendroscope"
   ]
  },
  {
   "cell_type": "code",
   "execution_count": 120,
   "metadata": {
    "ExecuteTime": {
     "end_time": "2022-02-16T14:53:07.721786Z",
     "start_time": "2022-02-16T14:53:07.719991Z"
    }
   },
   "outputs": [],
   "source": [
    "outliers = '''\n",
    "Nigeria/MRL-0S-0446/2021\n",
    "'''.strip().split('\\n')"
   ]
  },
  {
   "cell_type": "code",
   "execution_count": 121,
   "metadata": {
    "ExecuteTime": {
     "end_time": "2022-02-16T14:53:07.975513Z",
     "start_time": "2022-02-16T14:53:07.972517Z"
    }
   },
   "outputs": [
    {
     "data": {
      "text/plain": [
       "['Nigeria/MRL-0S-0446/2021']"
      ]
     },
     "execution_count": 121,
     "metadata": {},
     "output_type": "execute_result"
    }
   ],
   "source": [
    "outliers"
   ]
  },
  {
   "cell_type": "code",
   "execution_count": 122,
   "metadata": {
    "ExecuteTime": {
     "end_time": "2022-02-16T14:53:09.102446Z",
     "start_time": "2022-02-16T14:53:09.090673Z"
    }
   },
   "outputs": [],
   "source": [
    "for outlier in outliers:\n",
    "    tree.prune(target=outlier)"
   ]
  },
  {
   "cell_type": "code",
   "execution_count": 123,
   "metadata": {
    "ExecuteTime": {
     "end_time": "2022-02-16T14:53:15.955333Z",
     "start_time": "2022-02-16T14:53:15.879396Z"
    }
   },
   "outputs": [
    {
     "data": {
      "text/plain": [
       "9162"
      ]
     },
     "execution_count": 123,
     "metadata": {},
     "output_type": "execute_result"
    }
   ],
   "source": [
    "tree.count_terminals()"
   ]
  },
  {
   "cell_type": "markdown",
   "metadata": {},
   "source": [
    "Write tree without outlier(s) to file ensuring that BioPython doesn't trim branch length decimal numbers."
   ]
  },
  {
   "cell_type": "code",
   "execution_count": 66,
   "metadata": {
    "ExecuteTime": {
     "end_time": "2022-02-15T22:20:24.636044Z",
     "start_time": "2022-02-15T22:20:24.581827Z"
    }
   },
   "outputs": [
    {
     "data": {
      "text/plain": [
       "1"
      ]
     },
     "execution_count": 66,
     "metadata": {},
     "output_type": "execute_result"
    }
   ],
   "source": [
    "Phylo.write(tree, 'global-tree-without-outlier.newick', 'newick', format_branch_length=\"%f\")"
   ]
  },
  {
   "cell_type": "markdown",
   "metadata": {},
   "source": [
    "## Add WHO Clade Metadata\n",
    "\n",
    "Info about which lineages belong to which WHO clades was retrieved from https://cov-lineages.org/lineage_list.html"
   ]
  },
  {
   "cell_type": "code",
   "execution_count": 186,
   "metadata": {
    "ExecuteTime": {
     "end_time": "2022-02-16T18:11:24.269230Z",
     "start_time": "2022-02-16T18:11:24.264527Z"
    }
   },
   "outputs": [],
   "source": [
    "who_clades = dict(\n",
    "    Delta=r'B\\.1\\.617\\.2|AY\\..*',\n",
    "    Omicron=r'BA\\..*|B\\.1\\.1\\.529',\n",
    "    Eta=['B.1.525'],\n",
    "    Iota=[\n",
    "    'B.1.526',\n",
    "    'B.1.526.1',\n",
    "    'B.1.526.2',\n",
    "    'B.1.526.3',],\n",
    "    Beta=[\n",
    "    'B.1.351',\n",
    "    'B.1.351.1',\n",
    "    'B.1.351.2',\n",
    "    'B.1.351.3',\n",
    "    'B.1.351.4',\n",
    "    'B.1.351.5',],\n",
    "    Gamma=[\n",
    "    'P.1',\n",
    "    'P.1.1',\n",
    "    'P.1.2',\n",
    "    'P.1.3',\n",
    "    'P.1.4',\n",
    "    'P.1.5',\n",
    "    'P.1.6',\n",
    "    'P.1.7',\n",
    "    'P.1.7.1',\n",
    "    'P.1.8',\n",
    "    'P.1.9',\n",
    "    'P.1.10',\n",
    "    'P.1.10.1',\n",
    "    'P.1.10.2',\n",
    "    'P.1.11',\n",
    "    'P.1.12',\n",
    "    'P.1.12.1',\n",
    "    'P.1.13',\n",
    "    'P.1.14',\n",
    "    'P.1.15',\n",
    "    'P.1.16',\n",
    "    'P.1.17',\n",
    "    'P.1.17.1',],\n",
    "    Epsilon=[\n",
    "    'B.1.429',\n",
    "    'B.1.429.1',\n",
    "    'B.1.427',],\n",
    "    Alpha=[\n",
    "    'B.1.1.7',\n",
    "    'Q.1',\n",
    "    'Q.2',\n",
    "    'Q.3',\n",
    "    'Q.4',\n",
    "    'Q.5',\n",
    "    'Q.6',\n",
    "    'Q.7',\n",
    "    'Q.8',],\n",
    "    Mu=[\n",
    "    'B.1.621',\n",
    "    'B.1.621.1',\n",
    "    'B.1.621.2',\n",
    "    'BB.1',\n",
    "    'BB.2',],\n",
    "    Lambda=[\n",
    "        'C.37',\n",
    "        'C.37.1',],\n",
    ")"
   ]
  },
  {
   "cell_type": "code",
   "execution_count": 187,
   "metadata": {
    "ExecuteTime": {
     "end_time": "2022-02-16T18:11:25.346891Z",
     "start_time": "2022-02-16T18:11:25.305076Z"
    }
   },
   "outputs": [
    {
     "name": "stdout",
     "output_type": "stream",
     "text": [
      "Delta\n",
      "Human                       85\n",
      "Panthera leo                37\n",
      "Panthera tigris             18\n",
      "Canis lupus familiaris      18\n",
      "Felis catus                 15\n",
      "Gorilla gorilla             12\n",
      "Environment                  8\n",
      "Panthera tigris tigris       5\n",
      "Panthera uncia               4\n",
      "Aonyx cinereus               3\n",
      "Neovison vison               2\n",
      "Hippopotamus amphibius       1\n",
      "Crocuta crocuta              1\n",
      "Mustela furo                 1\n",
      "Arctictis binturong          1\n",
      "Panthera tigris sondaica     1\n",
      "Prionailurus viverrinus      1\n",
      "Name: host, dtype: int64\n",
      "========================================================================================================================\n",
      "Omicron\n",
      "Human                   19\n",
      "Mesocricetus auratus    12\n",
      "Environment              1\n",
      "Name: host, dtype: int64\n",
      "========================================================================================================================\n",
      "Eta\n",
      "Human    10\n",
      "Name: host, dtype: int64\n",
      "========================================================================================================================\n",
      "Iota\n",
      "Human                     10\n",
      "Canis lupus familiaris     2\n",
      "Felis catus                1\n",
      "Name: host, dtype: int64\n",
      "========================================================================================================================\n",
      "Beta\n",
      "Human    20\n",
      "Name: host, dtype: int64\n",
      "========================================================================================================================\n",
      "Gamma\n",
      "Human          20\n",
      "Felis catus     1\n",
      "Name: host, dtype: int64\n",
      "========================================================================================================================\n",
      "Epsilon\n",
      "Human          15\n",
      "Felis catus     2\n",
      "Name: host, dtype: int64\n",
      "========================================================================================================================\n",
      "Alpha\n",
      "Felis catus                            9\n",
      "Canis lupus familiaris                 5\n",
      "Aonyx cinereus                         5\n",
      "Panthera tigris jacksoni               3\n",
      "Panthera leo                           2\n",
      "Gorilla gorilla gorilla                2\n",
      "Prionailurus bengalensis euptilurus    1\n",
      "Name: host, dtype: int64\n",
      "========================================================================================================================\n",
      "Mu\n",
      "Human             16\n",
      "Panthera uncia     4\n",
      "Name: host, dtype: int64\n",
      "========================================================================================================================\n",
      "Lambda\n",
      "Human          5\n",
      "Felis catus    3\n",
      "Name: host, dtype: int64\n",
      "========================================================================================================================\n"
     ]
    }
   ],
   "source": [
    "df['VOC'] = None\n",
    "for who_clade, lineages in who_clades.items():\n",
    "    print(who_clade)\n",
    "    if isinstance(lineages, str):\n",
    "        mask = df.lineage.str.match(lineages)\n",
    "    else: # isinstance(lineages, list):\n",
    "        mask = df.lineage.isin(lineages)\n",
    "    print(df.loc[mask,'host'].value_counts())\n",
    "    df.loc[mask, 'VOC'] = who_clade\n",
    "    print('='*120)"
   ]
  },
  {
   "cell_type": "code",
   "execution_count": 126,
   "metadata": {
    "ExecuteTime": {
     "end_time": "2022-02-16T14:53:27.933538Z",
     "start_time": "2022-02-16T14:53:27.921024Z"
    }
   },
   "outputs": [
    {
     "data": {
      "text/plain": [
       "Delta      213\n",
       "Omicron     32\n",
       "Gamma       21\n",
       "Beta        20\n",
       "Epsilon     17\n",
       "Iota        13\n",
       "Eta         10\n",
       "Name: VOC, dtype: int64"
      ]
     },
     "execution_count": 126,
     "metadata": {},
     "output_type": "execute_result"
    }
   ],
   "source": [
    "df.VOC.value_counts()"
   ]
  },
  {
   "cell_type": "markdown",
   "metadata": {},
   "source": [
    "# Prune away most B.1.311 taxa\n",
    "\n",
    "B.1.311 seems to be a Pangolin misclassification of the ON WTD. They don't seem to be related to B.1.311 as closely as B.1.\n",
    "\n",
    "Pruning away most of the B.1.311 except for comparison seems to be a good idea."
   ]
  },
  {
   "cell_type": "code",
   "execution_count": 127,
   "metadata": {
    "ExecuteTime": {
     "end_time": "2022-02-16T14:53:29.367363Z",
     "start_time": "2022-02-16T14:53:29.362296Z"
    }
   },
   "outputs": [
    {
     "data": {
      "text/plain": [
       "type               betacoronavirus\n",
       "accession          EPI_ISL_3105838\n",
       "collection_date         2020-12-09\n",
       "host                         Human\n",
       "clade                           GH\n",
       "lineage                    B.1.311\n",
       "region               North America\n",
       "country                        USA\n",
       "division                California\n",
       "city                 Sonoma County\n",
       "VOC                           None\n",
       "Name: USA/CA-CDPH-2000006330/2020, dtype: object"
      ]
     },
     "execution_count": 127,
     "metadata": {},
     "output_type": "execute_result"
    }
   ],
   "source": [
    "df.loc['USA/CA-CDPH-2000006330/2020',:]"
   ]
  },
  {
   "cell_type": "code",
   "execution_count": 128,
   "metadata": {
    "ExecuteTime": {
     "end_time": "2022-02-16T14:53:31.321405Z",
     "start_time": "2022-02-16T14:53:31.303280Z"
    }
   },
   "outputs": [],
   "source": [
    "b_1_311_sample = 'USA/CA-CDPH-2000006330/2020'\n",
    "node_b_1_311 = tree.find_any(name=b_1_311_sample)"
   ]
  },
  {
   "cell_type": "code",
   "execution_count": 129,
   "metadata": {
    "ExecuteTime": {
     "end_time": "2022-02-16T14:53:34.704554Z",
     "start_time": "2022-02-16T14:53:34.151571Z"
    }
   },
   "outputs": [
    {
     "name": "stdout",
     "output_type": "stream",
     "text": [
      "4\n",
      "2e-06\n",
      "B.1.311    4\n",
      "Name: lineage, dtype: int64\n",
      "================================================================================\n",
      "5\n",
      "3e-06\n",
      "B.1.311    5\n",
      "Name: lineage, dtype: int64\n",
      "================================================================================\n",
      "8\n",
      "4e-06\n",
      "B.1.311    8\n",
      "Name: lineage, dtype: int64\n",
      "================================================================================\n",
      "9\n",
      "4.9999999999999996e-06\n",
      "B.1.311    9\n",
      "Name: lineage, dtype: int64\n",
      "================================================================================\n",
      "10\n",
      "5.999999999999999e-06\n",
      "B.1.311    10\n",
      "Name: lineage, dtype: int64\n",
      "================================================================================\n",
      "11\n",
      "6.999999999999999e-06\n",
      "B.1.311    11\n",
      "Name: lineage, dtype: int64\n",
      "================================================================================\n",
      "24\n",
      "8e-06\n",
      "B.1.311    24\n",
      "Name: lineage, dtype: int64\n",
      "================================================================================\n",
      "25\n",
      "9e-06\n",
      "B.1.311    25\n",
      "Name: lineage, dtype: int64\n",
      "================================================================================\n",
      "43\n",
      "1e-05\n",
      "B.1.311    43\n",
      "Name: lineage, dtype: int64\n",
      "================================================================================\n",
      "92\n",
      "1.1000000000000001e-05\n",
      "B.1.311    92\n",
      "Name: lineage, dtype: int64\n",
      "================================================================================\n",
      "135\n",
      "1.2000000000000002e-05\n",
      "B.1.311    135\n",
      "Name: lineage, dtype: int64\n",
      "================================================================================\n",
      "153\n",
      "1.3000000000000003e-05\n",
      "B.1.311    153\n",
      "Name: lineage, dtype: int64\n",
      "================================================================================\n",
      "155\n",
      "1.4000000000000003e-05\n",
      "B.1.311    155\n",
      "Name: lineage, dtype: int64\n",
      "================================================================================\n",
      "166\n",
      "1.5000000000000004e-05\n",
      "B.1.311    166\n",
      "Name: lineage, dtype: int64\n",
      "================================================================================\n",
      "167\n",
      "4.8443000000000004e-05\n",
      "B.1.311    167\n",
      "Name: lineage, dtype: int64\n",
      "================================================================================\n",
      "182\n",
      "8.188600000000001e-05\n",
      "B.1.311    182\n",
      "Name: lineage, dtype: int64\n",
      "================================================================================\n",
      "199\n",
      "8.2886e-05\n",
      "B.1.311    199\n",
      "Name: lineage, dtype: int64\n",
      "================================================================================\n",
      "217\n",
      "8.3886e-05\n",
      "B.1.311    217\n",
      "Name: lineage, dtype: int64\n",
      "================================================================================\n",
      "220\n",
      "0.000117329\n",
      "B.1.311    220\n",
      "Name: lineage, dtype: int64\n",
      "================================================================================\n",
      "258\n",
      "0.000118329\n",
      "B.1.311    258\n",
      "Name: lineage, dtype: int64\n",
      "================================================================================\n",
      "1522\n",
      "0.000119329\n",
      "B.1.311    1520\n",
      "B.1.119       2\n",
      "Name: lineage, dtype: int64\n",
      "================================================================================\n",
      "1652\n",
      "0.00012032899999999999\n",
      "B.1.311    1650\n",
      "B.1.119       2\n",
      "Name: lineage, dtype: int64\n",
      "================================================================================\n",
      "1803\n",
      "0.00012132899999999999\n",
      "B.1.311    1801\n",
      "B.1.119       2\n",
      "Name: lineage, dtype: int64\n",
      "================================================================================\n",
      "2342\n",
      "0.000122329\n",
      "B.1.311    2340\n",
      "B.1.119       2\n",
      "Name: lineage, dtype: int64\n",
      "================================================================================\n",
      "2615\n",
      "0.00012332899999999998\n",
      "B.1.311    2612\n",
      "B.1.119       2\n",
      "B.1           1\n",
      "Name: lineage, dtype: int64\n",
      "================================================================================\n",
      "2743\n",
      "0.00012432899999999998\n",
      "B.1.311    2740\n",
      "B.1.119       2\n",
      "B.1           1\n",
      "Name: lineage, dtype: int64\n",
      "================================================================================\n",
      "2897\n",
      "0.00012532899999999998\n",
      "B.1.311    2894\n",
      "B.1.119       2\n",
      "B.1           1\n",
      "Name: lineage, dtype: int64\n",
      "================================================================================\n",
      "2995\n",
      "0.00012632899999999998\n",
      "B.1.311    2992\n",
      "B.1.119       2\n",
      "B.1           1\n",
      "Name: lineage, dtype: int64\n",
      "================================================================================\n",
      "3136\n",
      "0.00012732899999999997\n",
      "B.1.311    3133\n",
      "B.1.119       2\n",
      "B.1           1\n",
      "Name: lineage, dtype: int64\n",
      "================================================================================\n",
      "3149\n",
      "0.00012832899999999997\n",
      "B.1.311    3146\n",
      "B.1.119       2\n",
      "B.1           1\n",
      "Name: lineage, dtype: int64\n",
      "================================================================================\n",
      "3202\n",
      "0.00012932899999999997\n",
      "B.1.311    3199\n",
      "B.1.119       2\n",
      "B.1           1\n",
      "Name: lineage, dtype: int64\n",
      "================================================================================\n",
      "3233\n",
      "0.00013032899999999996\n",
      "B.1.311    3230\n",
      "B.1.119       2\n",
      "B.1           1\n",
      "Name: lineage, dtype: int64\n",
      "================================================================================\n",
      "3328\n",
      "0.00016275999999999997\n",
      "B.1.311    3325\n",
      "B.1.119       2\n",
      "B.1           1\n",
      "Name: lineage, dtype: int64\n",
      "================================================================================\n",
      "3329\n",
      "0.00016375999999999996\n",
      "B.1.311    3326\n",
      "B.1.119       2\n",
      "B.1           1\n",
      "Name: lineage, dtype: int64\n",
      "================================================================================\n",
      "3331\n",
      "0.00016475999999999996\n",
      "B.1.311    3328\n",
      "B.1.119       2\n",
      "B.1           1\n",
      "Name: lineage, dtype: int64\n",
      "================================================================================\n",
      "3334\n",
      "0.00019820299999999996\n",
      "B.1.311    3331\n",
      "B.1.119       2\n",
      "B.1           1\n",
      "Name: lineage, dtype: int64\n",
      "================================================================================\n",
      "3400\n",
      "0.00022854669999999996\n",
      "B.1.311    3397\n",
      "B.1.119       2\n",
      "B.1           1\n",
      "Name: lineage, dtype: int64\n",
      "================================================================================\n",
      "3401\n",
      "0.00022954669999999995\n",
      "B.1.311    3398\n",
      "B.1.119       2\n",
      "B.1           1\n",
      "Name: lineage, dtype: int64\n",
      "================================================================================\n",
      "3402\n",
      "0.00023162499999999995\n",
      "B.1.311    3399\n",
      "B.1.119       2\n",
      "B.1           1\n",
      "Name: lineage, dtype: int64\n",
      "================================================================================\n",
      "3403\n",
      "0.00023262499999999995\n",
      "B.1.311    3400\n",
      "B.1.119       2\n",
      "B.1           1\n",
      "Name: lineage, dtype: int64\n",
      "================================================================================\n",
      "3409\n",
      "0.00026546979999999995\n",
      "B.1.311    3406\n",
      "B.1.119       2\n",
      "B.1           1\n",
      "Name: lineage, dtype: int64\n",
      "================================================================================\n",
      "3411\n",
      "0.00029829639999999995\n",
      "B.1.311    3408\n",
      "B.1.119       2\n",
      "B.1           1\n",
      "Name: lineage, dtype: int64\n",
      "================================================================================\n",
      "3416\n",
      "0.00030128049999999997\n",
      "B.1.311    3413\n",
      "B.1.119       2\n",
      "B.1           1\n",
      "Name: lineage, dtype: int64\n",
      "================================================================================\n",
      "3511\n",
      "0.0003022805\n",
      "B.1.311    3508\n",
      "B.1.119       2\n",
      "B.1           1\n",
      "Name: lineage, dtype: int64\n",
      "================================================================================\n",
      "3638\n",
      "0.00033572349999999996\n",
      "B.1.311    3635\n",
      "B.1.119       2\n",
      "B.1           1\n",
      "Name: lineage, dtype: int64\n",
      "================================================================================\n",
      "3643\n",
      "0.0003367235\n",
      "B.1.311    3640\n",
      "B.1.119       2\n",
      "B.1           1\n",
      "Name: lineage, dtype: int64\n",
      "================================================================================\n",
      "3681\n",
      "0.0003377235\n",
      "B.1.311    3678\n",
      "B.1.119       2\n",
      "B.1           1\n",
      "Name: lineage, dtype: int64\n",
      "================================================================================\n",
      "3682\n",
      "0.0003701542\n",
      "B.1.311    3679\n",
      "B.1.119       2\n",
      "B.1           1\n",
      "Name: lineage, dtype: int64\n",
      "================================================================================\n",
      "3700\n",
      "0.0003711542\n",
      "B.1.311    3697\n",
      "B.1.119       2\n",
      "B.1           1\n",
      "Name: lineage, dtype: int64\n",
      "================================================================================\n",
      "3717\n",
      "0.0004045972\n",
      "B.1.311    3714\n",
      "B.1.119       2\n",
      "B.1           1\n",
      "Name: lineage, dtype: int64\n",
      "================================================================================\n"
     ]
    }
   ],
   "source": [
    "clade_mostly_b1311 = None\n",
    "cumul_branch_length = 0.0\n",
    "for n in tree.get_path(node_b_1_311)[::-1]:\n",
    "    cumul_branch_length += n.branch_length\n",
    "    if n.is_terminal():\n",
    "        continue\n",
    "    clade_sample_names = [x.name for x in n.get_terminals()]\n",
    "    print(len(clade_sample_names))\n",
    "    print(cumul_branch_length)\n",
    "    print(df.loc[clade_sample_names, 'lineage'].value_counts())\n",
    "    print('='*80)\n",
    "    if len(clade_sample_names) >= 3717:\n",
    "        clade_mostly_b1311 = n\n",
    "        break"
   ]
  },
  {
   "cell_type": "code",
   "execution_count": 130,
   "metadata": {
    "ExecuteTime": {
     "end_time": "2022-02-16T14:53:39.992719Z",
     "start_time": "2022-02-16T14:53:39.968036Z"
    }
   },
   "outputs": [
    {
     "data": {
      "text/plain": [
       "3717"
      ]
     },
     "execution_count": 130,
     "metadata": {},
     "output_type": "execute_result"
    }
   ],
   "source": [
    "clade_mostly_b1311.count_terminals()"
   ]
  },
  {
   "cell_type": "code",
   "execution_count": 131,
   "metadata": {
    "ExecuteTime": {
     "end_time": "2022-02-16T14:53:42.321640Z",
     "start_time": "2022-02-16T14:53:42.319717Z"
    }
   },
   "outputs": [],
   "source": [
    "def prune_other(tree, names):\n",
    "    for node in tree.get_terminals():\n",
    "        if node.name not in names:\n",
    "            tree.prune(node)"
   ]
  },
  {
   "cell_type": "code",
   "execution_count": 132,
   "metadata": {
    "ExecuteTime": {
     "end_time": "2022-02-16T14:53:43.330144Z",
     "start_time": "2022-02-16T14:53:43.303120Z"
    }
   },
   "outputs": [],
   "source": [
    "b1311_samples_to_subsample = pd.Series(x.name for x in clade_mostly_b1311.get_terminals())"
   ]
  },
  {
   "cell_type": "code",
   "execution_count": 133,
   "metadata": {
    "ExecuteTime": {
     "end_time": "2022-02-16T14:53:44.227922Z",
     "start_time": "2022-02-16T14:53:44.224202Z"
    }
   },
   "outputs": [
    {
     "data": {
      "text/plain": [
       "0       USA/IL-IDPH-SAN-S-0001226/2020\n",
       "1       USA/IL-IDPH-CAS-S-0001075/2020\n",
       "2              USA/NC-UNCC-000121/2020\n",
       "3                USA/VA-DCLS-1758/2020\n",
       "4            USA/NC-CDC-LC0010876/2021\n",
       "                     ...              \n",
       "3712        USA/TX-HMH-MCoV-42782/2020\n",
       "3713         USA/MI-MDHHS-SC21506/2020\n",
       "3714         USA/MI-MDHHS-SC20539/2020\n",
       "3715         USA/MI-MDHHS-SC20546/2020\n",
       "3716       USA/CA-CDPH-2000011986/2020\n",
       "Length: 3717, dtype: object"
      ]
     },
     "execution_count": 133,
     "metadata": {},
     "output_type": "execute_result"
    }
   ],
   "source": [
    "b1311_samples_to_subsample"
   ]
  },
  {
   "cell_type": "code",
   "execution_count": 134,
   "metadata": {
    "ExecuteTime": {
     "end_time": "2022-02-16T14:53:47.140510Z",
     "start_time": "2022-02-16T14:53:47.134921Z"
    }
   },
   "outputs": [],
   "source": [
    "b1311_sub50 = b1311_samples_to_subsample.sample(n=50)"
   ]
  },
  {
   "cell_type": "code",
   "execution_count": 135,
   "metadata": {
    "ExecuteTime": {
     "end_time": "2022-02-16T14:53:51.259711Z",
     "start_time": "2022-02-16T14:53:51.253009Z"
    }
   },
   "outputs": [],
   "source": [
    "b1311_to_prune = list(set(b1311_samples_to_subsample) - set(b1311_sub50))"
   ]
  },
  {
   "cell_type": "code",
   "execution_count": 136,
   "metadata": {
    "ExecuteTime": {
     "end_time": "2022-02-16T14:53:51.832129Z",
     "start_time": "2022-02-16T14:53:51.824237Z"
    }
   },
   "outputs": [
    {
     "data": {
      "text/plain": [
       "3667"
      ]
     },
     "execution_count": 136,
     "metadata": {},
     "output_type": "execute_result"
    }
   ],
   "source": [
    "len(b1311_to_prune)"
   ]
  },
  {
   "cell_type": "code",
   "execution_count": 137,
   "metadata": {
    "ExecuteTime": {
     "end_time": "2022-02-16T14:54:42.274503Z",
     "start_time": "2022-02-16T14:54:42.215524Z"
    }
   },
   "outputs": [],
   "source": [
    "sample_node = {n.name: n for n in tree.get_terminals()}"
   ]
  },
  {
   "cell_type": "code",
   "execution_count": 138,
   "metadata": {
    "ExecuteTime": {
     "end_time": "2022-02-16T14:55:17.992780Z",
     "start_time": "2022-02-16T14:55:15.992393Z"
    }
   },
   "outputs": [],
   "source": [
    "for name in b1311_to_prune:\n",
    "    n = sample_node.get(name, None)\n",
    "    if n is not None:\n",
    "        tree.prune(n)"
   ]
  },
  {
   "cell_type": "code",
   "execution_count": 139,
   "metadata": {
    "ExecuteTime": {
     "end_time": "2022-02-16T14:55:18.746883Z",
     "start_time": "2022-02-16T14:55:18.711700Z"
    }
   },
   "outputs": [
    {
     "data": {
      "text/plain": [
       "5495"
      ]
     },
     "execution_count": 139,
     "metadata": {},
     "output_type": "execute_result"
    }
   ],
   "source": [
    "tree.count_terminals()"
   ]
  },
  {
   "cell_type": "markdown",
   "metadata": {},
   "source": [
    "## Prune sample with no metadata\n",
    "\n",
    "For some reason some samples do not have a metadata entry. ASCII vs Unicode issue?"
   ]
  },
  {
   "cell_type": "code",
   "execution_count": 143,
   "metadata": {
    "ExecuteTime": {
     "end_time": "2022-02-16T14:57:47.756046Z",
     "start_time": "2022-02-16T14:57:47.729351Z"
    }
   },
   "outputs": [
    {
     "data": {
      "text/plain": [
       "Clade(branch_length=0.0001337897)"
      ]
     },
     "execution_count": 143,
     "metadata": {},
     "output_type": "execute_result"
    }
   ],
   "source": [
    "tree.prune(sample_node['Cote_d_Ivoire/BKE1402-bc14/2020'])"
   ]
  },
  {
   "cell_type": "code",
   "execution_count": 144,
   "metadata": {
    "ExecuteTime": {
     "end_time": "2022-02-16T14:57:53.734783Z",
     "start_time": "2022-02-16T14:57:53.700875Z"
    }
   },
   "outputs": [
    {
     "data": {
      "text/plain": [
       "5494"
      ]
     },
     "execution_count": 144,
     "metadata": {},
     "output_type": "execute_result"
    }
   ],
   "source": [
    "tree.count_terminals()"
   ]
  },
  {
   "cell_type": "code",
   "execution_count": 140,
   "metadata": {
    "ExecuteTime": {
     "end_time": "2022-02-16T14:56:06.524053Z",
     "start_time": "2022-02-16T14:56:06.490818Z"
    }
   },
   "outputs": [],
   "source": [
    "sample_node = {n.name: n for n in tree.get_terminals()}"
   ]
  },
  {
   "cell_type": "code",
   "execution_count": 146,
   "metadata": {
    "ExecuteTime": {
     "end_time": "2022-02-16T15:04:23.885167Z",
     "start_time": "2022-02-16T15:04:23.878495Z"
    }
   },
   "outputs": [],
   "source": [
    "samples_set = set(df.index)\n",
    "df = df.loc[[x for x in sample_node.keys() if x in samples_set],:]"
   ]
  },
  {
   "cell_type": "code",
   "execution_count": 147,
   "metadata": {
    "ExecuteTime": {
     "end_time": "2022-02-16T15:04:28.712721Z",
     "start_time": "2022-02-16T15:04:28.709742Z"
    }
   },
   "outputs": [
    {
     "data": {
      "text/plain": [
       "(5493, 11)"
      ]
     },
     "execution_count": 147,
     "metadata": {},
     "output_type": "execute_result"
    }
   ],
   "source": [
    "df.shape"
   ]
  },
  {
   "cell_type": "code",
   "execution_count": 151,
   "metadata": {
    "ExecuteTime": {
     "end_time": "2022-02-16T15:07:12.064144Z",
     "start_time": "2022-02-16T15:07:12.057660Z"
    }
   },
   "outputs": [],
   "source": [
    "b1_human_to_subsample_from = set(df.query('lineage == \"B.1\" and host == \"Human\"').index) - set(df_subtree.index)"
   ]
  },
  {
   "cell_type": "code",
   "execution_count": 153,
   "metadata": {
    "ExecuteTime": {
     "end_time": "2022-02-16T15:07:51.899154Z",
     "start_time": "2022-02-16T15:07:51.891177Z"
    }
   },
   "outputs": [
    {
     "data": {
      "text/plain": [
       "4385"
      ]
     },
     "execution_count": 153,
     "metadata": {},
     "output_type": "execute_result"
    }
   ],
   "source": [
    "len(b1_human_to_subsample_from)"
   ]
  },
  {
   "cell_type": "code",
   "execution_count": 157,
   "metadata": {
    "ExecuteTime": {
     "end_time": "2022-02-16T15:08:33.542651Z",
     "start_time": "2022-02-16T15:08:33.540000Z"
    }
   },
   "outputs": [],
   "source": [
    "b1_human_to_keep = set(pd.Series(list(b1_human_to_subsample_from)).sample(n=200))"
   ]
  },
  {
   "cell_type": "code",
   "execution_count": 159,
   "metadata": {
    "ExecuteTime": {
     "end_time": "2022-02-16T16:21:08.386013Z",
     "start_time": "2022-02-16T16:21:08.382809Z"
    }
   },
   "outputs": [
    {
     "data": {
      "text/plain": [
       "200"
      ]
     },
     "execution_count": 159,
     "metadata": {},
     "output_type": "execute_result"
    }
   ],
   "source": [
    "len(b1_human_to_keep)"
   ]
  },
  {
   "cell_type": "code",
   "execution_count": 160,
   "metadata": {
    "ExecuteTime": {
     "end_time": "2022-02-16T16:21:29.536685Z",
     "start_time": "2022-02-16T16:21:29.533886Z"
    }
   },
   "outputs": [],
   "source": [
    "b1_human_to_prune = list(set(b1_human_to_subsample_from) - set(b1_human_to_keep))"
   ]
  },
  {
   "cell_type": "code",
   "execution_count": 161,
   "metadata": {
    "ExecuteTime": {
     "end_time": "2022-02-16T16:21:35.192565Z",
     "start_time": "2022-02-16T16:21:35.189945Z"
    }
   },
   "outputs": [
    {
     "data": {
      "text/plain": [
       "4185"
      ]
     },
     "execution_count": 161,
     "metadata": {},
     "output_type": "execute_result"
    }
   ],
   "source": [
    "len(b1_human_to_prune)"
   ]
  },
  {
   "cell_type": "code",
   "execution_count": 163,
   "metadata": {
    "ExecuteTime": {
     "end_time": "2022-02-16T16:22:49.695689Z",
     "start_time": "2022-02-16T16:22:49.692612Z"
    }
   },
   "outputs": [
    {
     "data": {
      "text/plain": [
       "5495"
      ]
     },
     "execution_count": 163,
     "metadata": {},
     "output_type": "execute_result"
    }
   ],
   "source": [
    "len(sample_node)"
   ]
  },
  {
   "cell_type": "code",
   "execution_count": 164,
   "metadata": {
    "ExecuteTime": {
     "end_time": "2022-02-16T16:22:56.549786Z",
     "start_time": "2022-02-16T16:22:56.516965Z"
    }
   },
   "outputs": [
    {
     "data": {
      "text/plain": [
       "5494"
      ]
     },
     "execution_count": 164,
     "metadata": {},
     "output_type": "execute_result"
    }
   ],
   "source": [
    "tree.count_terminals()"
   ]
  },
  {
   "cell_type": "code",
   "execution_count": 166,
   "metadata": {
    "ExecuteTime": {
     "end_time": "2022-02-16T16:25:12.733414Z",
     "start_time": "2022-02-16T16:25:08.806075Z"
    }
   },
   "outputs": [],
   "source": [
    "for b1_sample in b1_human_to_prune:\n",
    "    b1_node = sample_node.get(b1_sample, None)\n",
    "    if b1_node is None:\n",
    "        print(f'{b1_sample} not found in dict!')\n",
    "        b1_node = tree.find_any(name=b1_sample)\n",
    "        if b1_node is None:\n",
    "            print(f'{b1_sample} not found in tree')\n",
    "            continue\n",
    "    tree.prune(b1_node)"
   ]
  },
  {
   "cell_type": "code",
   "execution_count": 167,
   "metadata": {
    "ExecuteTime": {
     "end_time": "2022-02-16T16:25:17.650045Z",
     "start_time": "2022-02-16T16:25:17.636997Z"
    }
   },
   "outputs": [
    {
     "data": {
      "text/plain": [
       "1309"
      ]
     },
     "execution_count": 167,
     "metadata": {},
     "output_type": "execute_result"
    }
   ],
   "source": [
    "tree.count_terminals()"
   ]
  },
  {
   "cell_type": "code",
   "execution_count": 168,
   "metadata": {
    "ExecuteTime": {
     "end_time": "2022-02-16T16:27:38.749479Z",
     "start_time": "2022-02-16T16:27:38.736281Z"
    }
   },
   "outputs": [],
   "source": [
    "sample_node = {n.name: n for n in tree.get_terminals()}"
   ]
  },
  {
   "cell_type": "code",
   "execution_count": 169,
   "metadata": {
    "ExecuteTime": {
     "end_time": "2022-02-16T16:27:38.956478Z",
     "start_time": "2022-02-16T16:27:38.950974Z"
    }
   },
   "outputs": [],
   "source": [
    "samples_set = set(df.index)\n",
    "df = df.loc[[x for x in sample_node.keys() if x in samples_set],:]"
   ]
  },
  {
   "cell_type": "code",
   "execution_count": 170,
   "metadata": {
    "ExecuteTime": {
     "end_time": "2022-02-16T16:27:44.997733Z",
     "start_time": "2022-02-16T16:27:44.994774Z"
    }
   },
   "outputs": [
    {
     "data": {
      "text/plain": [
       "(1308, 11)"
      ]
     },
     "execution_count": 170,
     "metadata": {},
     "output_type": "execute_result"
    }
   ],
   "source": [
    "df.shape"
   ]
  },
  {
   "cell_type": "code",
   "execution_count": 172,
   "metadata": {
    "ExecuteTime": {
     "end_time": "2022-02-16T16:28:17.183166Z",
     "start_time": "2022-02-16T16:28:17.178931Z"
    }
   },
   "outputs": [
    {
     "data": {
      "text/plain": [
       "Delta      213\n",
       "Omicron     32\n",
       "Gamma       21\n",
       "Beta        20\n",
       "Epsilon     17\n",
       "Iota        13\n",
       "Eta         10\n",
       "Name: VOC, dtype: int64"
      ]
     },
     "execution_count": 172,
     "metadata": {},
     "output_type": "execute_result"
    }
   ],
   "source": [
    "df.VOC.value_counts()"
   ]
  },
  {
   "cell_type": "code",
   "execution_count": 195,
   "metadata": {
    "ExecuteTime": {
     "end_time": "2022-02-16T19:20:24.657858Z",
     "start_time": "2022-02-16T19:20:24.644856Z"
    }
   },
   "outputs": [
    {
     "data": {
      "text/plain": [
       "1309"
      ]
     },
     "execution_count": 195,
     "metadata": {},
     "output_type": "execute_result"
    }
   ],
   "source": [
    "tree.count_terminals()"
   ]
  },
  {
   "cell_type": "markdown",
   "metadata": {},
   "source": [
    "Output global SARS-CoV-2 tree with non-essential taxa trimmed away with clade/lineage/host subsampling"
   ]
  },
  {
   "cell_type": "code",
   "execution_count": 173,
   "metadata": {
    "ExecuteTime": {
     "end_time": "2022-02-16T16:28:38.763322Z",
     "start_time": "2022-02-16T16:28:38.746424Z"
    }
   },
   "outputs": [
    {
     "data": {
      "text/plain": [
       "1"
      ]
     },
     "execution_count": 173,
     "metadata": {},
     "output_type": "execute_result"
    }
   ],
   "source": [
    "Phylo.write(tree, 'tree-subsampled.newick', 'newick', format_branch_length=\"%f\")"
   ]
  },
  {
   "cell_type": "markdown",
   "metadata": {},
   "source": [
    "Iota clade doesn't appear to be monophyletic so designating certain Iota taxa that do not cluster with the rest as `Iota*`"
   ]
  },
  {
   "cell_type": "code",
   "execution_count": 188,
   "metadata": {
    "ExecuteTime": {
     "end_time": "2022-02-16T18:11:42.050632Z",
     "start_time": "2022-02-16T18:11:42.047856Z"
    }
   },
   "outputs": [],
   "source": [
    "iota_samples = set(df.loc[df.VOC == 'Iota',].index)"
   ]
  },
  {
   "cell_type": "code",
   "execution_count": 189,
   "metadata": {
    "ExecuteTime": {
     "end_time": "2022-02-16T18:11:42.504707Z",
     "start_time": "2022-02-16T18:11:42.497037Z"
    }
   },
   "outputs": [
    {
     "data": {
      "text/plain": [
       "{'USA/CT-Yale-3208/2021',\n",
       " 'USA/FL-CDC-ASC210070904/2021',\n",
       " 'USA/FL-CDC-QDX24365418/2021',\n",
       " 'USA/FL-CDC-STM-000038522/2021',\n",
       " 'USA/MA-CDC-LC0037326/2021',\n",
       " 'USA/MA-MASPHL-03041/2021',\n",
       " 'USA/MN-MDH-8124/2021',\n",
       " 'USA/NY-MSHSPSP-PV27528/2021',\n",
       " 'USA/NY-PRL-2021_03_31_00G12/2021',\n",
       " 'USA/NY-PRL-2021_0624_52C08/2021',\n",
       " 'cat/USA/NJ-21-007630-001/2021',\n",
       " 'dog/USA/CT-21-007025-001/2021',\n",
       " 'dog/USA/FL-21-002342-001/2021'}"
      ]
     },
     "execution_count": 189,
     "metadata": {},
     "output_type": "execute_result"
    }
   ],
   "source": [
    "iota_samples"
   ]
  },
  {
   "cell_type": "code",
   "execution_count": 190,
   "metadata": {
    "ExecuteTime": {
     "end_time": "2022-02-16T18:11:46.993692Z",
     "start_time": "2022-02-16T18:11:46.984512Z"
    }
   },
   "outputs": [
    {
     "data": {
      "text/html": [
       "<div>\n",
       "<style scoped>\n",
       "    .dataframe tbody tr th:only-of-type {\n",
       "        vertical-align: middle;\n",
       "    }\n",
       "\n",
       "    .dataframe tbody tr th {\n",
       "        vertical-align: top;\n",
       "    }\n",
       "\n",
       "    .dataframe thead th {\n",
       "        text-align: right;\n",
       "    }\n",
       "</style>\n",
       "<table border=\"1\" class=\"dataframe\">\n",
       "  <thead>\n",
       "    <tr style=\"text-align: right;\">\n",
       "      <th></th>\n",
       "      <th>type</th>\n",
       "      <th>accession</th>\n",
       "      <th>collection_date</th>\n",
       "      <th>host</th>\n",
       "      <th>clade</th>\n",
       "      <th>lineage</th>\n",
       "      <th>region</th>\n",
       "      <th>country</th>\n",
       "      <th>division</th>\n",
       "      <th>city</th>\n",
       "      <th>VOC</th>\n",
       "    </tr>\n",
       "    <tr>\n",
       "      <th>sample</th>\n",
       "      <th></th>\n",
       "      <th></th>\n",
       "      <th></th>\n",
       "      <th></th>\n",
       "      <th></th>\n",
       "      <th></th>\n",
       "      <th></th>\n",
       "      <th></th>\n",
       "      <th></th>\n",
       "      <th></th>\n",
       "      <th></th>\n",
       "    </tr>\n",
       "  </thead>\n",
       "  <tbody>\n",
       "    <tr>\n",
       "      <th>USA/CT-Yale-3208/2021</th>\n",
       "      <td>betacoronavirus</td>\n",
       "      <td>EPI_ISL_1587409</td>\n",
       "      <td>2021-03-26</td>\n",
       "      <td>Human</td>\n",
       "      <td>GH</td>\n",
       "      <td>B.1.526</td>\n",
       "      <td>North America</td>\n",
       "      <td>USA</td>\n",
       "      <td>Connecticut</td>\n",
       "      <td>NaN</td>\n",
       "      <td>Iota</td>\n",
       "    </tr>\n",
       "    <tr>\n",
       "      <th>USA/NY-PRL-2021_03_31_00G12/2021</th>\n",
       "      <td>betacoronavirus</td>\n",
       "      <td>EPI_ISL_1471625</td>\n",
       "      <td>2021-03-28</td>\n",
       "      <td>Human</td>\n",
       "      <td>GH</td>\n",
       "      <td>B.1.526</td>\n",
       "      <td>North America</td>\n",
       "      <td>USA</td>\n",
       "      <td>New York</td>\n",
       "      <td>New York City</td>\n",
       "      <td>Iota</td>\n",
       "    </tr>\n",
       "    <tr>\n",
       "      <th>USA/NY-PRL-2021_03_15_00F14/2021</th>\n",
       "      <td>betacoronavirus</td>\n",
       "      <td>EPI_ISL_1306557</td>\n",
       "      <td>2021-03-12</td>\n",
       "      <td>Human</td>\n",
       "      <td>GH</td>\n",
       "      <td>B.1</td>\n",
       "      <td>North America</td>\n",
       "      <td>USA</td>\n",
       "      <td>New York</td>\n",
       "      <td>New York City</td>\n",
       "      <td>None</td>\n",
       "    </tr>\n",
       "  </tbody>\n",
       "</table>\n",
       "</div>"
      ],
      "text/plain": [
       "                                             type        accession  \\\n",
       "sample                                                               \n",
       "USA/CT-Yale-3208/2021             betacoronavirus  EPI_ISL_1587409   \n",
       "USA/NY-PRL-2021_03_31_00G12/2021  betacoronavirus  EPI_ISL_1471625   \n",
       "USA/NY-PRL-2021_03_15_00F14/2021  betacoronavirus  EPI_ISL_1306557   \n",
       "\n",
       "                                 collection_date   host clade  lineage  \\\n",
       "sample                                                                   \n",
       "USA/CT-Yale-3208/2021                 2021-03-26  Human    GH  B.1.526   \n",
       "USA/NY-PRL-2021_03_31_00G12/2021      2021-03-28  Human    GH  B.1.526   \n",
       "USA/NY-PRL-2021_03_15_00F14/2021      2021-03-12  Human    GH      B.1   \n",
       "\n",
       "                                         region country     division  \\\n",
       "sample                                                                 \n",
       "USA/CT-Yale-3208/2021             North America     USA  Connecticut   \n",
       "USA/NY-PRL-2021_03_31_00G12/2021  North America     USA     New York   \n",
       "USA/NY-PRL-2021_03_15_00F14/2021  North America     USA     New York   \n",
       "\n",
       "                                           city   VOC  \n",
       "sample                                                 \n",
       "USA/CT-Yale-3208/2021                       NaN  Iota  \n",
       "USA/NY-PRL-2021_03_31_00G12/2021  New York City  Iota  \n",
       "USA/NY-PRL-2021_03_15_00F14/2021  New York City  None  "
      ]
     },
     "execution_count": 190,
     "metadata": {},
     "output_type": "execute_result"
    }
   ],
   "source": [
    "samples = '''\n",
    "USA/AZ-TG935237/2020\n",
    "USA/CT-Yale-3208/2021\n",
    "USA/NY-PRL-2021_03_31_00G12/2021\n",
    "USA/MA-CDCBI-CRSP_IFMMLNLSKYVF35FI/2021\n",
    "USA/NY-PRL-2021_03_15_01H03/2021\n",
    "USA/NY-PRL-2021_03_11_00B06/2021\n",
    "USA/NY-PRL-2021_03_12_00I20/2021\n",
    "USA/NY-PRL-2021_03_15_00F14/2021\n",
    "USA/PA-CDC-STM-000040743/2021\n",
    "USA/CO-CDC-FG-018482/2021\n",
    "'''.strip().split('\\n')\n",
    "df.loc[list(set(samples) & set(df.index)), :]"
   ]
  },
  {
   "cell_type": "code",
   "execution_count": 191,
   "metadata": {
    "ExecuteTime": {
     "end_time": "2022-02-16T18:11:54.125685Z",
     "start_time": "2022-02-16T18:11:54.122886Z"
    }
   },
   "outputs": [],
   "source": [
    "iota_2_samples = '''\n",
    "USA/CT-Yale-3208/2021\n",
    "USA/NY-PRL-2021_03_31_00G12/2021\n",
    "'''.strip().split('\\n')\n",
    "df.loc[iota_2_samples, 'VOC'] = 'Iota*'"
   ]
  },
  {
   "cell_type": "code",
   "execution_count": 192,
   "metadata": {
    "ExecuteTime": {
     "end_time": "2022-02-16T18:11:57.211614Z",
     "start_time": "2022-02-16T18:11:57.207611Z"
    }
   },
   "outputs": [
    {
     "data": {
      "text/plain": [
       "B.1        417\n",
       "B.1.311    152\n",
       "B.1.2       83\n",
       "AY.44       32\n",
       "B.1.1.7     26\n",
       "          ... \n",
       "A            1\n",
       "AY.119       1\n",
       "B.1.264      1\n",
       "Q.1          1\n",
       "AY.85        1\n",
       "Name: lineage, Length: 160, dtype: int64"
      ]
     },
     "execution_count": 192,
     "metadata": {},
     "output_type": "execute_result"
    }
   ],
   "source": [
    "df.lineage.value_counts()"
   ]
  },
  {
   "cell_type": "code",
   "execution_count": 193,
   "metadata": {
    "ExecuteTime": {
     "end_time": "2022-02-16T18:12:01.205830Z",
     "start_time": "2022-02-16T18:12:01.200250Z"
    }
   },
   "outputs": [],
   "source": [
    "df.loc[b1311_sub50, 'VOC'] = 'B.1.311'"
   ]
  },
  {
   "cell_type": "code",
   "execution_count": 194,
   "metadata": {
    "ExecuteTime": {
     "end_time": "2022-02-16T18:12:02.950762Z",
     "start_time": "2022-02-16T18:12:02.937649Z"
    }
   },
   "outputs": [],
   "source": [
    "df.to_csv('metadata-subsampled.tsv', sep='\\t')"
   ]
  },
  {
   "cell_type": "markdown",
   "metadata": {},
   "source": [
    "## Figure 3 - phylogenetic analysis of ON WTD+human and most closely related sequences\n",
    "\n",
    "Performed phylogenetic analysis with MAFFT MSA and IQ-TREE maximum-likelihood phylogenetic tree inference on the 157 sequences of the ON WTD+human and most closely related sequences to generate Figure 3 zoom-in of global tree with UFBoot values."
   ]
  },
  {
   "cell_type": "code",
   "execution_count": 199,
   "metadata": {
    "ExecuteTime": {
     "end_time": "2022-02-17T17:30:48.399833Z",
     "start_time": "2022-02-17T17:30:48.394755Z"
    }
   },
   "outputs": [],
   "source": [
    "with open('subtree-samples.txt') as f:\n",
    "    subtree_samples = {l.strip() for l in f if l.strip()}        "
   ]
  },
  {
   "cell_type": "code",
   "execution_count": 201,
   "metadata": {
    "ExecuteTime": {
     "end_time": "2022-02-17T17:30:53.842188Z",
     "start_time": "2022-02-17T17:30:53.834939Z"
    }
   },
   "outputs": [
    {
     "data": {
      "text/plain": [
       "157"
      ]
     },
     "execution_count": 201,
     "metadata": {},
     "output_type": "execute_result"
    }
   ],
   "source": [
    "len(subtree_samples)"
   ]
  },
  {
   "cell_type": "code",
   "execution_count": 216,
   "metadata": {
    "ExecuteTime": {
     "end_time": "2022-02-17T17:45:22.143423Z",
     "start_time": "2022-02-17T17:45:22.132334Z"
    }
   },
   "outputs": [],
   "source": [
    "df_subtree = df.loc[list(subtree_samples),:]"
   ]
  },
  {
   "cell_type": "code",
   "execution_count": 217,
   "metadata": {
    "ExecuteTime": {
     "end_time": "2022-02-17T17:45:26.803002Z",
     "start_time": "2022-02-17T17:45:26.800535Z"
    }
   },
   "outputs": [
    {
     "data": {
      "text/plain": [
       "(157, 11)"
      ]
     },
     "execution_count": 217,
     "metadata": {},
     "output_type": "execute_result"
    }
   ],
   "source": [
    "df_subtree.shape"
   ]
  },
  {
   "cell_type": "code",
   "execution_count": 226,
   "metadata": {
    "ExecuteTime": {
     "end_time": "2022-02-17T17:54:22.404734Z",
     "start_time": "2022-02-17T17:54:22.397231Z"
    }
   },
   "outputs": [],
   "source": [
    "with open('subtree-dates-for-iqtree-time-tree.tsv', 'w') as fout:\n",
    "    for sample, dt in zip(df_subtree.index, pd.to_datetime(df_subtree.collection_date)):\n",
    "        fout.write(f'{sample}\\t{dt.date()}\\n')"
   ]
  },
  {
   "cell_type": "code",
   "execution_count": 202,
   "metadata": {
    "ExecuteTime": {
     "end_time": "2022-02-17T17:31:12.125173Z",
     "start_time": "2022-02-17T17:31:12.123529Z"
    }
   },
   "outputs": [],
   "source": [
    "from Bio.SeqIO.FastaIO import SimpleFastaParser"
   ]
  },
  {
   "cell_type": "code",
   "execution_count": 203,
   "metadata": {
    "ExecuteTime": {
     "end_time": "2022-02-17T17:32:09.396027Z",
     "start_time": "2022-02-17T17:32:09.152216Z"
    }
   },
   "outputs": [],
   "source": [
    "sample_seqs = {}\n",
    "with open('results-B.1.311/gisaid/gisaid_sequences.filtered.fasta') as f:\n",
    "    for h,s in SimpleFastaParser(f):\n",
    "        if h in subtree_samples:\n",
    "            sample_seqs[h] = s"
   ]
  },
  {
   "cell_type": "code",
   "execution_count": 204,
   "metadata": {
    "ExecuteTime": {
     "end_time": "2022-02-17T17:32:13.336571Z",
     "start_time": "2022-02-17T17:32:13.333053Z"
    }
   },
   "outputs": [
    {
     "data": {
      "text/plain": [
       "157"
      ]
     },
     "execution_count": 204,
     "metadata": {},
     "output_type": "execute_result"
    }
   ],
   "source": [
    "len(sample_seqs)"
   ]
  },
  {
   "cell_type": "code",
   "execution_count": 205,
   "metadata": {
    "ExecuteTime": {
     "end_time": "2022-02-17T17:33:07.519938Z",
     "start_time": "2022-02-17T17:33:07.513216Z"
    }
   },
   "outputs": [],
   "source": [
    "with open('subtree.fasta', 'w') as fout:\n",
    "    for sample, seq in sample_seqs.items():\n",
    "        fout.write(f'>{sample}\\n{seq}\\n')"
   ]
  },
  {
   "cell_type": "code",
   "execution_count": 207,
   "metadata": {
    "ExecuteTime": {
     "end_time": "2022-02-17T17:33:42.317679Z",
     "start_time": "2022-02-17T17:33:42.188088Z"
    }
   },
   "outputs": [
    {
     "name": "stdout",
     "output_type": "stream",
     "text": [
      "    314     314 4690198 subtree.fasta\r\n"
     ]
    }
   ],
   "source": [
    "!wc  subtree.fasta"
   ]
  },
  {
   "cell_type": "code",
   "execution_count": 208,
   "metadata": {
    "ExecuteTime": {
     "end_time": "2022-02-17T17:33:50.635865Z",
     "start_time": "2022-02-17T17:33:50.490787Z"
    }
   },
   "outputs": [
    {
     "name": "stdout",
     "output_type": "stream",
     "text": [
      "v7.471 (2020/Jul/3)\r\n"
     ]
    }
   ],
   "source": [
    "!mafft --version"
   ]
  },
  {
   "cell_type": "code",
   "execution_count": 209,
   "metadata": {
    "ExecuteTime": {
     "end_time": "2022-02-17T17:34:46.092602Z",
     "start_time": "2022-02-17T17:34:24.764222Z"
    }
   },
   "outputs": [
    {
     "name": "stdout",
     "output_type": "stream",
     "text": [
      "\n",
      "                  __    __    __    __\n",
      "                 /  \\  /  \\  /  \\  /  \\\n",
      "                /    \\/    \\/    \\/    \\\n",
      "███████████████/  /██/  /██/  /██/  /████████████████████████\n",
      "              /  / \\   / \\   / \\   / \\  \\____\n",
      "             /  /   \\_/   \\_/   \\_/   \\    o \\__,\n",
      "            / _/                       \\_____/  `\n",
      "            |/\n",
      "        ███╗   ███╗ █████╗ ███╗   ███╗██████╗  █████╗\n",
      "        ████╗ ████║██╔══██╗████╗ ████║██╔══██╗██╔══██╗\n",
      "        ██╔████╔██║███████║██╔████╔██║██████╔╝███████║\n",
      "        ██║╚██╔╝██║██╔══██║██║╚██╔╝██║██╔══██╗██╔══██║\n",
      "        ██║ ╚═╝ ██║██║  ██║██║ ╚═╝ ██║██████╔╝██║  ██║\n",
      "        ╚═╝     ╚═╝╚═╝  ╚═╝╚═╝     ╚═╝╚═════╝ ╚═╝  ╚═╝\n",
      "\n",
      "        mamba (0.13.0) supported by @QuantStack\n",
      "\n",
      "        GitHub:  https://github.com/mamba-org/mamba\n",
      "        Twitter: https://twitter.com/QuantStack\n",
      "\n",
      "█████████████████████████████████████████████████████████████\n",
      "\n",
      "\n",
      "Looking for: ['mafft=7.490']\n",
      "\n",
      "pkgs/main/linux-64       [=>                  ] (--:--) No change\n",
      "pkgs/main/linux-64       [====================] (00m:00s) No change\n",
      "pkgs/r/linux-64          [=>                  ] (--:--) No change\n",
      "pkgs/r/linux-64          [====================] (00m:00s) No change\n",
      "pkgs/r/noarch            [=>                  ] (--:--) No change\n",
      "pkgs/r/noarch            [====================] (00m:00s) No change\n",
      "bioconda/noarch          [<=>                 ] (00m:00s) \n",
      "bioconda/noarch          [=>                ] (00m:00s) 35 KB / ?? (49.87 KB/s)\n",
      "bioconda/noarch          [=>                ] (00m:00s) 35 KB / ?? (49.87 KB/s)\n",
      "pkgs/main/noarch         [=>                  ] (--:--) No change\n",
      "pkgs/main/noarch         [====================] (00m:00s) No change\n",
      "bioconda/noarch          [=>                ] (00m:00s) 35 KB / ?? (49.87 KB/s)\n",
      "bioconda/noarch          [=>                ] (00m:00s) 35 KB / ?? (49.87 KB/s)\n",
      "conda-forge/linux-64     [<=>                 ] (00m:00s) \n",
      "bioconda/noarch          [=>                ] (00m:00s) 35 KB / ?? (49.87 KB/s)\n",
      "conda-forge/linux-64     [=>              ] (00m:00s) 153 KB / ?? (181.81 KB/s)\n",
      "bioconda/noarch          [=>                ] (00m:00s) 35 KB / ?? (49.87 KB/s)\n",
      "conda-forge/linux-64     [=>              ] (00m:00s) 153 KB / ?? (181.81 KB/s)\n",
      "conda-forge/noarch       [<=>                 ] (00m:00s) \n",
      "bioconda/noarch          [=>                ] (00m:00s) 35 KB / ?? (49.87 KB/s)\n",
      "conda-forge/linux-64     [=>              ] (00m:00s) 153 KB / ?? (181.81 KB/s)\n",
      "conda-forge/noarch       [=>              ] (00m:00s) 134 KB / ?? (158.37 KB/s)\n",
      "bioconda/noarch          [=>                ] (00m:00s) 35 KB / ?? (49.87 KB/s)\n",
      "conda-forge/linux-64     [=>              ] (00m:00s) 153 KB / ?? (181.81 KB/s)\n",
      "conda-forge/noarch       [=>              ] (00m:00s) 134 KB / ?? (158.37 KB/s)\n",
      "bioconda/linux-64        [<=>                 ] (00m:00s) \n",
      "bioconda/noarch          [=>                ] (00m:00s) 35 KB / ?? (49.87 KB/s)\n",
      "conda-forge/linux-64     [=>              ] (00m:00s) 153 KB / ?? (181.81 KB/s)\n",
      "conda-forge/noarch       [=>              ] (00m:00s) 134 KB / ?? (158.37 KB/s)\n",
      "bioconda/linux-64        [=>              ] (00m:00s) 141 KB / ?? (167.60 KB/s)\n",
      "bioconda/noarch          [<=>               ] (00m:00s) 35 KB / ?? (49.87 KB/s)\n",
      "conda-forge/linux-64     [=>              ] (00m:00s) 153 KB / ?? (181.81 KB/s)\n",
      "conda-forge/noarch       [=>              ] (00m:00s) 134 KB / ?? (158.37 KB/s)\n",
      "bioconda/linux-64        [=>              ] (00m:00s) 141 KB / ?? (167.60 KB/s)\n",
      "bioconda/noarch          [<=>             ] (00m:00s) 265 KB / ?? (308.96 KB/s)\n",
      "conda-forge/linux-64     [=>              ] (00m:00s) 153 KB / ?? (181.81 KB/s)\n",
      "conda-forge/noarch       [=>              ] (00m:00s) 134 KB / ?? (158.37 KB/s)\n",
      "bioconda/linux-64        [=>              ] (00m:00s) 141 KB / ?? (167.60 KB/s)\n",
      "bioconda/noarch          [<=>             ] (00m:00s) 265 KB / ?? (308.96 KB/s)\n",
      "conda-forge/linux-64     [<=>             ] (00m:00s) 153 KB / ?? (181.81 KB/s)\n",
      "conda-forge/noarch       [=>              ] (00m:00s) 134 KB / ?? (158.37 KB/s)\n",
      "bioconda/linux-64        [=>              ] (00m:00s) 141 KB / ?? (167.60 KB/s)\n",
      "bioconda/noarch          [<=>             ] (00m:00s) 265 KB / ?? (308.96 KB/s)\n",
      "conda-forge/linux-64     [<=>             ] (00m:00s) 740 KB / ?? (745.15 KB/s)\n",
      "conda-forge/noarch       [=>              ] (00m:00s) 134 KB / ?? (158.37 KB/s)\n",
      "bioconda/linux-64        [=>              ] (00m:00s) 141 KB / ?? (167.60 KB/s)\n",
      "bioconda/noarch          [<=>             ] (00m:00s) 265 KB / ?? (308.96 KB/s)\n",
      "conda-forge/linux-64     [<=>             ] (00m:00s) 740 KB / ?? (745.15 KB/s)\n",
      "conda-forge/noarch       [<=>             ] (00m:00s) 134 KB / ?? (158.37 KB/s)\n",
      "bioconda/linux-64        [=>              ] (00m:00s) 141 KB / ?? (167.60 KB/s)\n",
      "bioconda/noarch          [<=>             ] (00m:00s) 265 KB / ?? (308.96 KB/s)\n",
      "conda-forge/linux-64     [<=>             ] (00m:00s) 740 KB / ?? (745.15 KB/s)\n",
      "conda-forge/noarch       [<=>             ] (00m:00s) 629 KB / ?? (633.15 KB/s)\n",
      "bioconda/linux-64        [=>              ] (00m:00s) 141 KB / ?? (167.60 KB/s)\n",
      "bioconda/noarch          [<=>             ] (00m:00s) 265 KB / ?? (308.96 KB/s)\n",
      "conda-forge/linux-64     [<=>             ] (00m:00s) 740 KB / ?? (745.15 KB/s)\n",
      "conda-forge/noarch       [<=>             ] (00m:00s) 629 KB / ?? (633.15 KB/s)\n",
      "bioconda/linux-64        [<=>             ] (00m:00s) 141 KB / ?? (167.60 KB/s)\n",
      "bioconda/noarch          [<=>             ] (00m:00s) 265 KB / ?? (308.96 KB/s)\n",
      "conda-forge/linux-64     [<=>             ] (00m:00s) 740 KB / ?? (745.15 KB/s)\n",
      "conda-forge/noarch       [<=>             ] (00m:00s) 629 KB / ?? (633.15 KB/s)\n",
      "bioconda/linux-64        [<=>             ] (00m:00s) 617 KB / ?? (620.34 KB/s)\n",
      "bioconda/noarch          [ <=>            ] (00m:00s) 265 KB / ?? (308.96 KB/s)\n",
      "conda-forge/linux-64     [<=>             ] (00m:00s) 740 KB / ?? (745.15 KB/s)\n",
      "conda-forge/noarch       [<=>             ] (00m:00s) 629 KB / ?? (633.15 KB/s)\n",
      "bioconda/linux-64        [<=>             ] (00m:00s) 617 KB / ?? (620.34 KB/s)\n",
      "bioconda/noarch          [ <=>            ] (00m:00s) 842 KB / ?? (834.55 KB/s)\n",
      "conda-forge/linux-64     [<=>             ] (00m:00s) 740 KB / ?? (745.15 KB/s)\n",
      "conda-forge/noarch       [<=>             ] (00m:00s) 629 KB / ?? (633.15 KB/s)\n",
      "bioconda/linux-64        [<=>             ] (00m:00s) 617 KB / ?? (620.34 KB/s)\n",
      "bioconda/noarch          [ <=>            ] (00m:00s) 842 KB / ?? (834.55 KB/s)\n",
      "conda-forge/linux-64     [ <=>            ] (00m:00s) 740 KB / ?? (745.15 KB/s)\n",
      "conda-forge/noarch       [<=>             ] (00m:00s) 629 KB / ?? (633.15 KB/s)\n",
      "bioconda/linux-64        [<=>             ] (00m:00s) 617 KB / ?? (620.34 KB/s)\n",
      "bioconda/noarch          [ <=>            ] (00m:00s) 842 KB / ?? (834.55 KB/s)\n",
      "conda-forge/linux-64     [ <=>              ] (00m:00s) 1 MB / ?? (945.25 KB/s)\n",
      "conda-forge/noarch       [<=>             ] (00m:00s) 629 KB / ?? (633.15 KB/s)\n",
      "bioconda/linux-64        [<=>             ] (00m:00s) 617 KB / ?? (620.34 KB/s)\n",
      "bioconda/noarch          [ <=>            ] (00m:00s) 842 KB / ?? (834.55 KB/s)\n",
      "conda-forge/linux-64     [ <=>              ] (00m:00s) 1 MB / ?? (945.25 KB/s)\n",
      "conda-forge/noarch       [ <=>            ] (00m:00s) 629 KB / ?? (633.15 KB/s)\n",
      "bioconda/linux-64        [<=>             ] (00m:00s) 617 KB / ?? (620.34 KB/s)\n",
      "bioconda/noarch          [ <=>            ] (00m:00s) 842 KB / ?? (834.55 KB/s)\n",
      "conda-forge/linux-64     [ <=>              ] (00m:00s) 1 MB / ?? (945.25 KB/s)\n",
      "conda-forge/noarch       [ <=>              ] (00m:00s) 1 MB / ?? (897.87 KB/s)\n",
      "bioconda/linux-64        [<=>             ] (00m:00s) 617 KB / ?? (620.34 KB/s)\n",
      "bioconda/noarch          [ <=>            ] (00m:00s) 842 KB / ?? (834.55 KB/s)\n",
      "conda-forge/linux-64     [ <=>              ] (00m:00s) 1 MB / ?? (945.25 KB/s)\n",
      "conda-forge/noarch       [ <=>              ] (00m:00s) 1 MB / ?? (897.87 KB/s)\n",
      "bioconda/linux-64        [ <=>            ] (00m:00s) 617 KB / ?? (620.34 KB/s)\n",
      "bioconda/noarch          [ <=>            ] (00m:00s) 842 KB / ?? (834.55 KB/s)\n",
      "conda-forge/linux-64     [ <=>              ] (00m:00s) 1 MB / ?? (945.25 KB/s)\n",
      "conda-forge/noarch       [ <=>              ] (00m:00s) 1 MB / ?? (897.87 KB/s)\n",
      "bioconda/linux-64        [ <=>            ] (00m:00s) 974 KB / ?? (850.25 KB/s)\n",
      "bioconda/noarch          [  <=>           ] (00m:00s) 842 KB / ?? (834.55 KB/s)\n",
      "conda-forge/linux-64     [ <=>              ] (00m:00s) 1 MB / ?? (945.25 KB/s)\n",
      "conda-forge/noarch       [ <=>              ] (00m:00s) 1 MB / ?? (897.87 KB/s)\n",
      "bioconda/linux-64        [ <=>            ] (00m:00s) 974 KB / ?? (850.25 KB/s)\n",
      "bioconda/noarch          [   <=>              ] (00m:00s) 1 MB / ?? (1.09 MB/s)\n",
      "conda-forge/linux-64     [ <=>              ] (00m:00s) 1 MB / ?? (945.25 KB/s)\n",
      "conda-forge/noarch       [ <=>              ] (00m:00s) 1 MB / ?? (897.87 KB/s)\n",
      "bioconda/linux-64        [ <=>            ] (00m:00s) 974 KB / ?? (850.25 KB/s)\n"
     ]
    },
    {
     "name": "stdout",
     "output_type": "stream",
     "text": [
      "bioconda/noarch          [   <=>              ] (00m:00s) 1 MB / ?? (1.09 MB/s)\n",
      "conda-forge/linux-64     [  <=>             ] (00m:00s) 1 MB / ?? (945.25 KB/s)\n",
      "conda-forge/noarch       [ <=>              ] (00m:00s) 1 MB / ?? (897.87 KB/s)\n",
      "bioconda/linux-64        [ <=>            ] (00m:00s) 974 KB / ?? (850.25 KB/s)\n",
      "bioconda/noarch          [   <=>              ] (00m:00s) 1 MB / ?? (1.09 MB/s)\n",
      "conda-forge/linux-64     [   <=>              ] (00m:00s) 2 MB / ?? (1.17 MB/s)\n",
      "conda-forge/noarch       [ <=>              ] (00m:00s) 1 MB / ?? (897.87 KB/s)\n",
      "bioconda/linux-64        [ <=>            ] (00m:00s) 974 KB / ?? (850.25 KB/s)\n",
      "bioconda/noarch          [   <=>              ] (00m:00s) 1 MB / ?? (1.09 MB/s)\n",
      "conda-forge/linux-64     [   <=>              ] (00m:00s) 2 MB / ?? (1.17 MB/s)\n",
      "conda-forge/noarch       [  <=>             ] (00m:00s) 1 MB / ?? (897.87 KB/s)\n",
      "bioconda/linux-64        [ <=>            ] (00m:00s) 974 KB / ?? (850.25 KB/s)\n",
      "bioconda/noarch          [   <=>              ] (00m:00s) 1 MB / ?? (1.09 MB/s)\n",
      "conda-forge/linux-64     [   <=>              ] (00m:00s) 2 MB / ?? (1.17 MB/s)\n",
      "conda-forge/noarch       [   <=>              ] (00m:00s) 1 MB / ?? (1.08 MB/s)\n",
      "bioconda/linux-64        [ <=>            ] (00m:00s) 974 KB / ?? (850.25 KB/s)\n",
      "bioconda/noarch          [   <=>              ] (00m:00s) 1 MB / ?? (1.09 MB/s)\n",
      "conda-forge/linux-64     [   <=>              ] (00m:00s) 2 MB / ?? (1.17 MB/s)\n",
      "conda-forge/noarch       [   <=>              ] (00m:00s) 1 MB / ?? (1.08 MB/s)\n",
      "bioconda/linux-64        [  <=>           ] (00m:00s) 974 KB / ?? (850.25 KB/s)\n",
      "bioconda/noarch          [   <=>              ] (00m:00s) 1 MB / ?? (1.09 MB/s)\n",
      "conda-forge/linux-64     [   <=>              ] (00m:00s) 2 MB / ?? (1.17 MB/s)\n",
      "conda-forge/noarch       [   <=>              ] (00m:00s) 1 MB / ?? (1.08 MB/s)\n",
      "bioconda/linux-64        [   <=>              ] (00m:00s) 1 MB / ?? (1.07 MB/s)\n",
      "bioconda/noarch          [    <=>             ] (00m:00s) 1 MB / ?? (1.09 MB/s)\n",
      "conda-forge/linux-64     [   <=>              ] (00m:00s) 2 MB / ?? (1.17 MB/s)\n",
      "conda-forge/noarch       [   <=>              ] (00m:00s) 1 MB / ?? (1.08 MB/s)\n",
      "bioconda/linux-64        [   <=>              ] (00m:00s) 1 MB / ?? (1.07 MB/s)\n",
      "bioconda/noarch          [    <=>             ] (00m:00s) 2 MB / ?? (1.30 MB/s)\n",
      "conda-forge/linux-64     [   <=>              ] (00m:00s) 2 MB / ?? (1.17 MB/s)\n",
      "conda-forge/noarch       [   <=>              ] (00m:00s) 1 MB / ?? (1.08 MB/s)\n",
      "bioconda/linux-64        [   <=>              ] (00m:00s) 1 MB / ?? (1.07 MB/s)\n",
      "bioconda/noarch          [    <=>             ] (00m:00s) 2 MB / ?? (1.30 MB/s)\n",
      "conda-forge/linux-64     [    <=>             ] (00m:00s) 2 MB / ?? (1.17 MB/s)\n",
      "conda-forge/noarch       [   <=>              ] (00m:00s) 1 MB / ?? (1.08 MB/s)\n",
      "bioconda/linux-64        [   <=>              ] (00m:00s) 1 MB / ?? (1.07 MB/s)\n",
      "bioconda/noarch          [    <=>             ] (00m:00s) 2 MB / ?? (1.30 MB/s)\n",
      "conda-forge/linux-64     [    <=>             ] (00m:00s) 2 MB / ?? (1.33 MB/s)\n",
      "conda-forge/noarch       [   <=>              ] (00m:00s) 1 MB / ?? (1.08 MB/s)\n",
      "bioconda/linux-64        [   <=>              ] (00m:00s) 1 MB / ?? (1.07 MB/s)\n",
      "bioconda/noarch          [    <=>             ] (00m:00s) 2 MB / ?? (1.30 MB/s)\n",
      "conda-forge/linux-64     [    <=>             ] (00m:00s) 2 MB / ?? (1.33 MB/s)\n",
      "conda-forge/noarch       [    <=>             ] (00m:00s) 1 MB / ?? (1.08 MB/s)\n",
      "bioconda/linux-64        [   <=>              ] (00m:00s) 1 MB / ?? (1.07 MB/s)\n",
      "bioconda/noarch          [    <=>             ] (00m:00s) 2 MB / ?? (1.30 MB/s)\n",
      "conda-forge/linux-64     [    <=>             ] (00m:00s) 2 MB / ?? (1.33 MB/s)\n",
      "conda-forge/noarch       [    <=>             ] (00m:00s) 2 MB / ?? (1.21 MB/s)\n",
      "bioconda/linux-64        [   <=>              ] (00m:00s) 1 MB / ?? (1.07 MB/s)\n",
      "bioconda/noarch          [    <=>             ] (00m:00s) 2 MB / ?? (1.30 MB/s)\n",
      "conda-forge/linux-64     [    <=>             ] (00m:00s) 2 MB / ?? (1.33 MB/s)\n",
      "conda-forge/noarch       [    <=>             ] (00m:00s) 2 MB / ?? (1.21 MB/s)\n",
      "bioconda/linux-64        [    <=>             ] (00m:00s) 1 MB / ?? (1.07 MB/s)\n",
      "bioconda/noarch          [    <=>             ] (00m:00s) 2 MB / ?? (1.30 MB/s)\n",
      "conda-forge/linux-64     [    <=>             ] (00m:00s) 2 MB / ?? (1.33 MB/s)\n",
      "conda-forge/noarch       [    <=>             ] (00m:00s) 2 MB / ?? (1.21 MB/s)\n",
      "bioconda/linux-64        [    <=>             ] (00m:00s) 2 MB / ?? (1.20 MB/s)\n",
      "bioconda/noarch          [     <=>            ] (00m:00s) 2 MB / ?? (1.30 MB/s)\n",
      "conda-forge/linux-64     [    <=>             ] (00m:00s) 2 MB / ?? (1.33 MB/s)\n",
      "conda-forge/noarch       [    <=>             ] (00m:00s) 2 MB / ?? (1.21 MB/s)\n",
      "bioconda/linux-64        [    <=>             ] (00m:00s) 2 MB / ?? (1.20 MB/s)\n",
      "bioconda/noarch          [     <=>            ] (00m:00s) 2 MB / ?? (1.40 MB/s)\n",
      "conda-forge/linux-64     [    <=>             ] (00m:00s) 2 MB / ?? (1.33 MB/s)\n",
      "conda-forge/noarch       [    <=>             ] (00m:00s) 2 MB / ?? (1.21 MB/s)\n",
      "bioconda/linux-64        [    <=>             ] (00m:00s) 2 MB / ?? (1.20 MB/s)\n",
      "bioconda/noarch          [     <=>            ] (00m:00s) 2 MB / ?? (1.40 MB/s)\n",
      "conda-forge/linux-64     [     <=>            ] (00m:00s) 2 MB / ?? (1.33 MB/s)\n",
      "conda-forge/noarch       [    <=>             ] (00m:00s) 2 MB / ?? (1.21 MB/s)\n",
      "bioconda/linux-64        [    <=>             ] (00m:00s) 2 MB / ?? (1.20 MB/s)\n",
      "bioconda/noarch          [     <=>            ] (00m:00s) 2 MB / ?? (1.40 MB/s)\n",
      "conda-forge/linux-64     [     <=>            ] (00m:00s) 2 MB / ?? (1.45 MB/s)\n",
      "conda-forge/noarch       [    <=>             ] (00m:00s) 2 MB / ?? (1.21 MB/s)\n",
      "bioconda/linux-64        [    <=>             ] (00m:00s) 2 MB / ?? (1.20 MB/s)\n",
      "bioconda/noarch          [     <=>            ] (00m:00s) 2 MB / ?? (1.40 MB/s)\n",
      "conda-forge/linux-64     [     <=>            ] (00m:00s) 2 MB / ?? (1.45 MB/s)\n",
      "conda-forge/noarch       [     <=>            ] (00m:00s) 2 MB / ?? (1.21 MB/s)\n",
      "bioconda/linux-64        [    <=>             ] (00m:00s) 2 MB / ?? (1.20 MB/s)\n",
      "bioconda/noarch          [     <=>            ] (00m:00s) 2 MB / ?? (1.40 MB/s)\n",
      "conda-forge/linux-64     [     <=>            ] (00m:00s) 2 MB / ?? (1.45 MB/s)\n",
      "conda-forge/noarch       [     <=>            ] (00m:00s) 2 MB / ?? (1.32 MB/s)\n",
      "bioconda/linux-64        [    <=>             ] (00m:00s) 2 MB / ?? (1.20 MB/s)\n",
      "bioconda/noarch          [     <=>            ] (00m:00s) 2 MB / ?? (1.40 MB/s)\n",
      "conda-forge/linux-64     [     <=>            ] (00m:00s) 2 MB / ?? (1.45 MB/s)\n",
      "conda-forge/noarch       [     <=>            ] (00m:00s) 2 MB / ?? (1.32 MB/s)\n",
      "bioconda/linux-64        [     <=>            ] (00m:00s) 2 MB / ?? (1.20 MB/s)\n",
      "bioconda/noarch          [     <=>            ] (00m:00s) 2 MB / ?? (1.40 MB/s)\n",
      "conda-forge/linux-64     [     <=>            ] (00m:00s) 2 MB / ?? (1.45 MB/s)\n",
      "conda-forge/noarch       [     <=>            ] (00m:00s) 2 MB / ?? (1.32 MB/s)\n",
      "bioconda/linux-64        [     <=>            ] (00m:00s) 2 MB / ?? (1.31 MB/s)\n",
      "bioconda/noarch          [      <=>           ] (00m:00s) 2 MB / ?? (1.40 MB/s)\n",
      "conda-forge/linux-64     [     <=>            ] (00m:00s) 2 MB / ?? (1.45 MB/s)\n",
      "conda-forge/noarch       [     <=>            ] (00m:00s) 2 MB / ?? (1.32 MB/s)\n",
      "bioconda/linux-64        [     <=>            ] (00m:00s) 2 MB / ?? (1.31 MB/s)\n",
      "bioconda/noarch          [      <=>           ] (00m:00s) 2 MB / ?? (1.50 MB/s)\n",
      "conda-forge/linux-64     [     <=>            ] (00m:00s) 2 MB / ?? (1.45 MB/s)\n",
      "conda-forge/noarch       [     <=>            ] (00m:00s) 2 MB / ?? (1.32 MB/s)\n",
      "bioconda/linux-64        [     <=>            ] (00m:00s) 2 MB / ?? (1.31 MB/s)\n",
      "bioconda/noarch          [      <=>           ] (00m:01s) 2 MB / ?? (1.50 MB/s)\n",
      "conda-forge/linux-64     [      <=>           ] (00m:00s) 2 MB / ?? (1.45 MB/s)\n",
      "conda-forge/noarch       [     <=>            ] (00m:00s) 2 MB / ?? (1.32 MB/s)\n",
      "bioconda/linux-64        [     <=>            ] (00m:00s) 2 MB / ?? (1.31 MB/s)\n",
      "bioconda/noarch          [      <=>           ] (00m:01s) 2 MB / ?? (1.50 MB/s)\n",
      "conda-forge/linux-64     [      <=>           ] (00m:00s) 3 MB / ?? (1.55 MB/s)\n",
      "conda-forge/noarch       [     <=>            ] (00m:00s) 2 MB / ?? (1.32 MB/s)\n",
      "bioconda/linux-64        [     <=>            ] (00m:00s) 2 MB / ?? (1.31 MB/s)\n",
      "bioconda/noarch          [      <=>           ] (00m:01s) 2 MB / ?? (1.50 MB/s)\n",
      "conda-forge/linux-64     [      <=>           ] (00m:00s) 3 MB / ?? (1.55 MB/s)\n",
      "conda-forge/noarch       [      <=>           ] (00m:00s) 2 MB / ?? (1.32 MB/s)\n",
      "bioconda/linux-64        [     <=>            ] (00m:00s) 2 MB / ?? (1.31 MB/s)\n",
      "bioconda/noarch          [      <=>           ] (00m:01s) 2 MB / ?? (1.50 MB/s)\n",
      "conda-forge/linux-64     [      <=>           ] (00m:00s) 3 MB / ?? (1.55 MB/s)\n",
      "conda-forge/noarch       [      <=>           ] (00m:00s) 2 MB / ?? (1.31 MB/s)\n",
      "bioconda/linux-64        [     <=>            ] (00m:00s) 2 MB / ?? (1.31 MB/s)\n",
      "bioconda/noarch          [      <=>           ] (00m:01s) 2 MB / ?? (1.50 MB/s)\n",
      "conda-forge/linux-64     [      <=>           ] (00m:00s) 3 MB / ?? (1.55 MB/s)\n",
      "conda-forge/noarch       [      <=>           ] (00m:00s) 2 MB / ?? (1.31 MB/s)\n",
      "bioconda/linux-64        [      <=>           ] (00m:00s) 2 MB / ?? (1.31 MB/s)\n",
      "bioconda/noarch          [      <=>           ] (00m:01s) 2 MB / ?? (1.50 MB/s)\n",
      "conda-forge/linux-64     [      <=>           ] (00m:00s) 3 MB / ?? (1.55 MB/s)\n",
      "conda-forge/noarch       [      <=>           ] (00m:00s) 2 MB / ?? (1.31 MB/s)\n",
      "bioconda/linux-64        [      <=>           ] (00m:00s) 2 MB / ?? (1.34 MB/s)\n"
     ]
    },
    {
     "name": "stdout",
     "output_type": "stream",
     "text": [
      "bioconda/noarch          [       <=>          ] (00m:01s) 2 MB / ?? (1.50 MB/s)\n",
      "conda-forge/linux-64     [      <=>           ] (00m:00s) 3 MB / ?? (1.55 MB/s)\n",
      "conda-forge/noarch       [      <=>           ] (00m:00s) 2 MB / ?? (1.31 MB/s)\n",
      "bioconda/linux-64        [      <=>           ] (00m:00s) 2 MB / ?? (1.34 MB/s)\n",
      "bioconda/noarch          [       <=>          ] (00m:01s) 3 MB / ?? (1.57 MB/s)\n",
      "conda-forge/linux-64     [      <=>           ] (00m:00s) 3 MB / ?? (1.55 MB/s)\n",
      "conda-forge/noarch       [      <=>           ] (00m:00s) 2 MB / ?? (1.31 MB/s)\n",
      "bioconda/linux-64        [      <=>           ] (00m:00s) 2 MB / ?? (1.34 MB/s)\n",
      "bioconda/noarch          [       <=>          ] (00m:01s) 3 MB / ?? (1.57 MB/s)\n",
      "conda-forge/linux-64     [       <=>          ] (00m:01s) 3 MB / ?? (1.55 MB/s)\n",
      "conda-forge/noarch       [      <=>           ] (00m:01s) 2 MB / ?? (1.31 MB/s)\n",
      "bioconda/linux-64        [      <=>           ] (00m:01s) 2 MB / ?? (1.34 MB/s)\n",
      "bioconda/noarch          [       <=>          ] (00m:01s) 3 MB / ?? (1.57 MB/s)\n",
      "conda-forge/linux-64     [       <=>          ] (00m:01s) 3 MB / ?? (1.62 MB/s)\n",
      "conda-forge/noarch       [      <=>           ] (00m:01s) 2 MB / ?? (1.31 MB/s)\n",
      "bioconda/linux-64        [      <=>           ] (00m:01s) 2 MB / ?? (1.34 MB/s)\n",
      "bioconda/noarch          [       <=>          ] (00m:01s) 3 MB / ?? (1.57 MB/s)\n",
      "conda-forge/linux-64     [       <=>          ] (00m:01s) 3 MB / ?? (1.62 MB/s)\n",
      "conda-forge/noarch       [       <=>          ] (00m:01s) 2 MB / ?? (1.31 MB/s)\n",
      "bioconda/linux-64        [      <=>           ] (00m:01s) 2 MB / ?? (1.34 MB/s)\n",
      "bioconda/noarch          [       <=>          ] (00m:01s) 3 MB / ?? (1.57 MB/s)\n",
      "conda-forge/linux-64     [       <=>          ] (00m:01s) 3 MB / ?? (1.62 MB/s)\n",
      "conda-forge/noarch       [       <=>          ] (00m:01s) 3 MB / ?? (1.36 MB/s)\n",
      "bioconda/linux-64        [      <=>           ] (00m:01s) 2 MB / ?? (1.34 MB/s)\n",
      "bioconda/noarch          [       <=>          ] (00m:01s) 3 MB / ?? (1.57 MB/s)\n",
      "conda-forge/linux-64     [       <=>          ] (00m:01s) 3 MB / ?? (1.62 MB/s)\n",
      "conda-forge/noarch       [       <=>          ] (00m:01s) 3 MB / ?? (1.36 MB/s)\n",
      "bioconda/linux-64        [       <=>          ] (00m:01s) 2 MB / ?? (1.34 MB/s)\n",
      "bioconda/noarch          [       <=>          ] (00m:01s) 3 MB / ?? (1.57 MB/s)\n",
      "conda-forge/linux-64     [       <=>          ] (00m:01s) 3 MB / ?? (1.62 MB/s)\n",
      "conda-forge/noarch       [       <=>          ] (00m:01s) 3 MB / ?? (1.36 MB/s)\n",
      "bioconda/linux-64        [       <=>          ] (00m:01s) 3 MB / ?? (1.43 MB/s)\n",
      "bioconda/noarch          [        <=>         ] (00m:01s) 3 MB / ?? (1.57 MB/s)\n",
      "conda-forge/linux-64     [       <=>          ] (00m:01s) 3 MB / ?? (1.62 MB/s)\n",
      "conda-forge/noarch       [       <=>          ] (00m:01s) 3 MB / ?? (1.36 MB/s)\n",
      "bioconda/linux-64        [       <=>          ] (00m:01s) 3 MB / ?? (1.43 MB/s)\n",
      "bioconda/noarch          [        <=>         ] (00m:01s) 3 MB / ?? (1.62 MB/s)\n",
      "conda-forge/linux-64     [       <=>          ] (00m:01s) 3 MB / ?? (1.62 MB/s)\n",
      "conda-forge/noarch       [       <=>          ] (00m:01s) 3 MB / ?? (1.36 MB/s)\n",
      "bioconda/linux-64        [       <=>          ] (00m:01s) 3 MB / ?? (1.43 MB/s)\n",
      "bioconda/noarch          [        <=>         ] (00m:01s) Finalizing...\n",
      "conda-forge/linux-64     [       <=>          ] (00m:01s) 3 MB / ?? (1.62 MB/s)\n",
      "conda-forge/noarch       [       <=>          ] (00m:01s) 3 MB / ?? (1.36 MB/s)\n",
      "bioconda/linux-64        [       <=>          ] (00m:01s) 3 MB / ?? (1.43 MB/s)\n",
      "bioconda/noarch          [        <=>         ] (00m:01s) Done\n",
      "conda-forge/linux-64     [       <=>          ] (00m:01s) 3 MB / ?? (1.62 MB/s)\n",
      "conda-forge/noarch       [       <=>          ] (00m:01s) 3 MB / ?? (1.36 MB/s)\n",
      "bioconda/linux-64        [       <=>          ] (00m:01s) 3 MB / ?? (1.43 MB/s)\n",
      "bioconda/noarch          [====================] (00m:01s) Done\n",
      "conda-forge/linux-64     [       <=>          ] (00m:01s) 3 MB / ?? (1.62 MB/s)\n",
      "conda-forge/noarch       [       <=>          ] (00m:01s) 3 MB / ?? (1.36 MB/s)\n",
      "bioconda/linux-64        [       <=>          ] (00m:01s) 3 MB / ?? (1.43 MB/s)\n",
      "conda-forge/linux-64     [        <=>         ] (00m:01s) 3 MB / ?? (1.62 MB/s)\n",
      "conda-forge/noarch       [       <=>          ] (00m:01s) 3 MB / ?? (1.36 MB/s)\n",
      "bioconda/linux-64        [       <=>          ] (00m:01s) 3 MB / ?? (1.43 MB/s)\n",
      "conda-forge/linux-64     [        <=>         ] (00m:01s) 3 MB / ?? (1.70 MB/s)\n",
      "conda-forge/noarch       [       <=>          ] (00m:01s) 3 MB / ?? (1.36 MB/s)\n",
      "bioconda/linux-64        [       <=>          ] (00m:01s) 3 MB / ?? (1.43 MB/s)\n",
      "conda-forge/linux-64     [        <=>         ] (00m:01s) 3 MB / ?? (1.70 MB/s)\n",
      "conda-forge/noarch       [        <=>         ] (00m:01s) 3 MB / ?? (1.36 MB/s)\n",
      "bioconda/linux-64        [       <=>          ] (00m:01s) 3 MB / ?? (1.43 MB/s)\n",
      "conda-forge/linux-64     [        <=>         ] (00m:01s) 3 MB / ?? (1.70 MB/s)\n",
      "conda-forge/noarch       [        <=>         ] (00m:01s) 3 MB / ?? (1.45 MB/s)\n",
      "bioconda/linux-64        [       <=>          ] (00m:01s) 3 MB / ?? (1.43 MB/s)\n",
      "conda-forge/linux-64     [        <=>         ] (00m:01s) 3 MB / ?? (1.70 MB/s)\n",
      "conda-forge/noarch       [        <=>         ] (00m:01s) 3 MB / ?? (1.45 MB/s)\n",
      "bioconda/linux-64        [        <=>         ] (00m:01s) 3 MB / ?? (1.43 MB/s)\n",
      "conda-forge/linux-64     [        <=>         ] (00m:01s) 3 MB / ?? (1.70 MB/s)\n",
      "conda-forge/noarch       [        <=>         ] (00m:01s) 3 MB / ?? (1.45 MB/s)\n",
      "bioconda/linux-64        [        <=>         ] (00m:01s) 3 MB / ?? (1.50 MB/s)\n",
      "conda-forge/linux-64     [         <=>        ] (00m:01s) 3 MB / ?? (1.70 MB/s)\n",
      "conda-forge/noarch       [        <=>         ] (00m:01s) 3 MB / ?? (1.45 MB/s)\n",
      "bioconda/linux-64        [        <=>         ] (00m:01s) 3 MB / ?? (1.50 MB/s)\n",
      "conda-forge/linux-64     [         <=>        ] (00m:01s) 4 MB / ?? (1.75 MB/s)\n",
      "conda-forge/noarch       [        <=>         ] (00m:01s) 3 MB / ?? (1.45 MB/s)\n",
      "bioconda/linux-64        [        <=>         ] (00m:01s) 3 MB / ?? (1.50 MB/s)\n",
      "conda-forge/linux-64     [         <=>        ] (00m:01s) 4 MB / ?? (1.75 MB/s)\n",
      "conda-forge/noarch       [         <=>        ] (00m:01s) 3 MB / ?? (1.45 MB/s)\n",
      "bioconda/linux-64        [        <=>         ] (00m:01s) 3 MB / ?? (1.50 MB/s)\n",
      "conda-forge/linux-64     [         <=>        ] (00m:01s) 4 MB / ?? (1.75 MB/s)\n",
      "conda-forge/noarch       [         <=>        ] (00m:01s) 3 MB / ?? (1.52 MB/s)\n",
      "bioconda/linux-64        [        <=>         ] (00m:01s) 3 MB / ?? (1.50 MB/s)\n",
      "conda-forge/linux-64     [         <=>        ] (00m:01s) 4 MB / ?? (1.75 MB/s)\n",
      "conda-forge/noarch       [         <=>        ] (00m:01s) 3 MB / ?? (1.52 MB/s)\n",
      "bioconda/linux-64        [         <=>        ] (00m:01s) 3 MB / ?? (1.50 MB/s)\n",
      "conda-forge/linux-64     [         <=>        ] (00m:01s) 4 MB / ?? (1.75 MB/s)\n",
      "conda-forge/noarch       [         <=>        ] (00m:01s) 3 MB / ?? (1.52 MB/s)\n",
      "bioconda/linux-64        [         <=>        ] (00m:01s) 3 MB / ?? (1.57 MB/s)\n",
      "conda-forge/linux-64     [         <=>        ] (00m:01s) 4 MB / ?? (1.75 MB/s)\n",
      "conda-forge/noarch       [         <=>        ] (00m:01s) 3 MB / ?? (1.52 MB/s)\n",
      "bioconda/linux-64        [         <=>        ] (00m:01s) Finalizing...\n",
      "conda-forge/linux-64     [         <=>        ] (00m:01s) 4 MB / ?? (1.75 MB/s)\n",
      "conda-forge/noarch       [         <=>        ] (00m:01s) 3 MB / ?? (1.52 MB/s)\n",
      "bioconda/linux-64        [         <=>        ] (00m:01s) Done\n",
      "bioconda/linux-64        [====================] (00m:01s) Done\n",
      "conda-forge/linux-64     [         <=>        ] (00m:01s) 4 MB / ?? (1.75 MB/s)\n",
      "conda-forge/noarch       [         <=>        ] (00m:01s) 3 MB / ?? (1.52 MB/s)\n",
      "conda-forge/linux-64     [          <=>       ] (00m:01s) 4 MB / ?? (1.75 MB/s)\n",
      "conda-forge/noarch       [         <=>        ] (00m:01s) 3 MB / ?? (1.52 MB/s)\n",
      "conda-forge/linux-64     [          <=>       ] (00m:01s) 4 MB / ?? (1.82 MB/s)\n",
      "conda-forge/noarch       [         <=>        ] (00m:01s) 3 MB / ?? (1.52 MB/s)\n",
      "conda-forge/linux-64     [          <=>       ] (00m:01s) 4 MB / ?? (1.82 MB/s)\n",
      "conda-forge/noarch       [          <=>       ] (00m:01s) 3 MB / ?? (1.52 MB/s)\n",
      "conda-forge/linux-64     [          <=>       ] (00m:01s) 4 MB / ?? (1.82 MB/s)\n",
      "conda-forge/noarch       [          <=>       ] (00m:01s) 4 MB / ?? (1.58 MB/s)\n"
     ]
    },
    {
     "name": "stdout",
     "output_type": "stream",
     "text": [
      "conda-forge/linux-64     [           <=>      ] (00m:01s) 4 MB / ?? (1.82 MB/s)\n",
      "conda-forge/noarch       [          <=>       ] (00m:01s) 4 MB / ?? (1.58 MB/s)\n",
      "conda-forge/linux-64     [           <=>      ] (00m:01s) 5 MB / ?? (1.88 MB/s)\n",
      "conda-forge/noarch       [          <=>       ] (00m:01s) 4 MB / ?? (1.58 MB/s)\n",
      "conda-forge/linux-64     [           <=>      ] (00m:01s) 5 MB / ?? (1.88 MB/s)\n",
      "conda-forge/noarch       [           <=>      ] (00m:01s) 4 MB / ?? (1.58 MB/s)\n",
      "conda-forge/linux-64     [           <=>      ] (00m:01s) 5 MB / ?? (1.88 MB/s)\n",
      "conda-forge/noarch       [           <=>      ] (00m:01s) 4 MB / ?? (1.63 MB/s)\n",
      "conda-forge/linux-64     [            <=>     ] (00m:01s) 5 MB / ?? (1.88 MB/s)\n",
      "conda-forge/noarch       [           <=>      ] (00m:01s) 4 MB / ?? (1.63 MB/s)\n",
      "conda-forge/linux-64     [            <=>     ] (00m:01s) 5 MB / ?? (1.91 MB/s)\n",
      "conda-forge/noarch       [           <=>      ] (00m:01s) 4 MB / ?? (1.63 MB/s)\n",
      "conda-forge/linux-64     [            <=>     ] (00m:01s) 5 MB / ?? (1.91 MB/s)\n",
      "conda-forge/noarch       [            <=>     ] (00m:01s) 4 MB / ?? (1.63 MB/s)\n",
      "conda-forge/linux-64     [            <=>     ] (00m:01s) 5 MB / ?? (1.91 MB/s)\n",
      "conda-forge/noarch       [            <=>     ] (00m:01s) 4 MB / ?? (1.66 MB/s)\n",
      "conda-forge/linux-64     [             <=>    ] (00m:01s) 5 MB / ?? (1.91 MB/s)\n",
      "conda-forge/noarch       [            <=>     ] (00m:01s) 4 MB / ?? (1.66 MB/s)\n",
      "conda-forge/linux-64     [             <=>    ] (00m:01s) 5 MB / ?? (1.95 MB/s)\n",
      "conda-forge/noarch       [            <=>     ] (00m:01s) 4 MB / ?? (1.66 MB/s)\n",
      "conda-forge/linux-64     [             <=>    ] (00m:01s) 5 MB / ?? (1.95 MB/s)\n",
      "conda-forge/noarch       [             <=>    ] (00m:01s) 4 MB / ?? (1.66 MB/s)\n",
      "conda-forge/linux-64     [             <=>    ] (00m:01s) 5 MB / ?? (1.95 MB/s)\n",
      "conda-forge/noarch       [             <=>    ] (00m:01s) 5 MB / ?? (1.70 MB/s)\n",
      "conda-forge/linux-64     [              <=>   ] (00m:02s) 5 MB / ?? (1.95 MB/s)\n",
      "conda-forge/noarch       [             <=>    ] (00m:02s) 5 MB / ?? (1.70 MB/s)\n",
      "conda-forge/linux-64     [              <=>   ] (00m:02s) 6 MB / ?? (1.99 MB/s)\n",
      "conda-forge/noarch       [             <=>    ] (00m:02s) 5 MB / ?? (1.70 MB/s)\n",
      "conda-forge/linux-64     [              <=>   ] (00m:02s) 6 MB / ?? (1.99 MB/s)\n",
      "conda-forge/noarch       [              <=>   ] (00m:02s) 5 MB / ?? (1.70 MB/s)\n",
      "conda-forge/linux-64     [              <=>   ] (00m:02s) 6 MB / ?? (1.99 MB/s)\n",
      "conda-forge/noarch       [              <=>   ] (00m:02s) 5 MB / ?? (1.72 MB/s)\n",
      "conda-forge/linux-64     [               <=>  ] (00m:02s) 6 MB / ?? (1.99 MB/s)\n",
      "conda-forge/noarch       [              <=>   ] (00m:02s) 5 MB / ?? (1.72 MB/s)\n",
      "conda-forge/linux-64     [               <=>  ] (00m:02s) 6 MB / ?? (2.01 MB/s)\n",
      "conda-forge/noarch       [              <=>   ] (00m:02s) 5 MB / ?? (1.72 MB/s)\n",
      "conda-forge/linux-64     [               <=>  ] (00m:02s) 6 MB / ?? (2.01 MB/s)\n",
      "conda-forge/noarch       [               <=>  ] (00m:02s) 5 MB / ?? (1.72 MB/s)\n",
      "conda-forge/linux-64     [               <=>  ] (00m:02s) 6 MB / ?? (2.01 MB/s)\n",
      "conda-forge/noarch       [               <=>  ] (00m:02s) 5 MB / ?? (1.76 MB/s)\n",
      "conda-forge/linux-64     [                <=> ] (00m:02s) 6 MB / ?? (2.01 MB/s)\n",
      "conda-forge/noarch       [               <=>  ] (00m:02s) 5 MB / ?? (1.76 MB/s)\n",
      "conda-forge/linux-64     [                <=> ] (00m:02s) 7 MB / ?? (2.01 MB/s)\n",
      "conda-forge/noarch       [               <=>  ] (00m:02s) 5 MB / ?? (1.76 MB/s)\n",
      "conda-forge/linux-64     [                <=> ] (00m:02s) 7 MB / ?? (2.01 MB/s)\n",
      "conda-forge/noarch       [                <=> ] (00m:02s) 5 MB / ?? (1.76 MB/s)\n",
      "conda-forge/linux-64     [                <=> ] (00m:02s) 7 MB / ?? (2.01 MB/s)\n",
      "conda-forge/noarch       [                <=> ] (00m:02s) 6 MB / ?? (1.78 MB/s)\n",
      "conda-forge/linux-64     [                 <=>] (00m:02s) 7 MB / ?? (2.01 MB/s)\n",
      "conda-forge/noarch       [                <=> ] (00m:02s) 6 MB / ?? (1.78 MB/s)\n",
      "conda-forge/linux-64     [                 <=>] (00m:02s) 7 MB / ?? (2.05 MB/s)\n",
      "conda-forge/noarch       [                <=> ] (00m:02s) 6 MB / ?? (1.78 MB/s)\n",
      "conda-forge/linux-64     [                 <=>] (00m:02s) 7 MB / ?? (2.05 MB/s)\n",
      "conda-forge/noarch       [                 <=>] (00m:02s) 6 MB / ?? (1.78 MB/s)\n",
      "conda-forge/linux-64     [                 <=>] (00m:02s) 7 MB / ?? (2.05 MB/s)\n",
      "conda-forge/noarch       [                 <=>] (00m:02s) 6 MB / ?? (1.80 MB/s)\n",
      "conda-forge/linux-64     [                  <=] (00m:02s) 7 MB / ?? (2.05 MB/s)\n",
      "conda-forge/noarch       [                 <=>] (00m:02s) 6 MB / ?? (1.80 MB/s)\n",
      "conda-forge/linux-64     [                  <=] (00m:02s) 7 MB / ?? (2.07 MB/s)\n",
      "conda-forge/noarch       [                 <=>] (00m:02s) 6 MB / ?? (1.80 MB/s)\n",
      "conda-forge/linux-64     [                  <=] (00m:02s) 7 MB / ?? (2.07 MB/s)\n",
      "conda-forge/noarch       [                  <=] (00m:02s) 6 MB / ?? (1.80 MB/s)\n",
      "conda-forge/linux-64     [                  <=] (00m:02s) 7 MB / ?? (2.07 MB/s)\n",
      "conda-forge/noarch       [                  <=] (00m:02s) 6 MB / ?? (1.82 MB/s)\n",
      "conda-forge/linux-64     [                   <] (00m:02s) 7 MB / ?? (2.07 MB/s)\n",
      "conda-forge/noarch       [                  <=] (00m:02s) 6 MB / ?? (1.82 MB/s)\n",
      "conda-forge/linux-64     [                   <] (00m:02s) 8 MB / ?? (2.10 MB/s)\n",
      "conda-forge/noarch       [                  <=] (00m:02s) 6 MB / ?? (1.82 MB/s)\n",
      "conda-forge/linux-64     [                   <] (00m:02s) 8 MB / ?? (2.10 MB/s)\n",
      "conda-forge/noarch       [                   <] (00m:02s) 6 MB / ?? (1.82 MB/s)\n",
      "conda-forge/linux-64     [                   <] (00m:02s) 8 MB / ?? (2.10 MB/s)\n",
      "conda-forge/noarch       [                   <] (00m:02s) 7 MB / ?? (1.84 MB/s)\n",
      "conda-forge/linux-64     [                   <] (00m:02s) 8 MB / ?? (2.10 MB/s)\n",
      "conda-forge/noarch       [                   <] (00m:02s) Finalizing...\n",
      "conda-forge/linux-64     [                   <] (00m:03s) 8 MB / ?? (2.10 MB/s)\n",
      "conda-forge/noarch       [                   <] (00m:03s) Done\n",
      "conda-forge/noarch       [====================] (00m:03s) Done\n",
      "conda-forge/linux-64     [                   <] (00m:03s) 8 MB / ?? (2.10 MB/s)\n",
      "conda-forge/linux-64     [                    ] (00m:03s) 8 MB / ?? (2.10 MB/s)\n",
      "conda-forge/linux-64     [                    ] (00m:03s) 8 MB / ?? (2.06 MB/s)\n",
      "conda-forge/linux-64     [                    ] (00m:03s) 8 MB / ?? (2.06 MB/s)\n",
      "conda-forge/linux-64     [                    ] (00m:03s) 9 MB / ?? (2.13 MB/s)\n",
      "conda-forge/linux-64     [                    ] (00m:03s) 9 MB / ?? (2.13 MB/s)\n",
      "conda-forge/linux-64     [                    ] (00m:03s) 9 MB / ?? (2.14 MB/s)\n",
      "conda-forge/linux-64     [                    ] (00m:03s) 9 MB / ?? (2.14 MB/s)\n",
      "conda-forge/linux-64     [                    ] (00m:03s) 9 MB / ?? (2.15 MB/s)\n",
      "conda-forge/linux-64     [                    ] (00m:03s) 9 MB / ?? (2.15 MB/s)\n",
      "conda-forge/linux-64     [                   ] (00m:03s) 10 MB / ?? (2.16 MB/s)\n",
      "conda-forge/linux-64     [                   ] (00m:03s) 10 MB / ?? (2.16 MB/s)\n",
      "conda-forge/linux-64     [                   ] (00m:03s) 10 MB / ?? (2.17 MB/s)\n",
      "conda-forge/linux-64     [                   ] (00m:03s) 10 MB / ?? (2.17 MB/s)\n",
      "conda-forge/linux-64     [                   ] (00m:03s) 10 MB / ?? (2.18 MB/s)\n",
      "conda-forge/linux-64     [                   ] (00m:04s) 10 MB / ?? (2.18 MB/s)\n",
      "conda-forge/linux-64     [                   ] (00m:04s) 11 MB / ?? (2.17 MB/s)\n",
      "conda-forge/linux-64     [                   ] (00m:04s) 11 MB / ?? (2.17 MB/s)\n",
      "conda-forge/linux-64     [                   ] (00m:04s) 11 MB / ?? (2.18 MB/s)\n",
      "conda-forge/linux-64     [                   ] (00m:04s) 11 MB / ?? (2.18 MB/s)\n",
      "conda-forge/linux-64     [                   ] (00m:04s) 12 MB / ?? (2.20 MB/s)\n",
      "conda-forge/linux-64     [                   ] (00m:04s) 12 MB / ?? (2.20 MB/s)\n",
      "conda-forge/linux-64     [                   ] (00m:04s) 12 MB / ?? (2.21 MB/s)\n",
      "conda-forge/linux-64     [                   ] (00m:04s) 12 MB / ?? (2.21 MB/s)\n",
      "conda-forge/linux-64     [                   ] (00m:04s) 12 MB / ?? (2.22 MB/s)\n",
      "conda-forge/linux-64     [                   ] (00m:04s) 12 MB / ?? (2.22 MB/s)\n",
      "conda-forge/linux-64     [                   ] (00m:04s) 13 MB / ?? (2.23 MB/s)\n"
     ]
    },
    {
     "name": "stdout",
     "output_type": "stream",
     "text": [
      "conda-forge/linux-64     [                   ] (00m:04s) 13 MB / ?? (2.23 MB/s)\n",
      "conda-forge/linux-64     [                   ] (00m:04s) 13 MB / ?? (2.24 MB/s)\n",
      "conda-forge/linux-64     [                   ] (00m:05s) 13 MB / ?? (2.24 MB/s)\n",
      "conda-forge/linux-64     [                   ] (00m:05s) 13 MB / ?? (2.25 MB/s)\n",
      "conda-forge/linux-64     [                   ] (00m:05s) 13 MB / ?? (2.25 MB/s)\n",
      "conda-forge/linux-64     [                   ] (00m:05s) 14 MB / ?? (2.25 MB/s)\n",
      "conda-forge/linux-64     [                   ] (00m:05s) 14 MB / ?? (2.25 MB/s)\n",
      "conda-forge/linux-64     [                   ] (00m:05s) 14 MB / ?? (2.25 MB/s)\n",
      "conda-forge/linux-64     [                   ] (00m:05s) 14 MB / ?? (2.25 MB/s)\n",
      "conda-forge/linux-64     [                   ] (00m:05s) 15 MB / ?? (2.26 MB/s)\n",
      "conda-forge/linux-64     [                   ] (00m:05s) 15 MB / ?? (2.26 MB/s)\n",
      "conda-forge/linux-64     [                   ] (00m:05s) 15 MB / ?? (2.26 MB/s)\n",
      "conda-forge/linux-64     [                   ] (00m:05s) 15 MB / ?? (2.26 MB/s)\n",
      "conda-forge/linux-64     [                   ] (00m:05s) 15 MB / ?? (2.26 MB/s)\n",
      "conda-forge/linux-64     [                   ] (00m:06s) 15 MB / ?? (2.26 MB/s)\n",
      "conda-forge/linux-64     [                   ] (00m:06s) 16 MB / ?? (2.27 MB/s)\n",
      "conda-forge/linux-64     [                   ] (00m:06s) 16 MB / ?? (2.27 MB/s)\n",
      "conda-forge/linux-64     [                   ] (00m:06s) 16 MB / ?? (2.26 MB/s)\n",
      "conda-forge/linux-64     [                   ] (00m:06s) 16 MB / ?? (2.26 MB/s)\n",
      "conda-forge/linux-64     [                   ] (00m:06s) 16 MB / ?? (2.27 MB/s)\n",
      "conda-forge/linux-64     [                   ] (00m:06s) 16 MB / ?? (2.27 MB/s)\n",
      "conda-forge/linux-64     [                   ] (00m:06s) 17 MB / ?? (2.27 MB/s)\n",
      "conda-forge/linux-64     [                   ] (00m:06s) 17 MB / ?? (2.27 MB/s)\n",
      "conda-forge/linux-64     [                   ] (00m:06s) 17 MB / ?? (2.26 MB/s)\n",
      "conda-forge/linux-64     [                   ] (00m:06s) 17 MB / ?? (2.26 MB/s)\n",
      "conda-forge/linux-64     [                   ] (00m:06s) 17 MB / ?? (2.26 MB/s)\n",
      "conda-forge/linux-64     [                   ] (00m:06s) 17 MB / ?? (2.26 MB/s)\n",
      "conda-forge/linux-64     [                   ] (00m:06s) 18 MB / ?? (2.26 MB/s)\n",
      "conda-forge/linux-64     [                   ] (00m:07s) 18 MB / ?? (2.26 MB/s)\n",
      "conda-forge/linux-64     [                   ] (00m:07s) 18 MB / ?? (2.27 MB/s)\n",
      "conda-forge/linux-64     [                   ] (00m:07s) 18 MB / ?? (2.27 MB/s)\n",
      "conda-forge/linux-64     [                   ] (00m:07s) 18 MB / ?? (2.28 MB/s)\n",
      "conda-forge/linux-64     [                   ] (00m:07s) 18 MB / ?? (2.28 MB/s)\n",
      "conda-forge/linux-64     [                   ] (00m:07s) 19 MB / ?? (2.29 MB/s)\n",
      "conda-forge/linux-64     [                   ] (00m:07s) 19 MB / ?? (2.29 MB/s)\n",
      "conda-forge/linux-64     [                   ] (00m:07s) 19 MB / ?? (2.31 MB/s)\n",
      "conda-forge/linux-64     [                   ] (00m:07s) 19 MB / ?? (2.31 MB/s)\n",
      "conda-forge/linux-64     [                   ] (00m:07s) 20 MB / ?? (2.31 MB/s)\n",
      "conda-forge/linux-64     [                    ] (00m:07s) Finalizing...\n",
      "conda-forge/linux-64     [                    ] (00m:07s) Done\n",
      "conda-forge/linux-64     [====================] (00m:07s) Done\n",
      "Transaction\n",
      "\n",
      "  Prefix: /home/pkruczkiewicz/miniconda3\n",
      "\n",
      "  Updating specs:\n",
      "\n",
      "   - mafft==7.490\n",
      "\n",
      "\n",
      "  Package  Version  Build       Channel                 Size\n",
      "──────────────────────────────────────────────────────────────\n",
      "  Upgrade:\n",
      "──────────────────────────────────────────────────────────────\n",
      "\n",
      "\u001b[31m  mafft  \u001b[00m    7.471  h516909a_0  installed                   \n",
      "\u001b[32m  mafft  \u001b[00m    7.490  h779adbc_0  bioconda/linux-64\u001b[32m     Cached\u001b[00m\n",
      "\n",
      "  Summary:\n",
      "\n",
      "  Upgrade: 1 packages\n",
      "\n",
      "  Total download: 0  B\n",
      "\n",
      "──────────────────────────────────────────────────────────────\n",
      "\n",
      "Preparing transaction: done\n",
      "Verifying transaction: done\n",
      "Executing transaction: done\n"
     ]
    }
   ],
   "source": [
    "!mamba install -y mafft=7.490"
   ]
  },
  {
   "cell_type": "code",
   "execution_count": 210,
   "metadata": {
    "ExecuteTime": {
     "end_time": "2022-02-17T17:34:53.394280Z",
     "start_time": "2022-02-17T17:34:53.260116Z"
    }
   },
   "outputs": [
    {
     "name": "stdout",
     "output_type": "stream",
     "text": [
      "v7.490 (2021/Oct/30)\r\n"
     ]
    }
   ],
   "source": [
    "!mafft --version"
   ]
  },
  {
   "cell_type": "code",
   "execution_count": 211,
   "metadata": {
    "ExecuteTime": {
     "end_time": "2022-02-17T17:34:59.384990Z",
     "start_time": "2022-02-17T17:34:59.239212Z"
    }
   },
   "outputs": [
    {
     "name": "stdout",
     "output_type": "stream",
     "text": [
      "------------------------------------------------------------------------------\r\n",
      "  MAFFT v7.490 (2021/Oct/30)\r\n",
      "  https://mafft.cbrc.jp/alignment/software/\r\n",
      "  MBE 30:772-780 (2013), NAR 30:3059-3066 (2002)\r\n",
      "------------------------------------------------------------------------------\r\n",
      "High speed:\r\n",
      "  % mafft in > out\r\n",
      "  % mafft --retree 1 in > out (fast)\r\n",
      "\r\n",
      "High accuracy (for <~200 sequences x <~2,000 aa/nt):\r\n",
      "  % mafft --maxiterate 1000 --localpair  in > out (% linsi in > out is also ok)\r\n",
      "  % mafft --maxiterate 1000 --genafpair  in > out (% einsi in > out)\r\n",
      "  % mafft --maxiterate 1000 --globalpair in > out (% ginsi in > out)\r\n",
      "\r\n",
      "If unsure which option to use:\r\n",
      "  % mafft --auto in > out\r\n",
      "\r\n",
      "--op # :         Gap opening penalty, default: 1.53\r\n",
      "--ep # :         Offset (works like gap extension penalty), default: 0.0\r\n",
      "--maxiterate # : Maximum number of iterative refinement, default: 0\r\n",
      "--clustalout :   Output: clustal format, default: fasta\r\n",
      "--reorder :      Outorder: aligned, default: input order\r\n",
      "--quiet :        Do not report progress\r\n",
      "--thread # :     Number of threads (if unsure, --thread -1)\r\n",
      "--dash :         Add structural information (Rozewicki et al, submitted)\r\n"
     ]
    }
   ],
   "source": [
    "!mafft --help"
   ]
  },
  {
   "cell_type": "code",
   "execution_count": 212,
   "metadata": {
    "ExecuteTime": {
     "end_time": "2022-02-17T17:36:43.333729Z",
     "start_time": "2022-02-17T17:36:31.191834Z"
    }
   },
   "outputs": [
    {
     "name": "stdout",
     "output_type": "stream",
     "text": [
      "OS = linux\n",
      "The number of physical cores =  8\n",
      "nthread = 8\n",
      "nthreadpair = 8\n",
      "nthreadtb = 8\n",
      "ppenalty_ex = 0\n",
      "stacksize: 8192 kb\n",
      "generating a scoring matrix for nucleotide (dist=200) ... done\n",
      "Gap Penalty = -1.53, +0.00, +0.00\n",
      "\n",
      "\n",
      "\n",
      "Making a distance matrix ..\n",
      "\n",
      "There are 35536 ambiguous characters.\n",
      "  101 / 157 (thread    7)\n",
      "done.\n",
      "\n",
      "Constructing a UPGMA tree (efffree=0) ... \n",
      "  150 / 157\n",
      "done.\n",
      "\n",
      "Progressive alignment 1/2... \n",
      "STEP   126 / 156 (thread    1)\n",
      "Reallocating..done. *alloclen = 60827\n",
      "STEP   156 / 156 (thread    3)\n",
      "done.\n",
      "\n",
      "Making a distance matrix from msa.. \n",
      "  100 / 157 (thread    2)\n",
      "done.\n",
      "\n",
      "Constructing a UPGMA tree (efffree=1) ... \n",
      "  150 / 157\n",
      "done.\n",
      "\n",
      "Progressive alignment 2/2... \n",
      "STEP   148 / 156 (thread    1)\n",
      "Reallocating..done. *alloclen = 60830\n",
      "STEP   156 / 156 (thread    6)\n",
      "done.\n",
      "\n",
      "disttbfast (nuc) Version 7.490\n",
      "alg=A, model=DNA200 (2), 1.53 (4.59), -0.00 (-0.00), noshift, amax=0.0\n",
      "8 thread(s)\n",
      "\n",
      "\n",
      "Strategy:\n",
      " FFT-NS-2 (Fast but rough)\n",
      " Progressive method (guide trees were built 2 times.)\n",
      "\n",
      "If unsure which option to use, try 'mafft --auto input > output'.\n",
      "For more information, see 'mafft --help', 'mafft --man' and the mafft page.\n",
      "\n",
      "The default gap scoring scheme has been changed in version 7.110 (2013 Oct).\n",
      "It tends to insert more gaps into gap-rich regions than previous versions.\n",
      "To disable this change, add the --leavegappyregion option.\n",
      "\n"
     ]
    }
   ],
   "source": [
    "!mafft --thread -1 --auto subtree.fasta > subtree.mafft.fasta"
   ]
  },
  {
   "cell_type": "code",
   "execution_count": 229,
   "metadata": {
    "ExecuteTime": {
     "end_time": "2022-02-18T14:29:55.386012Z",
     "start_time": "2022-02-18T14:29:43.480915Z"
    }
   },
   "outputs": [
    {
     "name": "stdout",
     "output_type": "stream",
     "text": [
      "OS = linux\n",
      "The number of physical cores =  8\n",
      "nthread = 8\n",
      "nthreadpair = 8\n",
      "nthreadtb = 8\n",
      "ppenalty_ex = 0\n",
      "stacksize: 8192 kb\n",
      "generating a scoring matrix for nucleotide (dist=200) ... done\n",
      "Gap Penalty = -1.53, +0.00, +0.00\n",
      "\n",
      "\n",
      "\n",
      "Making a distance matrix ..\n",
      "\n",
      "There are 35536 ambiguous characters.\n",
      "  101 / 158 (thread    2)\n",
      "done.\n",
      "\n",
      "Constructing a UPGMA tree (efffree=0) ... \n",
      "  150 / 158\n",
      "done.\n",
      "\n",
      "Progressive alignment 1/2... \n",
      "STEP   120 / 157 (thread    7)\n",
      "Reallocating..done. *alloclen = 60827\n",
      "STEP   157 / 157 (thread    5)\n",
      "done.\n",
      "\n",
      "Making a distance matrix from msa.. \n",
      "  100 / 158 (thread    6)\n",
      "done.\n",
      "\n",
      "Constructing a UPGMA tree (efffree=1) ... \n",
      "  150 / 158\n",
      "done.\n",
      "\n",
      "Progressive alignment 2/2... \n",
      "STEP   150 / 157 (thread    6)\n",
      "Reallocating..done. *alloclen = 60830\n",
      "STEP   157 / 157 (thread    0)\n",
      "done.\n",
      "\n",
      "disttbfast (nuc) Version 7.490\n",
      "alg=A, model=DNA200 (2), 1.53 (4.59), -0.00 (-0.00), noshift, amax=0.0\n",
      "8 thread(s)\n",
      "\n",
      "\n",
      "Strategy:\n",
      " FFT-NS-2 (Fast but rough)\n",
      " Progressive method (guide trees were built 2 times.)\n",
      "\n",
      "If unsure which option to use, try 'mafft --auto input > output'.\n",
      "For more information, see 'mafft --help', 'mafft --man' and the mafft page.\n",
      "\n",
      "The default gap scoring scheme has been changed in version 7.110 (2013 Oct).\n",
      "It tends to insert more gaps into gap-rich regions than previous versions.\n",
      "To disable this change, add the --leavegappyregion option.\n",
      "\n"
     ]
    }
   ],
   "source": [
    "!mafft --thread -1 --auto subtree-with-ref.fasta > subtree-with-ref.mafft.fasta"
   ]
  },
  {
   "cell_type": "code",
   "execution_count": 214,
   "metadata": {
    "ExecuteTime": {
     "end_time": "2022-02-17T17:41:28.089224Z",
     "start_time": "2022-02-17T17:41:27.971439Z"
    }
   },
   "outputs": [
    {
     "name": "stdout",
     "output_type": "stream",
     "text": [
      "IQ-TREE multicore version 2.2.0-beta COVID-edition for Linux 64-bit built Dec 21 2021 built Dec 21 2021\r\n",
      "Developed by Bui Quang Minh, James Barbetti, Nguyen Lam Tung,\r\n",
      "Olga Chernomor, Heiko Schmidt, Dominik Schrempf, Michael Woodhams, Ly Trong Nhan.\r\n",
      "\r\n"
     ]
    }
   ],
   "source": [
    "!iqtree --version"
   ]
  },
  {
   "cell_type": "markdown",
   "metadata": {},
   "source": [
    "# IQ-TREE phylogenetic analysis"
   ]
  },
  {
   "cell_type": "code",
   "execution_count": 222,
   "metadata": {
    "ExecuteTime": {
     "end_time": "2022-02-17T17:52:38.534961Z",
     "start_time": "2022-02-17T17:51:36.468594Z"
    },
    "scrolled": true
   },
   "outputs": [
    {
     "name": "stdout",
     "output_type": "stream",
     "text": [
      "IQ-TREE multicore version 2.2.0-beta COVID-edition for Linux 64-bit built Dec 21 2021 built Dec 21 2021\n",
      "Developed by Bui Quang Minh, James Barbetti, Nguyen Lam Tung,\n",
      "Olga Chernomor, Heiko Schmidt, Dominik Schrempf, Michael Woodhams, Ly Trong Nhan.\n",
      "\n",
      "Host:    ncfadlaptop (AVX2, FMA3, 62 GB RAM)\n",
      "Command: iqtree -s subtree.mafft.fasta --prefix subtree.mafft.iqtree -T 16 -m GTR -B 1000\n",
      "Seed:    485643 (Using SPRNG - Scalable Parallel Random Number Generator)\n",
      "Time:    Thu Feb 17 11:51:36 2022\n",
      "Kernel:  AVX+FMA - 16 threads (16 CPU cores detected)\n",
      "\n",
      "Reading alignment file subtree.mafft.fasta ... Fasta format detected\n",
      "Reading fasta file: done in 0.046123 secs using 91.71% CPU\n",
      "Alignment most likely contains DNA/RNA sequences\n",
      "Constructing alignment: done in 0.0319899 secs using 565.7% CPU\n",
      "WARNING: 8 sites contain only gaps or ambiguous characters.\n",
      "Alignment has 157 sequences with 29928 columns, 1352 distinct patterns\n",
      "152 parsimony-informative, 150 singleton sites, 29626 constant sites\n",
      "                                        Gap/Ambiguity  Composition  p-value\n",
      "Analyzing sequences: done in 0.000153645 secs using 1322% CPU\n",
      "   1  4534                                      5.46%    passed     99.89%\n",
      "   2  4538                                     13.55%    passed     63.09%\n",
      "   3  4581                                      0.32%    passed     90.10%\n",
      "   4  4645                                      0.33%    passed     90.93%\n",
      "   5  4649                                      3.38%    passed     95.59%\n",
      "   6  4658                                      0.26%    passed     85.68%\n",
      "   7  4662                                      1.23%    passed     90.32%\n",
      "   8  mink/USA/MI-CDC-3886891-001/2020          3.42%    passed     84.16%\n",
      "   9  mink/USA/MI-CDC-3886779-001/2020          1.90%    passed     99.58%\n",
      "  10  mink/USA/MI-CDC-3886772-001/2020          0.08%    passed     99.83%\n",
      "  11  mink/USA/MI-CDC-3886954-001/2020          0.06%    passed     99.81%\n",
      "  12  mink/USA/MI-CDC-3886940-001/2020          0.08%    passed     99.66%\n",
      "  13  mink/USA/MI-CDC-3886953-001/2020          0.06%    passed     99.83%\n",
      "  14  mink/USA/MI-CDC-3886955-001/2020          0.07%    passed     99.70%\n",
      "  15  mink/USA/MI-CDC-3886516-001/2020          0.72%    passed     99.05%\n",
      "  16  mink/USA/MI-CDC-3886613-001/2020          0.05%    passed     99.79%\n",
      "  17  mink/USA/MI-CDC-3886799-001/2020          0.80%    passed     99.49%\n",
      "  18  mink/USA/MI-CDC-3886875-001/2020          0.07%    passed     99.71%\n",
      "  19  mink/USA/MI-CDC-3886755-001/2020          0.05%    passed     99.74%\n",
      "  20  mink/USA/MI-CDC-3886391-001/2020          0.06%    passed     99.77%\n",
      "  21  mink/USA/MI-CDC-3886398-001/2020          0.06%    passed     99.78%\n",
      "  22  mink/USA/MI-CDC-3886430-001/2020          0.06%    passed     99.73%\n",
      "  23  mink/USA/MI-CDC-3886759-001/2020          0.05%    passed     99.79%\n",
      "  24  mink/USA/MI-CDC-3886765-001/2020          0.07%    passed     99.71%\n",
      "  25  mink/USA/MI-CDC-3886786-001/2020          0.06%    passed     99.84%\n",
      "  26  mink/USA/MI-CDC-3886793-001/2020          0.06%    passed     99.85%\n",
      "  27  mink/USA/MI-CDC-3886854-001/2020          0.05%    passed     99.79%\n",
      "  28  mink/USA/MI-CDC-3886941-001/2020          0.05%    passed     99.79%\n",
      "  29  mink/USA/MI-CDC-3886434-001/2020          0.40%    passed     99.62%\n",
      "  30  mink/USA/MI-CDC-3886922-001/2020          0.30%    passed     99.86%\n",
      "  31  mink/USA/MI-CDC-3886800-001/2020          0.05%    passed     99.78%\n",
      "  32  mink/USA/MI-CDC-3886810-001/2020          0.06%    passed     99.75%\n",
      "  33  mink/USA/MI-CDC-3886841-001/2020          0.05%    passed     99.74%\n",
      "  34  mink/USA/MI-CDC-3886865-001/2020          0.06%    passed     99.83%\n",
      "  35  mink/USA/MI-CDC-3886708-001/2020          0.06%    passed     99.78%\n",
      "  36  mink/USA/MI-CDC-3886720-001/2020          0.05%    passed     99.79%\n",
      "  37  mink/USA/MI-CDC-3886572-001/2020          0.13%    passed     99.70%\n",
      "  38  mink/USA/MI-CDC-3886711-001/2020          0.10%    passed     99.53%\n",
      "  39  mink/USA/MI-CDC-3886712-001/2020          0.10%    passed     99.54%\n",
      "  40  mink/USA/MI-CDC-3886724-001/2020          0.09%    passed     99.59%\n",
      "  41  mink/USA/MI-CDC-3886725-001/2020          0.10%    passed     99.56%\n",
      "  42  mink/USA/MI-CDC-3886453-001/2020          0.10%    passed     99.56%\n",
      "  43  mink/USA/MI-CDC-3886495-001/2020          0.09%    passed     99.56%\n",
      "  44  mink/USA/MI-CDC-3886540-001/2020          0.10%    passed     99.64%\n",
      "  45  mink/USA/MI-CDC-3886544-001/2020          0.10%    passed     99.61%\n",
      "  46  mink/USA/MI-CDC-3886602-001/2020          0.09%    passed     99.59%\n",
      "  47  mink/USA/MI-CDC-3886641-001/2020          0.09%    passed     99.59%\n",
      "  48  mink/USA/MI-CDC-3886648-001/2020          0.10%    passed     99.58%\n",
      "  49  mink/USA/MI-CDC-3886693-001/2020          0.09%    passed     99.59%\n",
      "  50  mink/USA/MI-CDC-3886707-001/2020          0.09%    passed     99.59%\n",
      "  51  mink/USA/MI-CDC-3886719-001/2020          0.09%    passed     99.59%\n",
      "  52  mink/USA/MI-CDC-3886727-001/2020          0.09%    passed     99.59%\n",
      "  53  mink/USA/MI-CDC-3886734-001/2020          0.09%    passed     99.59%\n",
      "  54  mink/USA/MI-CDC-3886496-001/2020          0.10%    passed     99.57%\n",
      "  55  mink/USA/MI-CDC-3886492-001/2020          0.09%    passed     99.59%\n",
      "  56  mink/USA/MI-CDC-3886552-001/2020          0.09%    passed     99.56%\n",
      "  57  mink/USA/MI-CDC-3886603-001/2020          0.09%    passed     99.59%\n",
      "  58  mink/USA/MI-CDC-3886624-001/2020          0.09%    passed     99.57%\n",
      "  59  mink/USA/MI-CDC-3886694-001/2020          0.09%    passed     99.59%\n",
      "  60  mink/USA/MI-CDC-3886728-001/2020          0.10%    passed     99.54%\n",
      "  61  mink/USA/MI-CDC-3886709-001/2020          0.10%    passed     99.56%\n",
      "  62  mink/USA/WI-CDC-3892918-001/2020          2.63%    passed     99.26%\n",
      "  63  mink/USA/WI-CDC-3892612-001/2020          1.98%    passed     99.31%\n",
      "  64  mink/USA/WI-CDC-3892607-001/2020          1.72%    passed     98.90%\n",
      "  65  mink/USA/WI-CDC-3892618-001/2020          9.64%    passed     94.46%\n",
      "  66  mink/USA/WI-CDC-3892596-001/2020          0.45%    passed     99.84%\n",
      "  67  mink/USA/WI-CDC-3892917-001/2020          0.45%    passed     99.86%\n",
      "  68  mink/USA/WI-CDC-3892921-001/2020          0.44%    passed     99.87%\n",
      "  69  mink/USA/WI-CDC-3892928-001/2020          0.44%    passed     99.86%\n",
      "  70  mink/USA/WI-CDC-3892624-001/2020          0.67%    passed     99.66%\n",
      "  71  mink/USA/WI-CDC-3892625-001/2020          0.44%    passed     99.82%\n",
      "  72  mink/USA/WI-CDC-3892568-001/2020          0.44%    passed     99.88%\n",
      "  73  mink/USA/WI-CDC-3892576-001/2020          0.44%    passed     99.86%\n",
      "  74  mink/USA/WI-CDC-3892578-001/2020          0.44%    passed     99.87%\n",
      "  75  mink/USA/WI-CDC-3892580-001/2020          0.34%    passed     99.79%\n",
      "  76  mink/USA/WI-CDC-3892584-001/2020          0.44%    passed     99.86%\n",
      "  77  mink/USA/WI-CDC-3892588-001/2020          0.44%    passed     99.90%\n",
      "  78  mink/USA/WI-CDC-3892898-001/2020          0.47%    passed     99.89%\n",
      "  79  mink/USA/WI-CDC-3892916-001/2020          0.63%    passed     99.85%\n",
      "  80  mink/USA/WI-CDC-3892840-001/2020          0.50%    passed     99.89%\n",
      "  81  mink/USA/WI-CDC-3892849-001/2020          1.21%    passed     99.91%\n",
      "  82  mink/USA/WI-CDC-3892875-001/2020          0.44%    passed     99.87%\n",
      "  83  mink/USA/WI-CDC-3892876-001/2020          0.46%    passed     99.86%\n",
      "  84  mink/USA/WI-CDC-3892894-001/2020          0.45%    passed     99.90%\n",
      "  85  mink/USA/WI-CDC-3892896-001/2020          0.53%    passed     99.93%\n",
      "  86  mink/USA/WI-CDC-3892899-001/2020          0.44%    passed     99.84%\n",
      "  87  mink/USA/WI-CDC-3892604-001/2020          0.51%    passed     99.86%\n",
      "  88  mink/USA/WI-CDC-3892577-001/2020          0.44%    passed     99.84%\n",
      "  89  mink/USA/WI-CDC-3892579-001/2020          0.44%    passed     99.86%\n",
      "  90  mink/USA/WI-CDC-3892581-001/2020          0.44%    passed     99.88%\n",
      "  91  mink/USA/WI-CDC-3892583-001/2020          0.44%    passed     99.84%\n",
      "  92  mink/USA/WI-CDC-3892585-001/2020          0.44%    passed     99.89%\n",
      "  93  mink/USA/WI-CDC-3892586-001/2020          0.45%    passed     99.90%\n",
      "  94  mink/USA/WI-CDC-3892587-001/2020          0.44%    passed     99.84%\n",
      "  95  mink/USA/WI-CDC-3892589-001/2020          0.44%    passed     99.84%\n",
      "  96  mink/USA/WI-CDC-3892591-001/2020          0.44%    passed     99.86%\n",
      "  97  mink/USA/WI-CDC-3892592-001/2020          0.44%    passed     99.86%\n",
      "  98  mink/USA/WI-CDC-3892594-001/2020          0.44%    passed     99.82%\n",
      "  99  USA/NE-CUMC_21081058/2021                22.56%    passed     87.59%\n",
      " 100  USA/NJ-NYGC-NJ-BioR-303-AmpliSeq/2020     0.50%    passed     99.86%\n",
      " 101  USA/TX-HMH-MCoV-33283/2020                0.35%    passed     99.97%\n",
      " 102  USA/TX-HMH-MCoV-34187/2020                0.26%    passed     99.86%\n",
      " 103  USA/TX-HMH-MCoV-34510/2020               10.63%    passed     97.56%\n",
      " 104  USA/TX-HMH-MCoV-34780/2020                0.24%    passed     99.90%\n",
      " 105  USA/TX-HMH-MCoV-35117/2020                0.42%    passed     99.98%\n",
      " 106  USA/TX-HMH-MCoV-39934/2020                7.74%    passed     98.20%\n",
      " 107  USA/TX-HMH-MCoV-40474/2020                2.46%    passed     99.93%\n",
      " 108  USA/TX-HMH-MCoV-40777/2020                0.36%    passed     99.91%\n",
      " 109  USA/TX-HMH-MCoV-40932/2020                0.39%    passed     99.89%\n",
      " 110  USA/TX-HMH-MCoV-41555/2020                0.33%    passed     99.90%\n",
      " 111  mink/USA/MI-20-028629-002/2020            0.24%    passed     99.97%\n",
      " 112  mink/USA/MI-20-028629-004/2020            0.30%    passed     99.94%\n",
      " 113  mink/USA/WI-20-028748-001/2020            0.33%    passed     99.91%\n",
      " 114  mink/USA/WI-20-028748-002/2020            0.32%    passed     99.91%\n",
      " 115  mink/USA/WI-20-028748-006/2020            0.31%    passed     99.90%\n",
      " 116  mink/USA/WI-20-031493-001/2020            0.44%    passed     99.93%\n",
      " 117  mink/USA/WI-20-031493-003/2020            0.45%    passed     99.90%\n",
      " 118  USA/TX-HMH-MCoV-39546/2020                0.61%    passed     99.87%\n",
      " 119  cat/USA/TX-TAMU-270-20-032807-007/2020    0.32%    passed     99.78%\n",
      " 120  cat/USA/TX-TAMU-269-20-032807-002/2020    0.41%    passed     99.87%\n",
      " 121  cat/USA/TX-TAMU-146-20-024806-001/2020    0.31%    passed     99.88%\n",
      " 122  dog/USA/TX-TAMU-096-20-024606-001/2020    0.31%    passed     99.88%\n",
      " 123  deer/USA/OH-OSU-0057/2021                 0.45%    passed     99.90%\n",
      " 124  deer/USA/OH-OSU-0058/2021                 0.39%    passed     99.87%\n",
      " 125  USA/CO-CDPHE-2010132029/2020              1.40%    passed     99.68%\n",
      " 126  Canada/ON-PHL-21-44225/2021               1.38%    passed     91.14%\n",
      " 127  USA/TX-HMH-MCoV-8963/2020                 0.30%    passed     99.83%\n",
      " 128  USA/MI-MDHHS-SC23517/2020                 5.91%    passed     90.04%\n",
      " 129  USA/GA-CDC-4049091-001/2020               0.35%    passed     99.82%\n",
      " 130  USA/LA-EVTL699/2020                       0.29%    passed     99.87%\n",
      " 131  USA/TX-HMH-3118/2020                      0.49%    passed     99.96%\n",
      " 132  USA/TX-HMH-3169/2020                      0.49%    passed     99.97%\n",
      " 133  USA/TX-HMH-4685/2020                      4.13%    passed     94.11%\n",
      " 134  USA/TX-HMH-4696/2020                      0.49%    passed     99.97%\n",
      " 135  USA/MI-MDHHS-SC22125/2020                 0.78%    passed     99.89%\n",
      " 136  USA/MI-MDHHS-SC22140/2020                 2.89%    passed     98.20%\n",
      " 137  USA/WI-WSLH-200721/2020                   1.24%    passed     99.83%\n",
      " 138  USA/MI-MDHHS-SC22669/2020                 5.26%    passed     94.55%\n",
      " 139  USA/TX-HMH-MCoV-8462/2020                 0.31%    passed     99.95%\n",
      " 140  USA/TX-HMH-MCoV-8792/2020                 0.28%    passed     99.95%\n",
      " 141  USA/TX-HMH-MCoV-16299/2020                0.21%    passed     99.76%\n",
      " 142  USA/TX-HMH-MCoV-12254/2020                0.22%    passed     99.90%\n",
      " 143  USA/CA-CZB-13805/2020                     1.89%    passed     99.83%\n",
      " 144  USA/CO-CDPHE-2100254859/2021              0.44%    passed     99.93%\n",
      " 145  mink/USA/WI-CDC-3892621-001/2020          2.68%    passed     98.43%\n",
      " 146  mink/USA/WI-CDC-3892850-001/2020          2.38%    passed     99.77%\n",
      " 147  mink/USA/WI-CDC-3892848-001/2020          2.30%    passed     98.80%\n",
      " 148  mink/USA/WI-CDC-3892842-001/2020          1.70%    passed     99.71%\n",
      " 149  mink/USA/WI-CDC-3892911-001/2020          0.44%    passed     99.82%\n",
      " 150  mink/USA/WI-CDC-3892938-001/2020          0.44%    passed     99.87%\n",
      " 151  mink/USA/WI-CDC-3892847-001/2020          0.44%    passed     99.86%\n",
      " 152  mink/USA/WI-CDC-3892883-001/2020          0.45%    passed     99.86%\n",
      " 153  mink/USA/WI-CDC-3892613-001/2020          1.48%    passed     99.85%\n",
      " 154  mink/USA/WI-CDC-3892590-001/2020          0.44%    passed     99.84%\n",
      " 155  USA/AZ-TG745741/2020                      2.49%    passed     99.69%\n",
      " 156  USA/TX-HMH-MCoV-16519/2020                0.41%    passed     99.78%\n",
      " 157  USA/WI-CDC-4065253-001/2021               0.31%    passed     99.82%\n",
      "****  TOTAL                                     1.04%  0 sequences failed composition chi2 test (p-value<5%; df=3)\n",
      "NOTE: mink/USA/MI-CDC-3886759-001/2020 is identical to mink/USA/MI-CDC-3886613-001/2020 but kept for subsequent analysis\n",
      "NOTE: mink/USA/MI-CDC-3886602-001/2020 is identical to mink/USA/MI-CDC-3886724-001/2020 but kept for subsequent analysis\n",
      "NOTE: mink/USA/WI-CDC-3892584-001/2020 is identical to mink/USA/WI-CDC-3892576-001/2020 but kept for subsequent analysis\n",
      "NOTE: mink/USA/WI-CDC-3892583-001/2020 is identical to mink/USA/WI-CDC-3892577-001/2020 but kept for subsequent analysis\n",
      "Checking for duplicate sequences: done in 0.000985793 secs using 891.2% CPU\n"
     ]
    },
    {
     "name": "stdout",
     "output_type": "stream",
     "text": [
      "Identifying sites to remove: done in 0.0177862 secs using 1169% CPU\n",
      "NOTE: 16 identical sequences (see below) will be ignored for subsequent analysis\n",
      "NOTE: mink/USA/MI-CDC-3886941-001/2020 (identical to mink/USA/MI-CDC-3886613-001/2020) is ignored but added at the end\n",
      "NOTE: mink/USA/MI-CDC-3886720-001/2020 (identical to mink/USA/MI-CDC-3886613-001/2020) is ignored but added at the end\n",
      "NOTE: mink/USA/MI-CDC-3886641-001/2020 (identical to mink/USA/MI-CDC-3886724-001/2020) is ignored but added at the end\n",
      "NOTE: mink/USA/MI-CDC-3886693-001/2020 (identical to mink/USA/MI-CDC-3886724-001/2020) is ignored but added at the end\n",
      "NOTE: mink/USA/MI-CDC-3886707-001/2020 (identical to mink/USA/MI-CDC-3886724-001/2020) is ignored but added at the end\n",
      "NOTE: mink/USA/MI-CDC-3886719-001/2020 (identical to mink/USA/MI-CDC-3886724-001/2020) is ignored but added at the end\n",
      "NOTE: mink/USA/MI-CDC-3886727-001/2020 (identical to mink/USA/MI-CDC-3886724-001/2020) is ignored but added at the end\n",
      "NOTE: mink/USA/MI-CDC-3886734-001/2020 (identical to mink/USA/MI-CDC-3886724-001/2020) is ignored but added at the end\n",
      "NOTE: mink/USA/MI-CDC-3886492-001/2020 (identical to mink/USA/MI-CDC-3886724-001/2020) is ignored but added at the end\n",
      "NOTE: mink/USA/MI-CDC-3886603-001/2020 (identical to mink/USA/MI-CDC-3886724-001/2020) is ignored but added at the end\n",
      "NOTE: mink/USA/MI-CDC-3886694-001/2020 (identical to mink/USA/MI-CDC-3886724-001/2020) is ignored but added at the end\n",
      "NOTE: mink/USA/WI-CDC-3892579-001/2020 (identical to mink/USA/WI-CDC-3892576-001/2020) is ignored but added at the end\n",
      "NOTE: mink/USA/WI-CDC-3892591-001/2020 (identical to mink/USA/WI-CDC-3892576-001/2020) is ignored but added at the end\n",
      "NOTE: mink/USA/WI-CDC-3892592-001/2020 (identical to mink/USA/WI-CDC-3892576-001/2020) is ignored but added at the end\n",
      "NOTE: mink/USA/WI-CDC-3892587-001/2020 (identical to mink/USA/WI-CDC-3892577-001/2020) is ignored but added at the end\n",
      "NOTE: mink/USA/WI-CDC-3892589-001/2020 (identical to mink/USA/WI-CDC-3892577-001/2020) is ignored but added at the end\n",
      "Alignment was printed to subtree.mafft.iqtree.uniqueseq.phy\n",
      "\n",
      "For your convenience alignment with unique sequences printed to subtree.mafft.iqtree.uniqueseq.phy\n",
      "Creating fast initial parsimony tree by random order stepwise addition...\n",
      "0.152 seconds, parsimony score: 320 (based on 302 sites)\n",
      "Generating 1000 samples for ultrafast bootstrap (seed: 485643)...\n",
      "\n",
      "NOTE: 11 MB RAM (0 GB) is required!\n",
      "WARNING: Number of threads seems too high for short alignments. Use -T AUTO to determine best number of threads.\n",
      "Estimate model parameters (epsilon = 0.100)\n",
      "1. Initial log-likelihood: -43895.191\n",
      "2. Current log-likelihood: -43742.564\n",
      "3. Current log-likelihood: -43664.478\n",
      "Optimal log-likelihood: -43664.402\n",
      "Rate parameters:  A-C: 0.20693  A-G: 0.96107  A-T: 0.14395  C-G: 0.07190  C-T: 4.44360  G-T: 1.00000\n",
      "Base frequencies:  A: 0.299  C: 0.183  G: 0.196  T: 0.321\n",
      "Parameters optimization took 3 rounds (0.210 sec)\n",
      "Wrote distance file to... \n",
      "Computing ML distances based on estimated model parameters...\n",
      "Calculating distance matrix: done in 0.0209522 secs using 1489% CPU\n",
      "Computing ML distances took 0.021322 sec (of wall-clock time) 0.312301 sec (of CPU time)\n",
      "Setting up auxiliary I and S matrices: done in 0.00322977 secs using 226.8% CPU\n",
      "Constructing RapidNJ tree: done in 0.244307 secs using 67.5% CPU\n",
      "Computing RapidNJ tree took 0.247671 sec (of wall-clock time) 0.173056 sec (of CPU time)\n",
      "Log-likelihood of RapidNJ tree: -43682.174\n",
      "--------------------------------------------------------------------\n",
      "|             INITIALIZING CANDIDATE TREE SET                      |\n",
      "--------------------------------------------------------------------\n",
      "Generating 98 parsimony trees... 1.227 second\n",
      "Computing log-likelihood of 98 initial trees ... 0.798 seconds\n",
      "Current best score: -43649.832\n",
      "\n",
      "Do NNI search on 20 best initial trees\n",
      "Optimizing NNI: done in 1.42338 secs using 1490% CPU\n",
      "Estimate model parameters (epsilon = 0.100)\n",
      "BETTER TREE FOUND at iteration 1: -43649.350\n",
      "Optimizing NNI: done in 0.428987 secs using 1548% CPU\n",
      "Optimizing NNI: done in 0.232899 secs using 1539% CPU\n",
      "Optimizing NNI: done in 0.529151 secs using 1547% CPU\n",
      "Optimizing NNI: done in 0.501461 secs using 1547% CPU\n",
      "Optimizing NNI: done in 0.839294 secs using 1546% CPU\n",
      "Optimizing NNI: done in 0.416647 secs using 1543% CPU\n",
      "Optimizing NNI: done in 0.595066 secs using 1519% CPU\n",
      "Optimizing NNI: done in 0.244152 secs using 1558% CPU\n",
      "Optimizing NNI: done in 0.50976 secs using 1529% CPU\n",
      "Iteration 10 / LogL: -43650.288 / Time: 0h:0m:8s\n",
      "Optimizing NNI: done in 0.326531 secs using 1543% CPU\n",
      "Optimizing NNI: done in 0.547969 secs using 1550% CPU\n",
      "Optimizing NNI: done in 0.84517 secs using 1529% CPU\n",
      "Optimizing NNI: done in 0.498015 secs using 1556% CPU\n",
      "Optimizing NNI: done in 0.429374 secs using 1535% CPU\n",
      "Optimizing NNI: done in 0.514206 secs using 1513% CPU\n",
      "Optimizing NNI: done in 0.610345 secs using 1548% CPU\n",
      "Optimizing NNI: done in 0.534677 secs using 1531% CPU\n",
      "Optimizing NNI: done in 0.591603 secs using 1553% CPU\n",
      "Optimizing NNI: done in 0.534883 secs using 1569% CPU\n",
      "Iteration 20 / LogL: -43649.662 / Time: 0h:0m:14s\n",
      "Finish initializing candidate tree set (20)\n",
      "Current best tree score: -43649.350 / CPU time: 13.258\n",
      "Number of iterations: 20\n",
      "--------------------------------------------------------------------\n",
      "|               OPTIMIZING CANDIDATE TREE SET                      |\n",
      "--------------------------------------------------------------------\n",
      "Optimizing NNI: done in 0.0916051 secs using 1551% CPU\n",
      "Optimizing NNI: done in 0.114911 secs using 1549% CPU\n",
      "Optimizing NNI: done in 0.355033 secs using 1555% CPU\n",
      "Optimizing NNI: done in 0.196618 secs using 1560% CPU\n",
      "Optimizing NNI: done in 0.416741 secs using 1541% CPU\n",
      "Optimizing NNI: done in 0.271516 secs using 1557% CPU\n",
      "Optimizing NNI: done in 0.352287 secs using 1571% CPU\n",
      "Optimizing NNI: done in 0.166059 secs using 1560% CPU\n",
      "Optimizing NNI: done in 0.269475 secs using 1562% CPU\n",
      "Optimizing NNI: done in 0.23107 secs using 1566% CPU\n",
      "Iteration 30 / LogL: -43650.028 / Time: 0h:0m:16s (0h:0m:40s left)\n",
      "Optimizing NNI: done in 0.207041 secs using 1582% CPU\n",
      "Optimizing NNI: done in 0.273684 secs using 1547% CPU\n",
      "Optimizing NNI: done in 0.289485 secs using 1582% CPU\n",
      "Optimizing NNI: done in 0.340887 secs using 1547% CPU\n",
      "Optimizing NNI: done in 0.246793 secs using 1575% CPU\n",
      "Optimizing NNI: done in 0.331753 secs using 1591% CPU\n",
      "Optimizing NNI: done in 0.226519 secs using 1579% CPU\n",
      "Optimizing NNI: done in 0.285089 secs using 1571% CPU\n",
      "Optimizing NNI: done in 0.163186 secs using 1572% CPU\n",
      "Optimizing NNI: done in 0.259055 secs using 1569% CPU\n",
      "Iteration 40 / LogL: -43659.319 / Time: 0h:0m:19s (0h:0m:29s left)\n",
      "Optimizing NNI: done in 0.207565 secs using 1567% CPU\n",
      "Optimizing NNI: done in 0.220071 secs using 1581% CPU\n",
      "Optimizing NNI: done in 0.315743 secs using 1581% CPU\n",
      "Optimizing NNI: done in 0.294442 secs using 1578% CPU\n",
      "Optimizing NNI: done in 0.308745 secs using 1587% CPU\n",
      "Optimizing NNI: done in 0.431483 secs using 1564% CPU\n",
      "Optimizing NNI: done in 0.1249 secs using 1605% CPU\n",
      "Optimizing NNI: done in 0.18368 secs using 1575% CPU\n",
      "Optimizing NNI: done in 0.215062 secs using 1578% CPU\n",
      "Optimizing NNI: done in 0.0947649 secs using 1559% CPU\n",
      "Iteration 50 / LogL: -43650.055 / Time: 0h:0m:21s (0h:0m:22s left)\n",
      "Log-likelihood cutoff on original alignment: -43708.471\n",
      "Optimizing NNI: done in 0.230548 secs using 1586% CPU\n",
      "Optimizing NNI: done in 0.169862 secs using 1575% CPU\n",
      "Optimizing NNI: done in 0.309971 secs using 1565% CPU\n",
      "Optimizing NNI: done in 0.143302 secs using 1562% CPU\n",
      "Optimizing NNI: done in 0.367102 secs using 1578% CPU\n",
      "Optimizing NNI: done in 0.250275 secs using 1567% CPU\n",
      "Optimizing NNI: done in 0.451793 secs using 1565% CPU\n",
      "Optimizing NNI: done in 0.27659 secs using 1559% CPU\n",
      "Optimizing NNI: done in 0.135454 secs using 1550% CPU\n",
      "Optimizing NNI: done in 0.298399 secs using 1567% CPU\n",
      "Iteration 60 / LogL: -43656.549 / Time: 0h:0m:24s (0h:0m:17s left)\n",
      "Optimizing NNI: done in 0.229613 secs using 1577% CPU\n",
      "Optimizing NNI: done in 0.384878 secs using 1560% CPU\n",
      "Optimizing NNI: done in 0.225196 secs using 1575% CPU\n",
      "Optimizing NNI: done in 0.302637 secs using 1576% CPU\n",
      "Optimizing NNI: done in 0.18331 secs using 1584% CPU\n"
     ]
    },
    {
     "name": "stdout",
     "output_type": "stream",
     "text": [
      "Optimizing NNI: done in 0.245482 secs using 1580% CPU\n",
      "Optimizing NNI: done in 0.179862 secs using 1572% CPU\n",
      "Optimizing NNI: done in 0.310166 secs using 1560% CPU\n",
      "Optimizing NNI: done in 0.203498 secs using 1567% CPU\n",
      "Optimizing NNI: done in 0.322135 secs using 1552% CPU\n",
      "Iteration 70 / LogL: -43652.200 / Time: 0h:0m:27s (0h:0m:12s left)\n",
      "Optimizing NNI: done in 0.185395 secs using 1585% CPU\n",
      "Optimizing NNI: done in 0.114686 secs using 1562% CPU\n",
      "Optimizing NNI: done in 0.205381 secs using 1581% CPU\n",
      "Optimizing NNI: done in 0.270787 secs using 1550% CPU\n",
      "Optimizing NNI: done in 0.217734 secs using 1593% CPU\n",
      "Optimizing NNI: done in 0.142412 secs using 1551% CPU\n",
      "Optimizing NNI: done in 0.246825 secs using 1588% CPU\n",
      "Optimizing NNI: done in 0.214893 secs using 1574% CPU\n",
      "Optimizing NNI: done in 0.154705 secs using 1558% CPU\n",
      "Optimizing NNI: done in 0.0919931 secs using 1548% CPU\n",
      "Iteration 80 / LogL: -43725.028 / Time: 0h:0m:29s (0h:0m:7s left)\n",
      "Optimizing NNI: done in 0.171745 secs using 1551% CPU\n",
      "Optimizing NNI: done in 0.256253 secs using 1559% CPU\n",
      "Optimizing NNI: done in 0.3123 secs using 1567% CPU\n",
      "Optimizing NNI: done in 0.260809 secs using 1577% CPU\n",
      "Optimizing NNI: done in 0.172281 secs using 1573% CPU\n",
      "Optimizing NNI: done in 0.212693 secs using 1587% CPU\n",
      "Optimizing NNI: done in 0.199847 secs using 1559% CPU\n",
      "Optimizing NNI: done in 0.304263 secs using 1569% CPU\n",
      "Optimizing NNI: done in 0.292741 secs using 1559% CPU\n",
      "Optimizing NNI: done in 0.301357 secs using 1550% CPU\n",
      "Iteration 90 / LogL: -43656.320 / Time: 0h:0m:32s (0h:0m:4s left)\n",
      "Optimizing NNI: done in 0.263298 secs using 1556% CPU\n",
      "Optimizing NNI: done in 0.337363 secs using 1581% CPU\n",
      "Optimizing NNI: done in 0.267801 secs using 1544% CPU\n",
      "Optimizing NNI: done in 0.241436 secs using 1541% CPU\n",
      "Optimizing NNI: done in 0.254701 secs using 1567% CPU\n",
      "Optimizing NNI: done in 0.271667 secs using 1546% CPU\n",
      "Optimizing NNI: done in 0.18496 secs using 1571% CPU\n",
      "Optimizing NNI: done in 0.15286 secs using 1537% CPU\n",
      "Optimizing NNI: done in 0.223112 secs using 1546% CPU\n",
      "Optimizing NNI: done in 0.262655 secs using 1554% CPU\n",
      "Iteration 100 / LogL: -43652.458 / Time: 0h:0m:35s (0h:0m:0s left)\n",
      "Log-likelihood cutoff on original alignment: -43708.471\n",
      "NOTE: Bootstrap correlation coefficient of split occurrence frequencies: 0.971\n",
      "NOTE: UFBoot does not converge, continue at least 100 more iterations\n",
      "Optimizing NNI: done in 0.175513 secs using 1573% CPU\n",
      "Optimizing NNI: done in 0.149622 secs using 1580% CPU\n",
      "Optimizing NNI: done in 0.171469 secs using 1563% CPU\n",
      "Optimizing NNI: done in 0.229832 secs using 1557% CPU\n",
      "Optimizing NNI: done in 0.131197 secs using 1556% CPU\n",
      "Optimizing NNI: done in 0.139624 secs using 1569% CPU\n",
      "Optimizing NNI: done in 0.18376 secs using 1570% CPU\n",
      "Optimizing NNI: done in 0.162008 secs using 1555% CPU\n",
      "Optimizing NNI: done in 0.181942 secs using 1578% CPU\n",
      "Optimizing NNI: done in 0.191073 secs using 1551% CPU\n",
      "Iteration 110 / LogL: -43659.708 / Time: 0h:0m:37s (0h:0m:30s left)\n",
      "Optimizing NNI: done in 0.240514 secs using 1536% CPU\n",
      "Optimizing NNI: done in 0.272144 secs using 1545% CPU\n",
      "Optimizing NNI: done in 0.232578 secs using 1543% CPU\n",
      "Optimizing NNI: done in 0.171055 secs using 1571% CPU\n",
      "Optimizing NNI: done in 0.166435 secs using 1525% CPU\n",
      "Optimizing NNI: done in 0.252966 secs using 1557% CPU\n",
      "Optimizing NNI: done in 0.206626 secs using 1580% CPU\n",
      "Optimizing NNI: done in 0.256651 secs using 1541% CPU\n",
      "Optimizing NNI: done in 0.225359 secs using 1582% CPU\n",
      "Optimizing NNI: done in 0.122889 secs using 1540% CPU\n",
      "Iteration 120 / LogL: -43668.468 / Time: 0h:0m:40s (0h:0m:26s left)\n",
      "Optimizing NNI: done in 0.151576 secs using 1561% CPU\n",
      "Optimizing NNI: done in 0.165918 secs using 1586% CPU\n",
      "Optimizing NNI: done in 0.235211 secs using 1536% CPU\n",
      "Optimizing NNI: done in 0.318699 secs using 1546% CPU\n",
      "Optimizing NNI: done in 0.24083 secs using 1548% CPU\n",
      "Optimizing NNI: done in 0.230098 secs using 1533% CPU\n",
      "Optimizing NNI: done in 0.112943 secs using 1568% CPU\n",
      "Optimizing NNI: done in 0.353017 secs using 1571% CPU\n",
      "Optimizing NNI: done in 0.130431 secs using 1570% CPU\n",
      "Optimizing NNI: done in 0.347794 secs using 1538% CPU\n",
      "Iteration 130 / LogL: -43666.315 / Time: 0h:0m:42s (0h:0m:23s left)\n",
      "Optimizing NNI: done in 0.144268 secs using 1572% CPU\n",
      "Optimizing NNI: done in 0.243274 secs using 1558% CPU\n",
      "Optimizing NNI: done in 0.202471 secs using 1577% CPU\n",
      "Optimizing NNI: done in 0.210547 secs using 1549% CPU\n",
      "Optimizing NNI: done in 0.152438 secs using 1569% CPU\n",
      "Optimizing NNI: done in 0.159657 secs using 1557% CPU\n",
      "Optimizing NNI: done in 0.255744 secs using 1566% CPU\n",
      "Optimizing NNI: done in 0.264653 secs using 1556% CPU\n",
      "Optimizing NNI: done in 0.116397 secs using 1539% CPU\n",
      "Optimizing NNI: done in 0.151132 secs using 1570% CPU\n",
      "Iteration 140 / LogL: -43658.680 / Time: 0h:0m:45s (0h:0m:19s left)\n",
      "Optimizing NNI: done in 0.137023 secs using 1527% CPU\n",
      "Optimizing NNI: done in 0.188552 secs using 1582% CPU\n",
      "Optimizing NNI: done in 0.19439 secs using 1563% CPU\n",
      "Optimizing NNI: done in 0.244194 secs using 1532% CPU\n",
      "Optimizing NNI: done in 0.210006 secs using 1561% CPU\n",
      "Optimizing NNI: done in 0.126537 secs using 1588% CPU\n",
      "Optimizing NNI: done in 0.127001 secs using 1583% CPU\n",
      "Optimizing NNI: done in 0.141667 secs using 1555% CPU\n",
      "Optimizing NNI: done in 0.151074 secs using 1553% CPU\n",
      "Optimizing NNI: done in 0.211252 secs using 1568% CPU\n",
      "Iteration 150 / LogL: -43652.011 / Time: 0h:0m:47s (0h:0m:15s left)\n",
      "Log-likelihood cutoff on original alignment: -43708.471\n",
      "Optimizing NNI: done in 0.214858 secs using 1585% CPU\n",
      "Optimizing NNI: done in 0.222119 secs using 1547% CPU\n",
      "Optimizing NNI: done in 0.285832 secs using 1577% CPU\n",
      "Optimizing NNI: done in 0.236652 secs using 1578% CPU\n",
      "Optimizing NNI: done in 0.14118 secs using 1562% CPU\n",
      "Optimizing NNI: done in 0.210021 secs using 1542% CPU\n",
      "Optimizing NNI: done in 0.200573 secs using 1570% CPU\n",
      "Optimizing NNI: done in 0.13694 secs using 1574% CPU\n",
      "Optimizing NNI: done in 0.175291 secs using 1556% CPU\n",
      "Optimizing NNI: done in 0.229897 secs using 1582% CPU\n",
      "Iteration 160 / LogL: -43669.936 / Time: 0h:0m:49s (0h:0m:12s left)\n",
      "Optimizing NNI: done in 0.120762 secs using 1553% CPU\n",
      "Optimizing NNI: done in 0.212926 secs using 1587% CPU\n",
      "Optimizing NNI: done in 0.234759 secs using 1533% CPU\n",
      "Optimizing NNI: done in 0.160374 secs using 1567% CPU\n",
      "Optimizing NNI: done in 0.332328 secs using 1573% CPU\n",
      "Optimizing NNI: done in 0.150708 secs using 1569% CPU\n",
      "Optimizing NNI: done in 0.174786 secs using 1572% CPU\n",
      "Optimizing NNI: done in 0.185977 secs using 1579% CPU\n",
      "Optimizing NNI: done in 0.245744 secs using 1544% CPU\n",
      "Optimizing NNI: done in 0.229703 secs using 1587% CPU\n",
      "Iteration 170 / LogL: -43652.566 / Time: 0h:0m:52s (0h:0m:9s left)\n",
      "Optimizing NNI: done in 0.144066 secs using 1560% CPU\n",
      "Optimizing NNI: done in 0.340951 secs using 1576% CPU\n",
      "Optimizing NNI: done in 0.153761 secs using 1579% CPU\n",
      "Optimizing NNI: done in 0.128344 secs using 1596% CPU\n",
      "Optimizing NNI: done in 0.186515 secs using 1528% CPU\n",
      "Optimizing NNI: done in 0.241613 secs using 1575% CPU\n",
      "Optimizing NNI: done in 0.201168 secs using 1570% CPU\n",
      "Optimizing NNI: done in 0.173344 secs using 1582% CPU\n",
      "Optimizing NNI: done in 0.231116 secs using 1560% CPU\n",
      "Optimizing NNI: done in 0.244236 secs using 1598% CPU\n",
      "Iteration 180 / LogL: -43649.542 / Time: 0h:0m:55s (0h:0m:6s left)\n",
      "Optimizing NNI: done in 0.305694 secs using 1546% CPU\n",
      "Optimizing NNI: done in 0.25359 secs using 1566% CPU\n",
      "Optimizing NNI: done in 0.255978 secs using 1577% CPU\n",
      "Optimizing NNI: done in 0.415842 secs using 1560% CPU\n",
      "Optimizing NNI: done in 0.260342 secs using 1544% CPU\n",
      "Optimizing NNI: done in 0.0880195 secs using 1549% CPU\n",
      "Optimizing NNI: done in 0.281217 secs using 1531% CPU\n",
      "Optimizing NNI: done in 0.173462 secs using 1575% CPU\n",
      "Optimizing NNI: done in 0.217368 secs using 1570% CPU\n",
      "Optimizing NNI: done in 0.252884 secs using 1569% CPU\n",
      "Iteration 190 / LogL: -43649.632 / Time: 0h:0m:58s (0h:0m:3s left)\n",
      "Optimizing NNI: done in 0.213116 secs using 1553% CPU\n",
      "Optimizing NNI: done in 0.152304 secs using 1588% CPU\n",
      "Optimizing NNI: done in 0.192395 secs using 1545% CPU\n",
      "Optimizing NNI: done in 0.148395 secs using 1567% CPU\n",
      "Optimizing NNI: done in 0.160209 secs using 1571% CPU\n",
      "Optimizing NNI: done in 0.256782 secs using 1576% CPU\n"
     ]
    },
    {
     "name": "stdout",
     "output_type": "stream",
     "text": [
      "Optimizing NNI: done in 0.409281 secs using 1561% CPU\n",
      "Optimizing NNI: done in 0.270389 secs using 1564% CPU\n",
      "Optimizing NNI: done in 0.182206 secs using 1578% CPU\n",
      "Optimizing NNI: done in 0.250414 secs using 1575% CPU\n",
      "Iteration 200 / LogL: -43649.709 / Time: 0h:1m:0s (0h:0m:0s left)\n",
      "Log-likelihood cutoff on original alignment: -43708.471\n",
      "NOTE: Bootstrap correlation coefficient of split occurrence frequencies: 0.991\n",
      "TREE SEARCH COMPLETED AFTER 200 ITERATIONS / Time: 0h:1m:1s\n",
      "\n",
      "--------------------------------------------------------------------\n",
      "|                    FINALIZING TREE SEARCH                        |\n",
      "--------------------------------------------------------------------\n",
      "Performs final model parameters optimization\n",
      "Estimate model parameters (epsilon = 0.010)\n",
      "1. Initial log-likelihood: -43649.350\n",
      "2. Current log-likelihood: -43649.189\n",
      "Optimal log-likelihood: -43649.182\n",
      "Rate parameters:  A-C: 0.21583  A-G: 1.06857  A-T: 0.13440  C-G: 0.07338  C-T: 4.44336  G-T: 1.00000\n",
      "Base frequencies:  A: 0.299  C: 0.183  G: 0.196  T: 0.321\n",
      "Parameters optimization took 2 rounds (0.031 sec)\n",
      "BEST SCORE FOUND : -43649.182\n",
      "Creating bootstrap support values...\n",
      "Split supports printed to NEXUS file subtree.mafft.iqtree.splits.nex\n",
      "Total tree length: 0.011\n",
      "\n",
      "Total number of iterations: 200\n",
      "CPU time used for tree search: 861.723 sec (0h:14m:21s)\n",
      "Wall-clock time used for tree search: 60.386 sec (0h:1m:0s)\n",
      "Total CPU time used: 870.167 sec (0h:14m:30s)\n",
      "Total wall-clock time used: 61.536 sec (0h:1m:1s)\n",
      "\n",
      "Computing bootstrap consensus tree...\n",
      "Reading input file subtree.mafft.iqtree.splits.nex...\n",
      "141 taxa and 4970 splits.\n",
      "Consensus tree written to subtree.mafft.iqtree.contree\n",
      "Reading input trees file subtree.mafft.iqtree.contree\n",
      "Log-likelihood of consensus tree: -43656.195\n",
      "\n",
      "Analysis results written to: \n",
      "  IQ-TREE report:                subtree.mafft.iqtree.iqtree\n",
      "  Maximum-likelihood tree:       subtree.mafft.iqtree.treefile\n",
      "  Likelihood distances:          subtree.mafft.iqtree.mldist\n",
      "\n",
      "Ultrafast bootstrap approximation results written to:\n",
      "  Split support values:          subtree.mafft.iqtree.splits.nex\n",
      "  Consensus tree:                subtree.mafft.iqtree.contree\n",
      "  Screen log file:               subtree.mafft.iqtree.log\n",
      "\n",
      "Date and Time: Thu Feb 17 11:52:38 2022\n"
     ]
    }
   ],
   "source": [
    "!iqtree -s subtree.mafft.fasta --prefix subtree.mafft.iqtree -T 16 -m GTR -B 1000"
   ]
  },
  {
   "cell_type": "code",
   "execution_count": 230,
   "metadata": {
    "ExecuteTime": {
     "end_time": "2022-02-18T14:31:41.611996Z",
     "start_time": "2022-02-18T14:30:55.070464Z"
    },
    "scrolled": true
   },
   "outputs": [
    {
     "name": "stdout",
     "output_type": "stream",
     "text": [
      "IQ-TREE multicore version 2.2.0-beta COVID-edition for Linux 64-bit built Dec 21 2021 built Dec 21 2021\n",
      "Developed by Bui Quang Minh, James Barbetti, Nguyen Lam Tung,\n",
      "Olga Chernomor, Heiko Schmidt, Dominik Schrempf, Michael Woodhams, Ly Trong Nhan.\n",
      "\n",
      "Host:    ncfadlaptop (AVX2, FMA3, 62 GB RAM)\n",
      "Command: iqtree -s subtree-with-ref.mafft.fasta -o MN908947.3 --prefix subtree-with-ref.mafft.iqtree -T 16 -m GTR -B 1000\n",
      "Seed:    84630 (Using SPRNG - Scalable Parallel Random Number Generator)\n",
      "Time:    Fri Feb 18 08:30:55 2022\n",
      "Kernel:  AVX+FMA - 16 threads (16 CPU cores detected)\n",
      "\n",
      "Reading alignment file subtree-with-ref.mafft.fasta ... Fasta format detected\n",
      "Reading fasta file: done in 0.046182 secs using 94.05% CPU\n",
      "Alignment most likely contains DNA/RNA sequences\n",
      "Constructing alignment: done in 0.0308127 secs using 633.7% CPU\n",
      "WARNING: 8 sites contain only gaps or ambiguous characters.\n",
      "Alignment has 158 sequences with 29928 columns, 1357 distinct patterns\n",
      "152 parsimony-informative, 158 singleton sites, 29618 constant sites\n",
      "                                        Gap/Ambiguity  Composition  p-value\n",
      "Analyzing sequences: done in 0.000132543 secs using 1.274e+04% CPU\n",
      "   1  MN908947.3                                0.08%    passed     99.41%\n",
      "   2  4534                                      5.46%    passed     99.89%\n",
      "   3  4538                                     13.55%    passed     63.02%\n",
      "   4  4581                                      0.32%    passed     90.05%\n",
      "   5  4645                                      0.33%    passed     90.89%\n",
      "   6  4649                                      3.38%    passed     95.58%\n",
      "   7  4658                                      0.26%    passed     85.62%\n",
      "   8  4662                                      1.23%    passed     90.27%\n",
      "   9  mink/USA/MI-CDC-3886891-001/2020          3.42%    passed     84.16%\n",
      "  10  mink/USA/MI-CDC-3886779-001/2020          1.90%    passed     99.58%\n",
      "  11  mink/USA/MI-CDC-3886772-001/2020          0.08%    passed     99.84%\n",
      "  12  mink/USA/MI-CDC-3886954-001/2020          0.06%    passed     99.82%\n",
      "  13  mink/USA/MI-CDC-3886940-001/2020          0.08%    passed     99.67%\n",
      "  14  mink/USA/MI-CDC-3886953-001/2020          0.06%    passed     99.83%\n",
      "  15  mink/USA/MI-CDC-3886955-001/2020          0.07%    passed     99.71%\n",
      "  16  mink/USA/MI-CDC-3886516-001/2020          0.72%    passed     99.05%\n",
      "  17  mink/USA/MI-CDC-3886613-001/2020          0.05%    passed     99.79%\n",
      "  18  mink/USA/MI-CDC-3886799-001/2020          0.80%    passed     99.49%\n",
      "  19  mink/USA/MI-CDC-3886875-001/2020          0.07%    passed     99.72%\n",
      "  20  mink/USA/MI-CDC-3886755-001/2020          0.05%    passed     99.75%\n",
      "  21  mink/USA/MI-CDC-3886391-001/2020          0.06%    passed     99.78%\n",
      "  22  mink/USA/MI-CDC-3886398-001/2020          0.06%    passed     99.78%\n",
      "  23  mink/USA/MI-CDC-3886430-001/2020          0.06%    passed     99.74%\n",
      "  24  mink/USA/MI-CDC-3886759-001/2020          0.05%    passed     99.79%\n",
      "  25  mink/USA/MI-CDC-3886765-001/2020          0.07%    passed     99.71%\n",
      "  26  mink/USA/MI-CDC-3886786-001/2020          0.06%    passed     99.84%\n",
      "  27  mink/USA/MI-CDC-3886793-001/2020          0.06%    passed     99.85%\n",
      "  28  mink/USA/MI-CDC-3886854-001/2020          0.05%    passed     99.79%\n",
      "  29  mink/USA/MI-CDC-3886941-001/2020          0.05%    passed     99.79%\n",
      "  30  mink/USA/MI-CDC-3886434-001/2020          0.40%    passed     99.63%\n",
      "  31  mink/USA/MI-CDC-3886922-001/2020          0.30%    passed     99.87%\n",
      "  32  mink/USA/MI-CDC-3886800-001/2020          0.05%    passed     99.79%\n",
      "  33  mink/USA/MI-CDC-3886810-001/2020          0.06%    passed     99.75%\n",
      "  34  mink/USA/MI-CDC-3886841-001/2020          0.05%    passed     99.75%\n",
      "  35  mink/USA/MI-CDC-3886865-001/2020          0.06%    passed     99.83%\n",
      "  36  mink/USA/MI-CDC-3886708-001/2020          0.06%    passed     99.79%\n",
      "  37  mink/USA/MI-CDC-3886720-001/2020          0.05%    passed     99.79%\n",
      "  38  mink/USA/MI-CDC-3886572-001/2020          0.13%    passed     99.70%\n",
      "  39  mink/USA/MI-CDC-3886711-001/2020          0.10%    passed     99.54%\n",
      "  40  mink/USA/MI-CDC-3886712-001/2020          0.10%    passed     99.55%\n",
      "  41  mink/USA/MI-CDC-3886724-001/2020          0.09%    passed     99.59%\n",
      "  42  mink/USA/MI-CDC-3886725-001/2020          0.10%    passed     99.57%\n",
      "  43  mink/USA/MI-CDC-3886453-001/2020          0.10%    passed     99.57%\n",
      "  44  mink/USA/MI-CDC-3886495-001/2020          0.09%    passed     99.56%\n",
      "  45  mink/USA/MI-CDC-3886540-001/2020          0.10%    passed     99.65%\n",
      "  46  mink/USA/MI-CDC-3886544-001/2020          0.10%    passed     99.61%\n",
      "  47  mink/USA/MI-CDC-3886602-001/2020          0.09%    passed     99.59%\n",
      "  48  mink/USA/MI-CDC-3886641-001/2020          0.09%    passed     99.59%\n",
      "  49  mink/USA/MI-CDC-3886648-001/2020          0.10%    passed     99.58%\n",
      "  50  mink/USA/MI-CDC-3886693-001/2020          0.09%    passed     99.59%\n",
      "  51  mink/USA/MI-CDC-3886707-001/2020          0.09%    passed     99.59%\n",
      "  52  mink/USA/MI-CDC-3886719-001/2020          0.09%    passed     99.59%\n",
      "  53  mink/USA/MI-CDC-3886727-001/2020          0.09%    passed     99.59%\n",
      "  54  mink/USA/MI-CDC-3886734-001/2020          0.09%    passed     99.59%\n",
      "  55  mink/USA/MI-CDC-3886496-001/2020          0.10%    passed     99.57%\n",
      "  56  mink/USA/MI-CDC-3886492-001/2020          0.09%    passed     99.59%\n",
      "  57  mink/USA/MI-CDC-3886552-001/2020          0.09%    passed     99.56%\n",
      "  58  mink/USA/MI-CDC-3886603-001/2020          0.09%    passed     99.59%\n",
      "  59  mink/USA/MI-CDC-3886624-001/2020          0.09%    passed     99.58%\n",
      "  60  mink/USA/MI-CDC-3886694-001/2020          0.09%    passed     99.59%\n",
      "  61  mink/USA/MI-CDC-3886728-001/2020          0.10%    passed     99.55%\n",
      "  62  mink/USA/MI-CDC-3886709-001/2020          0.10%    passed     99.57%\n",
      "  63  mink/USA/WI-CDC-3892918-001/2020          2.63%    passed     99.26%\n",
      "  64  mink/USA/WI-CDC-3892612-001/2020          1.98%    passed     99.31%\n",
      "  65  mink/USA/WI-CDC-3892607-001/2020          1.72%    passed     98.91%\n",
      "  66  mink/USA/WI-CDC-3892618-001/2020          9.64%    passed     94.48%\n",
      "  67  mink/USA/WI-CDC-3892596-001/2020          0.45%    passed     99.84%\n",
      "  68  mink/USA/WI-CDC-3892917-001/2020          0.45%    passed     99.86%\n",
      "  69  mink/USA/WI-CDC-3892921-001/2020          0.44%    passed     99.86%\n",
      "  70  mink/USA/WI-CDC-3892928-001/2020          0.44%    passed     99.86%\n",
      "  71  mink/USA/WI-CDC-3892624-001/2020          0.67%    passed     99.66%\n",
      "  72  mink/USA/WI-CDC-3892625-001/2020          0.44%    passed     99.82%\n",
      "  73  mink/USA/WI-CDC-3892568-001/2020          0.44%    passed     99.87%\n",
      "  74  mink/USA/WI-CDC-3892576-001/2020          0.44%    passed     99.86%\n",
      "  75  mink/USA/WI-CDC-3892578-001/2020          0.44%    passed     99.87%\n",
      "  76  mink/USA/WI-CDC-3892580-001/2020          0.34%    passed     99.79%\n",
      "  77  mink/USA/WI-CDC-3892584-001/2020          0.44%    passed     99.86%\n",
      "  78  mink/USA/WI-CDC-3892588-001/2020          0.44%    passed     99.90%\n",
      "  79  mink/USA/WI-CDC-3892898-001/2020          0.47%    passed     99.89%\n",
      "  80  mink/USA/WI-CDC-3892916-001/2020          0.63%    passed     99.84%\n",
      "  81  mink/USA/WI-CDC-3892840-001/2020          0.50%    passed     99.89%\n",
      "  82  mink/USA/WI-CDC-3892849-001/2020          1.21%    passed     99.91%\n",
      "  83  mink/USA/WI-CDC-3892875-001/2020          0.44%    passed     99.86%\n",
      "  84  mink/USA/WI-CDC-3892876-001/2020          0.46%    passed     99.86%\n",
      "  85  mink/USA/WI-CDC-3892894-001/2020          0.45%    passed     99.89%\n",
      "  86  mink/USA/WI-CDC-3892896-001/2020          0.53%    passed     99.93%\n",
      "  87  mink/USA/WI-CDC-3892899-001/2020          0.44%    passed     99.84%\n",
      "  88  mink/USA/WI-CDC-3892604-001/2020          0.51%    passed     99.86%\n",
      "  89  mink/USA/WI-CDC-3892577-001/2020          0.44%    passed     99.84%\n",
      "  90  mink/USA/WI-CDC-3892579-001/2020          0.44%    passed     99.86%\n",
      "  91  mink/USA/WI-CDC-3892581-001/2020          0.44%    passed     99.88%\n",
      "  92  mink/USA/WI-CDC-3892583-001/2020          0.44%    passed     99.84%\n",
      "  93  mink/USA/WI-CDC-3892585-001/2020          0.44%    passed     99.88%\n",
      "  94  mink/USA/WI-CDC-3892586-001/2020          0.45%    passed     99.90%\n",
      "  95  mink/USA/WI-CDC-3892587-001/2020          0.44%    passed     99.84%\n",
      "  96  mink/USA/WI-CDC-3892589-001/2020          0.44%    passed     99.84%\n",
      "  97  mink/USA/WI-CDC-3892591-001/2020          0.44%    passed     99.86%\n",
      "  98  mink/USA/WI-CDC-3892592-001/2020          0.44%    passed     99.86%\n",
      "  99  mink/USA/WI-CDC-3892594-001/2020          0.44%    passed     99.82%\n",
      " 100  USA/NE-CUMC_21081058/2021                22.56%    passed     87.57%\n",
      " 101  USA/NJ-NYGC-NJ-BioR-303-AmpliSeq/2020     0.50%    passed     99.86%\n",
      " 102  USA/TX-HMH-MCoV-33283/2020                0.35%    passed     99.97%\n",
      " 103  USA/TX-HMH-MCoV-34187/2020                0.26%    passed     99.85%\n",
      " 104  USA/TX-HMH-MCoV-34510/2020               10.63%    passed     97.58%\n",
      " 105  USA/TX-HMH-MCoV-34780/2020                0.24%    passed     99.90%\n",
      " 106  USA/TX-HMH-MCoV-35117/2020                0.42%    passed     99.98%\n",
      " 107  USA/TX-HMH-MCoV-39934/2020                7.74%    passed     98.21%\n",
      " 108  USA/TX-HMH-MCoV-40474/2020                2.46%    passed     99.93%\n",
      " 109  USA/TX-HMH-MCoV-40777/2020                0.36%    passed     99.91%\n",
      " 110  USA/TX-HMH-MCoV-40932/2020                0.39%    passed     99.89%\n",
      " 111  USA/TX-HMH-MCoV-41555/2020                0.33%    passed     99.90%\n",
      " 112  mink/USA/MI-20-028629-002/2020            0.24%    passed     99.97%\n",
      " 113  mink/USA/MI-20-028629-004/2020            0.30%    passed     99.94%\n",
      " 114  mink/USA/WI-20-028748-001/2020            0.33%    passed     99.91%\n",
      " 115  mink/USA/WI-20-028748-002/2020            0.32%    passed     99.91%\n",
      " 116  mink/USA/WI-20-028748-006/2020            0.31%    passed     99.90%\n",
      " 117  mink/USA/WI-20-031493-001/2020            0.44%    passed     99.93%\n",
      " 118  mink/USA/WI-20-031493-003/2020            0.45%    passed     99.90%\n",
      " 119  USA/TX-HMH-MCoV-39546/2020                0.61%    passed     99.87%\n",
      " 120  cat/USA/TX-TAMU-270-20-032807-007/2020    0.32%    passed     99.78%\n",
      " 121  cat/USA/TX-TAMU-269-20-032807-002/2020    0.41%    passed     99.87%\n",
      " 122  cat/USA/TX-TAMU-146-20-024806-001/2020    0.31%    passed     99.88%\n",
      " 123  dog/USA/TX-TAMU-096-20-024606-001/2020    0.31%    passed     99.88%\n",
      " 124  deer/USA/OH-OSU-0057/2021                 0.45%    passed     99.90%\n",
      " 125  deer/USA/OH-OSU-0058/2021                 0.39%    passed     99.87%\n",
      " 126  USA/CO-CDPHE-2010132029/2020              1.40%    passed     99.68%\n",
      " 127  Canada/ON-PHL-21-44225/2021               1.38%    passed     91.09%\n",
      " 128  USA/TX-HMH-MCoV-8963/2020                 0.30%    passed     99.83%\n",
      " 129  USA/MI-MDHHS-SC23517/2020                 5.91%    passed     90.04%\n",
      " 130  USA/GA-CDC-4049091-001/2020               0.35%    passed     99.82%\n",
      " 131  USA/LA-EVTL699/2020                       0.29%    passed     99.87%\n",
      " 132  USA/TX-HMH-3118/2020                      0.49%    passed     99.96%\n",
      " 133  USA/TX-HMH-3169/2020                      0.49%    passed     99.97%\n",
      " 134  USA/TX-HMH-4685/2020                      4.13%    passed     94.09%\n",
      " 135  USA/TX-HMH-4696/2020                      0.49%    passed     99.97%\n",
      " 136  USA/MI-MDHHS-SC22125/2020                 0.78%    passed     99.88%\n",
      " 137  USA/MI-MDHHS-SC22140/2020                 2.89%    passed     98.18%\n",
      " 138  USA/WI-WSLH-200721/2020                   1.24%    passed     99.82%\n",
      " 139  USA/MI-MDHHS-SC22669/2020                 5.26%    passed     94.56%\n",
      " 140  USA/TX-HMH-MCoV-8462/2020                 0.31%    passed     99.95%\n",
      " 141  USA/TX-HMH-MCoV-8792/2020                 0.28%    passed     99.95%\n",
      " 142  USA/TX-HMH-MCoV-16299/2020                0.21%    passed     99.77%\n",
      " 143  USA/TX-HMH-MCoV-12254/2020                0.22%    passed     99.90%\n",
      " 144  USA/CA-CZB-13805/2020                     1.89%    passed     99.83%\n",
      " 145  USA/CO-CDPHE-2100254859/2021              0.44%    passed     99.93%\n",
      " 146  mink/USA/WI-CDC-3892621-001/2020          2.68%    passed     98.43%\n",
      " 147  mink/USA/WI-CDC-3892850-001/2020          2.38%    passed     99.77%\n",
      " 148  mink/USA/WI-CDC-3892848-001/2020          2.30%    passed     98.80%\n",
      " 149  mink/USA/WI-CDC-3892842-001/2020          1.70%    passed     99.71%\n",
      " 150  mink/USA/WI-CDC-3892911-001/2020          0.44%    passed     99.81%\n",
      " 151  mink/USA/WI-CDC-3892938-001/2020          0.44%    passed     99.87%\n",
      " 152  mink/USA/WI-CDC-3892847-001/2020          0.44%    passed     99.86%\n",
      " 153  mink/USA/WI-CDC-3892883-001/2020          0.45%    passed     99.86%\n",
      " 154  mink/USA/WI-CDC-3892613-001/2020          1.48%    passed     99.84%\n",
      " 155  mink/USA/WI-CDC-3892590-001/2020          0.44%    passed     99.84%\n",
      " 156  USA/AZ-TG745741/2020                      2.49%    passed     99.69%\n",
      " 157  USA/TX-HMH-MCoV-16519/2020                0.41%    passed     99.79%\n",
      " 158  USA/WI-CDC-4065253-001/2021               0.31%    passed     99.82%\n",
      "****  TOTAL                                     1.04%  0 sequences failed composition chi2 test (p-value<5%; df=3)\n",
      "NOTE: mink/USA/MI-CDC-3886759-001/2020 is identical to mink/USA/MI-CDC-3886613-001/2020 but kept for subsequent analysis\n",
      "NOTE: mink/USA/MI-CDC-3886602-001/2020 is identical to mink/USA/MI-CDC-3886724-001/2020 but kept for subsequent analysis\n",
      "NOTE: mink/USA/WI-CDC-3892584-001/2020 is identical to mink/USA/WI-CDC-3892576-001/2020 but kept for subsequent analysis\n",
      "NOTE: mink/USA/WI-CDC-3892583-001/2020 is identical to mink/USA/WI-CDC-3892577-001/2020 but kept for subsequent analysis\n",
      "Checking for duplicate sequences: done in 0.000886488 secs using 3272% CPU\n"
     ]
    },
    {
     "name": "stdout",
     "output_type": "stream",
     "text": [
      "Identifying sites to remove: done in 0.01758 secs using 1055% CPU\n",
      "NOTE: 16 identical sequences (see below) will be ignored for subsequent analysis\n",
      "NOTE: mink/USA/MI-CDC-3886941-001/2020 (identical to mink/USA/MI-CDC-3886613-001/2020) is ignored but added at the end\n",
      "NOTE: mink/USA/MI-CDC-3886720-001/2020 (identical to mink/USA/MI-CDC-3886613-001/2020) is ignored but added at the end\n",
      "NOTE: mink/USA/MI-CDC-3886641-001/2020 (identical to mink/USA/MI-CDC-3886724-001/2020) is ignored but added at the end\n",
      "NOTE: mink/USA/MI-CDC-3886693-001/2020 (identical to mink/USA/MI-CDC-3886724-001/2020) is ignored but added at the end\n",
      "NOTE: mink/USA/MI-CDC-3886707-001/2020 (identical to mink/USA/MI-CDC-3886724-001/2020) is ignored but added at the end\n",
      "NOTE: mink/USA/MI-CDC-3886719-001/2020 (identical to mink/USA/MI-CDC-3886724-001/2020) is ignored but added at the end\n",
      "NOTE: mink/USA/MI-CDC-3886727-001/2020 (identical to mink/USA/MI-CDC-3886724-001/2020) is ignored but added at the end\n",
      "NOTE: mink/USA/MI-CDC-3886734-001/2020 (identical to mink/USA/MI-CDC-3886724-001/2020) is ignored but added at the end\n",
      "NOTE: mink/USA/MI-CDC-3886492-001/2020 (identical to mink/USA/MI-CDC-3886724-001/2020) is ignored but added at the end\n",
      "NOTE: mink/USA/MI-CDC-3886603-001/2020 (identical to mink/USA/MI-CDC-3886724-001/2020) is ignored but added at the end\n",
      "NOTE: mink/USA/MI-CDC-3886694-001/2020 (identical to mink/USA/MI-CDC-3886724-001/2020) is ignored but added at the end\n",
      "NOTE: mink/USA/WI-CDC-3892579-001/2020 (identical to mink/USA/WI-CDC-3892576-001/2020) is ignored but added at the end\n",
      "NOTE: mink/USA/WI-CDC-3892591-001/2020 (identical to mink/USA/WI-CDC-3892576-001/2020) is ignored but added at the end\n",
      "NOTE: mink/USA/WI-CDC-3892592-001/2020 (identical to mink/USA/WI-CDC-3892576-001/2020) is ignored but added at the end\n",
      "NOTE: mink/USA/WI-CDC-3892587-001/2020 (identical to mink/USA/WI-CDC-3892577-001/2020) is ignored but added at the end\n",
      "NOTE: mink/USA/WI-CDC-3892589-001/2020 (identical to mink/USA/WI-CDC-3892577-001/2020) is ignored but added at the end\n",
      "Alignment was printed to subtree-with-ref.mafft.iqtree.uniqueseq.phy\n",
      "\n",
      "For your convenience alignment with unique sequences printed to subtree-with-ref.mafft.iqtree.uniqueseq.phy\n",
      "Creating fast initial parsimony tree by random order stepwise addition...\n",
      "0.186 seconds, parsimony score: 327 (based on 310 sites)\n",
      "Generating 1000 samples for ultrafast bootstrap (seed: 84630)...\n",
      "\n",
      "NOTE: 11 MB RAM (0 GB) is required!\n",
      "WARNING: Number of threads seems too high for short alignments. Use -T AUTO to determine best number of threads.\n",
      "Estimate model parameters (epsilon = 0.100)\n",
      "1. Initial log-likelihood: -43963.312\n",
      "2. Current log-likelihood: -43892.837\n",
      "3. Current log-likelihood: -43748.962\n",
      "4. Current log-likelihood: -43730.719\n",
      "Optimal log-likelihood: -43730.704\n",
      "Rate parameters:  A-C: 0.21973  A-G: 1.08895  A-T: 0.16761  C-G: 0.07560  C-T: 4.75579  G-T: 1.00000\n",
      "Base frequencies:  A: 0.299  C: 0.183  G: 0.196  T: 0.321\n",
      "Parameters optimization took 4 rounds (0.274 sec)\n",
      "Wrote distance file to... \n",
      "Computing ML distances based on estimated model parameters...\n",
      "Calculating distance matrix: done in 0.0103245 secs using 1675% CPU\n",
      "Computing ML distances took 0.010858 sec (of wall-clock time) 0.177033 sec (of CPU time)\n",
      "Setting up auxiliary I and S matrices: done in 0.00299154 secs using 264.5% CPU\n",
      "Constructing RapidNJ tree: done in 0.262711 secs using 62.33% CPU\n",
      "Computing RapidNJ tree took 0.265844 sec (of wall-clock time) 0.171822 sec (of CPU time)\n",
      "Log-likelihood of RapidNJ tree: -43772.492\n",
      "--------------------------------------------------------------------\n",
      "|             INITIALIZING CANDIDATE TREE SET                      |\n",
      "--------------------------------------------------------------------\n",
      "Generating 98 parsimony trees... 0.578 second\n",
      "Computing log-likelihood of 98 initial trees ... 0.781 seconds\n",
      "Current best score: -43730.333\n",
      "\n",
      "Do NNI search on 20 best initial trees\n",
      "Optimizing NNI: done in 0.45076 secs using 1550% CPU\n",
      "Estimate model parameters (epsilon = 0.100)\n",
      "BETTER TREE FOUND at iteration 1: -43729.838\n",
      "Optimizing NNI: done in 0.63521 secs using 1548% CPU\n",
      "Optimizing NNI: done in 1.19938 secs using 1540% CPU\n",
      "Optimizing NNI: done in 0.841907 secs using 1547% CPU\n",
      "Estimate model parameters (epsilon = 0.100)\n",
      "BETTER TREE FOUND at iteration 4: -43729.620\n",
      "Optimizing NNI: done in 0.744055 secs using 1544% CPU\n",
      "Optimizing NNI: done in 1.04685 secs using 1551% CPU\n",
      "Optimizing NNI: done in 0.732664 secs using 1559% CPU\n",
      "Optimizing NNI: done in 0.88497 secs using 1534% CPU\n",
      "Optimizing NNI: done in 0.79197 secs using 1557% CPU\n",
      "Optimizing NNI: done in 1.15769 secs using 1540% CPU\n",
      "Iteration 10 / LogL: -43730.239 / Time: 0h:0m:10s\n",
      "Optimizing NNI: done in 0.813513 secs using 1549% CPU\n",
      "Optimizing NNI: done in 0.685749 secs using 1558% CPU\n",
      "Optimizing NNI: done in 0.979772 secs using 1533% CPU\n",
      "Optimizing NNI: done in 0.74253 secs using 1544% CPU\n",
      "Optimizing NNI: done in 0.850543 secs using 1545% CPU\n",
      "Optimizing NNI: done in 1.00343 secs using 1544% CPU\n",
      "Optimizing NNI: done in 0.79089 secs using 1533% CPU\n",
      "Optimizing NNI: done in 0.699646 secs using 1558% CPU\n",
      "Optimizing NNI: done in 1.05479 secs using 1551% CPU\n",
      "Optimizing NNI: done in 0.716931 secs using 1535% CPU\n",
      "Iteration 20 / LogL: -43732.226 / Time: 0h:0m:19s\n",
      "Finish initializing candidate tree set (20)\n",
      "Current best tree score: -43729.620 / CPU time: 18.281\n",
      "Number of iterations: 20\n",
      "--------------------------------------------------------------------\n",
      "|               OPTIMIZING CANDIDATE TREE SET                      |\n",
      "--------------------------------------------------------------------\n",
      "Optimizing NNI: done in 0.332916 secs using 1523% CPU\n",
      "Optimizing NNI: done in 0.232175 secs using 1554% CPU\n",
      "Optimizing NNI: done in 0.22184 secs using 1576% CPU\n",
      "Optimizing NNI: done in 0.261503 secs using 1557% CPU\n",
      "Optimizing NNI: done in 0.319278 secs using 1559% CPU\n",
      "Optimizing NNI: done in 0.279577 secs using 1547% CPU\n",
      "Optimizing NNI: done in 0.382006 secs using 1537% CPU\n",
      "Optimizing NNI: done in 0.430877 secs using 1550% CPU\n",
      "Optimizing NNI: done in 0.248296 secs using 1566% CPU\n",
      "Optimizing NNI: done in 0.195207 secs using 1562% CPU\n",
      "Iteration 30 / LogL: -43744.596 / Time: 0h:0m:22s (0h:0m:56s left)\n",
      "Optimizing NNI: done in 0.24642 secs using 1556% CPU\n",
      "Optimizing NNI: done in 0.334493 secs using 1537% CPU\n",
      "Optimizing NNI: done in 0.180018 secs using 1570% CPU\n",
      "Optimizing NNI: done in 0.211387 secs using 1566% CPU\n",
      "Optimizing NNI: done in 0.273083 secs using 1549% CPU\n",
      "Optimizing NNI: done in 0.378839 secs using 1519% CPU\n",
      "Optimizing NNI: done in 0.244542 secs using 1536% CPU\n",
      "Optimizing NNI: done in 0.408061 secs using 1562% CPU\n",
      "Optimizing NNI: done in 0.330812 secs using 1545% CPU\n",
      "Optimizing NNI: done in 0.167916 secs using 1560% CPU\n",
      "Iteration 40 / LogL: -43744.994 / Time: 0h:0m:25s (0h:0m:40s left)\n",
      "Optimizing NNI: done in 0.19408 secs using 1533% CPU\n",
      "Optimizing NNI: done in 0.259198 secs using 1555% CPU\n",
      "Optimizing NNI: done in 0.314382 secs using 1516% CPU\n",
      "Optimizing NNI: done in 0.225019 secs using 1577% CPU\n",
      "Optimizing NNI: done in 0.275607 secs using 1546% CPU\n",
      "Optimizing NNI: done in 0.257988 secs using 1548% CPU\n",
      "Optimizing NNI: done in 0.285644 secs using 1556% CPU\n",
      "Optimizing NNI: done in 0.241293 secs using 1543% CPU\n",
      "Optimizing NNI: done in 0.266768 secs using 1534% CPU\n",
      "Optimizing NNI: done in 0.277657 secs using 1541% CPU\n",
      "Iteration 50 / LogL: -43756.887 / Time: 0h:0m:27s (0h:0m:30s left)\n",
      "Log-likelihood cutoff on original alignment: -43783.119\n",
      "Optimizing NNI: done in 0.236816 secs using 1549% CPU\n",
      "Optimizing NNI: done in 0.227004 secs using 1546% CPU\n",
      "Optimizing NNI: done in 0.32042 secs using 1497% CPU\n",
      "Optimizing NNI: done in 0.210631 secs using 1561% CPU\n",
      "Optimizing NNI: done in 0.211179 secs using 1547% CPU\n",
      "Optimizing NNI: done in 0.305406 secs using 1542% CPU\n",
      "Optimizing NNI: done in 0.249349 secs using 1549% CPU\n",
      "Optimizing NNI: done in 0.173843 secs using 1532% CPU\n",
      "Optimizing NNI: done in 0.256704 secs using 1530% CPU\n",
      "Optimizing NNI: done in 0.284889 secs using 1550% CPU\n",
      "Iteration 60 / LogL: -43732.758 / Time: 0h:0m:30s (0h:0m:22s left)\n",
      "Optimizing NNI: done in 0.200392 secs using 1566% CPU\n",
      "Optimizing NNI: done in 0.252602 secs using 1553% CPU\n",
      "Optimizing NNI: done in 0.208991 secs using 1555% CPU\n"
     ]
    },
    {
     "name": "stdout",
     "output_type": "stream",
     "text": [
      "Optimizing NNI: done in 0.232464 secs using 1549% CPU\n",
      "Optimizing NNI: done in 0.291536 secs using 1540% CPU\n",
      "Optimizing NNI: done in 1.00673 secs using 1491% CPU\n",
      "Optimizing NNI: done in 0.393266 secs using 1527% CPU\n",
      "Optimizing NNI: done in 0.36937 secs using 1522% CPU\n",
      "Optimizing NNI: done in 0.406698 secs using 1544% CPU\n",
      "Optimizing NNI: done in 0.267307 secs using 1552% CPU\n",
      "Iteration 70 / LogL: -43736.643 / Time: 0h:0m:34s (0h:0m:16s left)\n",
      "Optimizing NNI: done in 0.231187 secs using 1550% CPU\n",
      "Optimizing NNI: done in 0.338862 secs using 1539% CPU\n",
      "Optimizing NNI: done in 0.239519 secs using 1557% CPU\n",
      "Optimizing NNI: done in 0.324815 secs using 1548% CPU\n",
      "Optimizing NNI: done in 0.223746 secs using 1553% CPU\n",
      "Optimizing NNI: done in 0.323373 secs using 1541% CPU\n",
      "Optimizing NNI: done in 0.401909 secs using 1518% CPU\n",
      "Optimizing NNI: done in 0.141644 secs using 1554% CPU\n",
      "Optimizing NNI: done in 0.198499 secs using 1547% CPU\n",
      "Optimizing NNI: done in 0.23431 secs using 1548% CPU\n",
      "Iteration 80 / LogL: -43735.308 / Time: 0h:0m:37s (0h:0m:11s left)\n",
      "Optimizing NNI: done in 0.333895 secs using 1554% CPU\n",
      "Optimizing NNI: done in 0.335424 secs using 1528% CPU\n",
      "Optimizing NNI: done in 0.305605 secs using 1546% CPU\n",
      "Optimizing NNI: done in 0.22559 secs using 1514% CPU\n",
      "Optimizing NNI: done in 0.149452 secs using 1579% CPU\n",
      "Optimizing NNI: done in 0.27507 secs using 1533% CPU\n",
      "Optimizing NNI: done in 0.283256 secs using 1557% CPU\n",
      "Optimizing NNI: done in 0.221035 secs using 1513% CPU\n",
      "Optimizing NNI: done in 0.172122 secs using 1546% CPU\n",
      "Optimizing NNI: done in 0.392538 secs using 1536% CPU\n",
      "Iteration 90 / LogL: -43730.275 / Time: 0h:0m:40s (0h:0m:6s left)\n",
      "Optimizing NNI: done in 0.264724 secs using 1540% CPU\n",
      "Optimizing NNI: done in 0.295403 secs using 1566% CPU\n",
      "Optimizing NNI: done in 0.218193 secs using 1534% CPU\n",
      "Optimizing NNI: done in 0.199821 secs using 1564% CPU\n",
      "Optimizing NNI: done in 0.329277 secs using 1549% CPU\n",
      "Optimizing NNI: done in 0.471532 secs using 1557% CPU\n",
      "Optimizing NNI: done in 0.282955 secs using 1525% CPU\n",
      "Optimizing NNI: done in 0.269295 secs using 1520% CPU\n",
      "Optimizing NNI: done in 0.225617 secs using 1550% CPU\n",
      "Optimizing NNI: done in 0.202118 secs using 1536% CPU\n",
      "Iteration 100 / LogL: -43764.471 / Time: 0h:0m:43s (0h:0m:1s left)\n",
      "Log-likelihood cutoff on original alignment: -43783.119\n",
      "NOTE: Bootstrap correlation coefficient of split occurrence frequencies: 0.997\n",
      "Optimizing NNI: done in 0.271864 secs using 1537% CPU\n",
      "Optimizing NNI: done in 0.365743 secs using 1537% CPU\n",
      "Optimizing NNI: done in 0.349813 secs using 1531% CPU\n",
      "Optimizing NNI: done in 0.343414 secs using 1545% CPU\n",
      "Optimizing NNI: done in 0.417725 secs using 1521% CPU\n",
      "TREE SEARCH COMPLETED AFTER 105 ITERATIONS / Time: 0h:0m:45s\n",
      "\n",
      "--------------------------------------------------------------------\n",
      "|                    FINALIZING TREE SEARCH                        |\n",
      "--------------------------------------------------------------------\n",
      "Performs final model parameters optimization\n",
      "Estimate model parameters (epsilon = 0.010)\n",
      "1. Initial log-likelihood: -43729.620\n",
      "Optimal log-likelihood: -43729.619\n",
      "Rate parameters:  A-C: 0.22011  A-G: 1.09294  A-T: 0.16690  C-G: 0.07414  C-T: 4.75174  G-T: 1.00000\n",
      "Base frequencies:  A: 0.299  C: 0.183  G: 0.196  T: 0.321\n",
      "Parameters optimization took 1 rounds (0.023 sec)\n",
      "BEST SCORE FOUND : -43729.619\n",
      "Creating bootstrap support values...\n",
      "Split supports printed to NEXUS file subtree-with-ref.mafft.iqtree.splits.nex\n",
      "Total tree length: 0.011\n",
      "\n",
      "Total number of iterations: 105\n",
      "CPU time used for tree search: 669.724 sec (0h:11m:9s)\n",
      "Wall-clock time used for tree search: 44.864 sec (0h:0m:44s)\n",
      "Total CPU time used: 679.265 sec (0h:11m:19s)\n",
      "Total wall-clock time used: 46.077 sec (0h:0m:46s)\n",
      "\n",
      "Computing bootstrap consensus tree...\n",
      "Reading input file subtree-with-ref.mafft.iqtree.splits.nex...\n",
      "142 taxa and 4793 splits.\n",
      "Consensus tree written to subtree-with-ref.mafft.iqtree.contree\n",
      "Reading input trees file subtree-with-ref.mafft.iqtree.contree\n",
      "Log-likelihood of consensus tree: -43737.354\n",
      "\n",
      "Analysis results written to: \n",
      "  IQ-TREE report:                subtree-with-ref.mafft.iqtree.iqtree\n",
      "  Maximum-likelihood tree:       subtree-with-ref.mafft.iqtree.treefile\n",
      "  Likelihood distances:          subtree-with-ref.mafft.iqtree.mldist\n",
      "\n",
      "Ultrafast bootstrap approximation results written to:\n",
      "  Split support values:          subtree-with-ref.mafft.iqtree.splits.nex\n",
      "  Consensus tree:                subtree-with-ref.mafft.iqtree.contree\n",
      "  Screen log file:               subtree-with-ref.mafft.iqtree.log\n",
      "\n",
      "Date and Time: Fri Feb 18 08:31:41 2022\n"
     ]
    }
   ],
   "source": [
    "!iqtree -s subtree-with-ref.mafft.fasta -o MN908947.3 --prefix subtree-with-ref.mafft.iqtree -T 16 -m GTR -B 1000"
   ]
  },
  {
   "cell_type": "markdown",
   "metadata": {},
   "source": [
    "Inferred \"time tree\" with IQ-TREE, but UFBoot or classical bootstrap values cannot be computed in this mode"
   ]
  },
  {
   "cell_type": "code",
   "execution_count": 228,
   "metadata": {
    "ExecuteTime": {
     "end_time": "2022-02-17T17:55:55.215880Z",
     "start_time": "2022-02-17T17:55:31.785699Z"
    },
    "scrolled": true
   },
   "outputs": [
    {
     "name": "stdout",
     "output_type": "stream",
     "text": [
      "IQ-TREE multicore version 2.2.0-beta COVID-edition for Linux 64-bit built Dec 21 2021 built Dec 21 2021\n",
      "Developed by Bui Quang Minh, James Barbetti, Nguyen Lam Tung,\n",
      "Olga Chernomor, Heiko Schmidt, Dominik Schrempf, Michael Woodhams, Ly Trong Nhan.\n",
      "\n",
      "Host:    ncfadlaptop (AVX2, FMA3, 62 GB RAM)\n",
      "Command: iqtree -s subtree.mafft.fasta --prefix subtree.mafft.iqtree-time-tree -T 16 -m GTR --date subtree-dates-for-iqtree-time-tree.tsv\n",
      "Seed:    801360 (Using SPRNG - Scalable Parallel Random Number Generator)\n",
      "Time:    Thu Feb 17 11:55:31 2022\n",
      "Kernel:  AVX+FMA - 16 threads (16 CPU cores detected)\n",
      "\n",
      "Reading alignment file subtree.mafft.fasta ... Fasta format detected\n",
      "Reading fasta file: done in 0.0480866 secs using 96.95% CPU\n",
      "Alignment most likely contains DNA/RNA sequences\n",
      "Constructing alignment: done in 0.0302765 secs using 707.8% CPU\n",
      "WARNING: 8 sites contain only gaps or ambiguous characters.\n",
      "Alignment has 157 sequences with 29928 columns, 1352 distinct patterns\n",
      "152 parsimony-informative, 150 singleton sites, 29626 constant sites\n",
      "                                        Gap/Ambiguity  Composition  p-value\n",
      "Analyzing sequences: done in 0.000119476 secs using 687.2% CPU\n",
      "   1  4534                                      5.46%    passed     99.89%\n",
      "   2  4538                                     13.55%    passed     63.09%\n",
      "   3  4581                                      0.32%    passed     90.10%\n",
      "   4  4645                                      0.33%    passed     90.93%\n",
      "   5  4649                                      3.38%    passed     95.59%\n",
      "   6  4658                                      0.26%    passed     85.68%\n",
      "   7  4662                                      1.23%    passed     90.32%\n",
      "   8  mink/USA/MI-CDC-3886891-001/2020          3.42%    passed     84.16%\n",
      "   9  mink/USA/MI-CDC-3886779-001/2020          1.90%    passed     99.58%\n",
      "  10  mink/USA/MI-CDC-3886772-001/2020          0.08%    passed     99.83%\n",
      "  11  mink/USA/MI-CDC-3886954-001/2020          0.06%    passed     99.81%\n",
      "  12  mink/USA/MI-CDC-3886940-001/2020          0.08%    passed     99.66%\n",
      "  13  mink/USA/MI-CDC-3886953-001/2020          0.06%    passed     99.83%\n",
      "  14  mink/USA/MI-CDC-3886955-001/2020          0.07%    passed     99.70%\n",
      "  15  mink/USA/MI-CDC-3886516-001/2020          0.72%    passed     99.05%\n",
      "  16  mink/USA/MI-CDC-3886613-001/2020          0.05%    passed     99.79%\n",
      "  17  mink/USA/MI-CDC-3886799-001/2020          0.80%    passed     99.49%\n",
      "  18  mink/USA/MI-CDC-3886875-001/2020          0.07%    passed     99.71%\n",
      "  19  mink/USA/MI-CDC-3886755-001/2020          0.05%    passed     99.74%\n",
      "  20  mink/USA/MI-CDC-3886391-001/2020          0.06%    passed     99.77%\n",
      "  21  mink/USA/MI-CDC-3886398-001/2020          0.06%    passed     99.78%\n",
      "  22  mink/USA/MI-CDC-3886430-001/2020          0.06%    passed     99.73%\n",
      "  23  mink/USA/MI-CDC-3886759-001/2020          0.05%    passed     99.79%\n",
      "  24  mink/USA/MI-CDC-3886765-001/2020          0.07%    passed     99.71%\n",
      "  25  mink/USA/MI-CDC-3886786-001/2020          0.06%    passed     99.84%\n",
      "  26  mink/USA/MI-CDC-3886793-001/2020          0.06%    passed     99.85%\n",
      "  27  mink/USA/MI-CDC-3886854-001/2020          0.05%    passed     99.79%\n",
      "  28  mink/USA/MI-CDC-3886941-001/2020          0.05%    passed     99.79%\n",
      "  29  mink/USA/MI-CDC-3886434-001/2020          0.40%    passed     99.62%\n",
      "  30  mink/USA/MI-CDC-3886922-001/2020          0.30%    passed     99.86%\n",
      "  31  mink/USA/MI-CDC-3886800-001/2020          0.05%    passed     99.78%\n",
      "  32  mink/USA/MI-CDC-3886810-001/2020          0.06%    passed     99.75%\n",
      "  33  mink/USA/MI-CDC-3886841-001/2020          0.05%    passed     99.74%\n",
      "  34  mink/USA/MI-CDC-3886865-001/2020          0.06%    passed     99.83%\n",
      "  35  mink/USA/MI-CDC-3886708-001/2020          0.06%    passed     99.78%\n",
      "  36  mink/USA/MI-CDC-3886720-001/2020          0.05%    passed     99.79%\n",
      "  37  mink/USA/MI-CDC-3886572-001/2020          0.13%    passed     99.70%\n",
      "  38  mink/USA/MI-CDC-3886711-001/2020          0.10%    passed     99.53%\n",
      "  39  mink/USA/MI-CDC-3886712-001/2020          0.10%    passed     99.54%\n",
      "  40  mink/USA/MI-CDC-3886724-001/2020          0.09%    passed     99.59%\n",
      "  41  mink/USA/MI-CDC-3886725-001/2020          0.10%    passed     99.56%\n",
      "  42  mink/USA/MI-CDC-3886453-001/2020          0.10%    passed     99.56%\n",
      "  43  mink/USA/MI-CDC-3886495-001/2020          0.09%    passed     99.56%\n",
      "  44  mink/USA/MI-CDC-3886540-001/2020          0.10%    passed     99.64%\n",
      "  45  mink/USA/MI-CDC-3886544-001/2020          0.10%    passed     99.61%\n",
      "  46  mink/USA/MI-CDC-3886602-001/2020          0.09%    passed     99.59%\n",
      "  47  mink/USA/MI-CDC-3886641-001/2020          0.09%    passed     99.59%\n",
      "  48  mink/USA/MI-CDC-3886648-001/2020          0.10%    passed     99.58%\n",
      "  49  mink/USA/MI-CDC-3886693-001/2020          0.09%    passed     99.59%\n",
      "  50  mink/USA/MI-CDC-3886707-001/2020          0.09%    passed     99.59%\n",
      "  51  mink/USA/MI-CDC-3886719-001/2020          0.09%    passed     99.59%\n",
      "  52  mink/USA/MI-CDC-3886727-001/2020          0.09%    passed     99.59%\n",
      "  53  mink/USA/MI-CDC-3886734-001/2020          0.09%    passed     99.59%\n",
      "  54  mink/USA/MI-CDC-3886496-001/2020          0.10%    passed     99.57%\n",
      "  55  mink/USA/MI-CDC-3886492-001/2020          0.09%    passed     99.59%\n",
      "  56  mink/USA/MI-CDC-3886552-001/2020          0.09%    passed     99.56%\n",
      "  57  mink/USA/MI-CDC-3886603-001/2020          0.09%    passed     99.59%\n",
      "  58  mink/USA/MI-CDC-3886624-001/2020          0.09%    passed     99.57%\n",
      "  59  mink/USA/MI-CDC-3886694-001/2020          0.09%    passed     99.59%\n",
      "  60  mink/USA/MI-CDC-3886728-001/2020          0.10%    passed     99.54%\n",
      "  61  mink/USA/MI-CDC-3886709-001/2020          0.10%    passed     99.56%\n",
      "  62  mink/USA/WI-CDC-3892918-001/2020          2.63%    passed     99.26%\n",
      "  63  mink/USA/WI-CDC-3892612-001/2020          1.98%    passed     99.31%\n",
      "  64  mink/USA/WI-CDC-3892607-001/2020          1.72%    passed     98.90%\n",
      "  65  mink/USA/WI-CDC-3892618-001/2020          9.64%    passed     94.46%\n",
      "  66  mink/USA/WI-CDC-3892596-001/2020          0.45%    passed     99.84%\n",
      "  67  mink/USA/WI-CDC-3892917-001/2020          0.45%    passed     99.86%\n",
      "  68  mink/USA/WI-CDC-3892921-001/2020          0.44%    passed     99.87%\n",
      "  69  mink/USA/WI-CDC-3892928-001/2020          0.44%    passed     99.86%\n",
      "  70  mink/USA/WI-CDC-3892624-001/2020          0.67%    passed     99.66%\n",
      "  71  mink/USA/WI-CDC-3892625-001/2020          0.44%    passed     99.82%\n",
      "  72  mink/USA/WI-CDC-3892568-001/2020          0.44%    passed     99.88%\n",
      "  73  mink/USA/WI-CDC-3892576-001/2020          0.44%    passed     99.86%\n",
      "  74  mink/USA/WI-CDC-3892578-001/2020          0.44%    passed     99.87%\n",
      "  75  mink/USA/WI-CDC-3892580-001/2020          0.34%    passed     99.79%\n",
      "  76  mink/USA/WI-CDC-3892584-001/2020          0.44%    passed     99.86%\n",
      "  77  mink/USA/WI-CDC-3892588-001/2020          0.44%    passed     99.90%\n",
      "  78  mink/USA/WI-CDC-3892898-001/2020          0.47%    passed     99.89%\n",
      "  79  mink/USA/WI-CDC-3892916-001/2020          0.63%    passed     99.85%\n",
      "  80  mink/USA/WI-CDC-3892840-001/2020          0.50%    passed     99.89%\n",
      "  81  mink/USA/WI-CDC-3892849-001/2020          1.21%    passed     99.91%\n",
      "  82  mink/USA/WI-CDC-3892875-001/2020          0.44%    passed     99.87%\n",
      "  83  mink/USA/WI-CDC-3892876-001/2020          0.46%    passed     99.86%\n",
      "  84  mink/USA/WI-CDC-3892894-001/2020          0.45%    passed     99.90%\n",
      "  85  mink/USA/WI-CDC-3892896-001/2020          0.53%    passed     99.93%\n",
      "  86  mink/USA/WI-CDC-3892899-001/2020          0.44%    passed     99.84%\n",
      "  87  mink/USA/WI-CDC-3892604-001/2020          0.51%    passed     99.86%\n",
      "  88  mink/USA/WI-CDC-3892577-001/2020          0.44%    passed     99.84%\n",
      "  89  mink/USA/WI-CDC-3892579-001/2020          0.44%    passed     99.86%\n",
      "  90  mink/USA/WI-CDC-3892581-001/2020          0.44%    passed     99.88%\n",
      "  91  mink/USA/WI-CDC-3892583-001/2020          0.44%    passed     99.84%\n",
      "  92  mink/USA/WI-CDC-3892585-001/2020          0.44%    passed     99.89%\n",
      "  93  mink/USA/WI-CDC-3892586-001/2020          0.45%    passed     99.90%\n",
      "  94  mink/USA/WI-CDC-3892587-001/2020          0.44%    passed     99.84%\n",
      "  95  mink/USA/WI-CDC-3892589-001/2020          0.44%    passed     99.84%\n",
      "  96  mink/USA/WI-CDC-3892591-001/2020          0.44%    passed     99.86%\n",
      "  97  mink/USA/WI-CDC-3892592-001/2020          0.44%    passed     99.86%\n",
      "  98  mink/USA/WI-CDC-3892594-001/2020          0.44%    passed     99.82%\n",
      "  99  USA/NE-CUMC_21081058/2021                22.56%    passed     87.59%\n",
      " 100  USA/NJ-NYGC-NJ-BioR-303-AmpliSeq/2020     0.50%    passed     99.86%\n",
      " 101  USA/TX-HMH-MCoV-33283/2020                0.35%    passed     99.97%\n",
      " 102  USA/TX-HMH-MCoV-34187/2020                0.26%    passed     99.86%\n",
      " 103  USA/TX-HMH-MCoV-34510/2020               10.63%    passed     97.56%\n",
      " 104  USA/TX-HMH-MCoV-34780/2020                0.24%    passed     99.90%\n",
      " 105  USA/TX-HMH-MCoV-35117/2020                0.42%    passed     99.98%\n",
      " 106  USA/TX-HMH-MCoV-39934/2020                7.74%    passed     98.20%\n",
      " 107  USA/TX-HMH-MCoV-40474/2020                2.46%    passed     99.93%\n",
      " 108  USA/TX-HMH-MCoV-40777/2020                0.36%    passed     99.91%\n",
      " 109  USA/TX-HMH-MCoV-40932/2020                0.39%    passed     99.89%\n",
      " 110  USA/TX-HMH-MCoV-41555/2020                0.33%    passed     99.90%\n",
      " 111  mink/USA/MI-20-028629-002/2020            0.24%    passed     99.97%\n",
      " 112  mink/USA/MI-20-028629-004/2020            0.30%    passed     99.94%\n",
      " 113  mink/USA/WI-20-028748-001/2020            0.33%    passed     99.91%\n",
      " 114  mink/USA/WI-20-028748-002/2020            0.32%    passed     99.91%\n",
      " 115  mink/USA/WI-20-028748-006/2020            0.31%    passed     99.90%\n",
      " 116  mink/USA/WI-20-031493-001/2020            0.44%    passed     99.93%\n",
      " 117  mink/USA/WI-20-031493-003/2020            0.45%    passed     99.90%\n",
      " 118  USA/TX-HMH-MCoV-39546/2020                0.61%    passed     99.87%\n",
      " 119  cat/USA/TX-TAMU-270-20-032807-007/2020    0.32%    passed     99.78%\n",
      " 120  cat/USA/TX-TAMU-269-20-032807-002/2020    0.41%    passed     99.87%\n",
      " 121  cat/USA/TX-TAMU-146-20-024806-001/2020    0.31%    passed     99.88%\n",
      " 122  dog/USA/TX-TAMU-096-20-024606-001/2020    0.31%    passed     99.88%\n",
      " 123  deer/USA/OH-OSU-0057/2021                 0.45%    passed     99.90%\n",
      " 124  deer/USA/OH-OSU-0058/2021                 0.39%    passed     99.87%\n",
      " 125  USA/CO-CDPHE-2010132029/2020              1.40%    passed     99.68%\n",
      " 126  Canada/ON-PHL-21-44225/2021               1.38%    passed     91.14%\n",
      " 127  USA/TX-HMH-MCoV-8963/2020                 0.30%    passed     99.83%\n",
      " 128  USA/MI-MDHHS-SC23517/2020                 5.91%    passed     90.04%\n",
      " 129  USA/GA-CDC-4049091-001/2020               0.35%    passed     99.82%\n",
      " 130  USA/LA-EVTL699/2020                       0.29%    passed     99.87%\n",
      " 131  USA/TX-HMH-3118/2020                      0.49%    passed     99.96%\n",
      " 132  USA/TX-HMH-3169/2020                      0.49%    passed     99.97%\n",
      " 133  USA/TX-HMH-4685/2020                      4.13%    passed     94.11%\n",
      " 134  USA/TX-HMH-4696/2020                      0.49%    passed     99.97%\n",
      " 135  USA/MI-MDHHS-SC22125/2020                 0.78%    passed     99.89%\n",
      " 136  USA/MI-MDHHS-SC22140/2020                 2.89%    passed     98.20%\n",
      " 137  USA/WI-WSLH-200721/2020                   1.24%    passed     99.83%\n",
      " 138  USA/MI-MDHHS-SC22669/2020                 5.26%    passed     94.55%\n",
      " 139  USA/TX-HMH-MCoV-8462/2020                 0.31%    passed     99.95%\n",
      " 140  USA/TX-HMH-MCoV-8792/2020                 0.28%    passed     99.95%\n",
      " 141  USA/TX-HMH-MCoV-16299/2020                0.21%    passed     99.76%\n",
      " 142  USA/TX-HMH-MCoV-12254/2020                0.22%    passed     99.90%\n",
      " 143  USA/CA-CZB-13805/2020                     1.89%    passed     99.83%\n",
      " 144  USA/CO-CDPHE-2100254859/2021              0.44%    passed     99.93%\n",
      " 145  mink/USA/WI-CDC-3892621-001/2020          2.68%    passed     98.43%\n",
      " 146  mink/USA/WI-CDC-3892850-001/2020          2.38%    passed     99.77%\n",
      " 147  mink/USA/WI-CDC-3892848-001/2020          2.30%    passed     98.80%\n",
      " 148  mink/USA/WI-CDC-3892842-001/2020          1.70%    passed     99.71%\n",
      " 149  mink/USA/WI-CDC-3892911-001/2020          0.44%    passed     99.82%\n",
      " 150  mink/USA/WI-CDC-3892938-001/2020          0.44%    passed     99.87%\n",
      " 151  mink/USA/WI-CDC-3892847-001/2020          0.44%    passed     99.86%\n",
      " 152  mink/USA/WI-CDC-3892883-001/2020          0.45%    passed     99.86%\n",
      " 153  mink/USA/WI-CDC-3892613-001/2020          1.48%    passed     99.85%\n",
      " 154  mink/USA/WI-CDC-3892590-001/2020          0.44%    passed     99.84%\n",
      " 155  USA/AZ-TG745741/2020                      2.49%    passed     99.69%\n",
      " 156  USA/TX-HMH-MCoV-16519/2020                0.41%    passed     99.78%\n",
      " 157  USA/WI-CDC-4065253-001/2021               0.31%    passed     99.82%\n",
      "****  TOTAL                                     1.04%  0 sequences failed composition chi2 test (p-value<5%; df=3)\n",
      "NOTE: mink/USA/MI-CDC-3886759-001/2020 is identical to mink/USA/MI-CDC-3886613-001/2020 but kept for subsequent analysis\n",
      "NOTE: mink/USA/MI-CDC-3886602-001/2020 is identical to mink/USA/MI-CDC-3886724-001/2020 but kept for subsequent analysis\n",
      "NOTE: mink/USA/WI-CDC-3892584-001/2020 is identical to mink/USA/WI-CDC-3892576-001/2020 but kept for subsequent analysis\n",
      "NOTE: mink/USA/WI-CDC-3892583-001/2020 is identical to mink/USA/WI-CDC-3892577-001/2020 but kept for subsequent analysis\n",
      "Checking for duplicate sequences: done in 0.000883618 secs using 465.4% CPU\n"
     ]
    },
    {
     "name": "stdout",
     "output_type": "stream",
     "text": [
      "Identifying sites to remove: done in 0.0170207 secs using 1198% CPU\n",
      "NOTE: 16 identical sequences (see below) will be ignored for subsequent analysis\n",
      "NOTE: mink/USA/MI-CDC-3886941-001/2020 (identical to mink/USA/MI-CDC-3886613-001/2020) is ignored but added at the end\n",
      "NOTE: mink/USA/MI-CDC-3886720-001/2020 (identical to mink/USA/MI-CDC-3886613-001/2020) is ignored but added at the end\n",
      "NOTE: mink/USA/MI-CDC-3886641-001/2020 (identical to mink/USA/MI-CDC-3886724-001/2020) is ignored but added at the end\n",
      "NOTE: mink/USA/MI-CDC-3886693-001/2020 (identical to mink/USA/MI-CDC-3886724-001/2020) is ignored but added at the end\n",
      "NOTE: mink/USA/MI-CDC-3886707-001/2020 (identical to mink/USA/MI-CDC-3886724-001/2020) is ignored but added at the end\n",
      "NOTE: mink/USA/MI-CDC-3886719-001/2020 (identical to mink/USA/MI-CDC-3886724-001/2020) is ignored but added at the end\n",
      "NOTE: mink/USA/MI-CDC-3886727-001/2020 (identical to mink/USA/MI-CDC-3886724-001/2020) is ignored but added at the end\n",
      "NOTE: mink/USA/MI-CDC-3886734-001/2020 (identical to mink/USA/MI-CDC-3886724-001/2020) is ignored but added at the end\n",
      "NOTE: mink/USA/MI-CDC-3886492-001/2020 (identical to mink/USA/MI-CDC-3886724-001/2020) is ignored but added at the end\n",
      "NOTE: mink/USA/MI-CDC-3886603-001/2020 (identical to mink/USA/MI-CDC-3886724-001/2020) is ignored but added at the end\n",
      "NOTE: mink/USA/MI-CDC-3886694-001/2020 (identical to mink/USA/MI-CDC-3886724-001/2020) is ignored but added at the end\n",
      "NOTE: mink/USA/WI-CDC-3892579-001/2020 (identical to mink/USA/WI-CDC-3892576-001/2020) is ignored but added at the end\n",
      "NOTE: mink/USA/WI-CDC-3892591-001/2020 (identical to mink/USA/WI-CDC-3892576-001/2020) is ignored but added at the end\n",
      "NOTE: mink/USA/WI-CDC-3892592-001/2020 (identical to mink/USA/WI-CDC-3892576-001/2020) is ignored but added at the end\n",
      "NOTE: mink/USA/WI-CDC-3892587-001/2020 (identical to mink/USA/WI-CDC-3892577-001/2020) is ignored but added at the end\n",
      "NOTE: mink/USA/WI-CDC-3892589-001/2020 (identical to mink/USA/WI-CDC-3892577-001/2020) is ignored but added at the end\n",
      "Alignment was printed to subtree.mafft.iqtree-time-tree.uniqueseq.phy\n",
      "\n",
      "For your convenience alignment with unique sequences printed to subtree.mafft.iqtree-time-tree.uniqueseq.phy\n",
      "Creating fast initial parsimony tree by random order stepwise addition...\n",
      "0.171 seconds, parsimony score: 320 (based on 302 sites)\n",
      "\n",
      "NOTE: 6 MB RAM (0 GB) is required!\n",
      "WARNING: Number of threads seems too high for short alignments. Use -T AUTO to determine best number of threads.\n",
      "Estimate model parameters (epsilon = 0.100)\n",
      "1. Initial log-likelihood: -43889.850\n",
      "2. Current log-likelihood: -43657.419\n",
      "Optimal log-likelihood: -43657.410\n",
      "Rate parameters:  A-C: 0.21502  A-G: 1.07360  A-T: 0.13955  C-G: 0.07397  C-T: 4.62125  G-T: 1.00000\n",
      "Base frequencies:  A: 0.299  C: 0.183  G: 0.196  T: 0.321\n",
      "Parameters optimization took 2 rounds (0.193 sec)\n",
      "Wrote distance file to... \n",
      "Computing ML distances based on estimated model parameters...\n",
      "Calculating distance matrix: done in 0.00980108 secs using 1766% CPU\n",
      "Computing ML distances took 0.010131 sec (of wall-clock time) 0.173840 sec (of CPU time)\n",
      "Setting up auxiliary I and S matrices: done in 0.00335856 secs using 285.7% CPU\n",
      "Constructing RapidNJ tree: done in 0.270945 secs using 65.45% CPU\n",
      "Computing RapidNJ tree took 0.274432 sec (of wall-clock time) 0.187692 sec (of CPU time)\n",
      "Log-likelihood of RapidNJ tree: -43689.286\n",
      "--------------------------------------------------------------------\n",
      "|             INITIALIZING CANDIDATE TREE SET                      |\n",
      "--------------------------------------------------------------------\n",
      "Generating 98 parsimony trees... 0.762 second\n",
      "Computing log-likelihood of 98 initial trees ... 0.734 seconds\n",
      "Current best score: -43649.820\n",
      "\n",
      "Do NNI search on 20 best initial trees\n",
      "Optimizing NNI: done in 0.150957 secs using 1533% CPU\n",
      "Estimate model parameters (epsilon = 0.100)\n",
      "BETTER TREE FOUND at iteration 1: -43649.605\n",
      "Optimizing NNI: done in 0.225227 secs using 1492% CPU\n",
      "Optimizing NNI: done in 0.17123 secs using 1544% CPU\n",
      "Optimizing NNI: done in 0.0921621 secs using 1535% CPU\n",
      "Optimizing NNI: done in 0.215601 secs using 1549% CPU\n",
      "Optimizing NNI: done in 0.200296 secs using 1550% CPU\n",
      "Optimizing NNI: done in 0.200982 secs using 1524% CPU\n",
      "Optimizing NNI: done in 0.161042 secs using 1541% CPU\n",
      "Optimizing NNI: done in 0.080126 secs using 1541% CPU\n",
      "Optimizing NNI: done in 0.196325 secs using 1538% CPU\n",
      "Iteration 10 / LogL: -43650.180 / Time: 0h:0m:4s\n",
      "Optimizing NNI: done in 0.144585 secs using 1549% CPU\n",
      "Optimizing NNI: done in 0.221338 secs using 1537% CPU\n",
      "Optimizing NNI: done in 0.128477 secs using 1519% CPU\n",
      "Optimizing NNI: done in 0.203579 secs using 1530% CPU\n",
      "Estimate model parameters (epsilon = 0.100)\n",
      "BETTER TREE FOUND at iteration 14: -43648.966\n",
      "Optimizing NNI: done in 0.144531 secs using 1558% CPU\n",
      "Optimizing NNI: done in 0.203253 secs using 1532% CPU\n",
      "Optimizing NNI: done in 0.22788 secs using 1525% CPU\n",
      "Optimizing NNI: done in 0.13862 secs using 1534% CPU\n",
      "Optimizing NNI: done in 0.304604 secs using 1496% CPU\n",
      "Optimizing NNI: done in 0.142891 secs using 1553% CPU\n",
      "Iteration 20 / LogL: -43651.546 / Time: 0h:0m:5s\n",
      "Finish initializing candidate tree set (20)\n",
      "Current best tree score: -43648.966 / CPU time: 5.213\n",
      "Number of iterations: 20\n",
      "--------------------------------------------------------------------\n",
      "|               OPTIMIZING CANDIDATE TREE SET                      |\n",
      "--------------------------------------------------------------------\n",
      "Optimizing NNI: done in 0.170047 secs using 1541% CPU\n",
      "Optimizing NNI: done in 0.152576 secs using 1550% CPU\n",
      "Optimizing NNI: done in 0.230832 secs using 1555% CPU\n",
      "Optimizing NNI: done in 0.22941 secs using 1533% CPU\n",
      "Optimizing NNI: done in 0.132048 secs using 1558% CPU\n",
      "Optimizing NNI: done in 0.149057 secs using 1570% CPU\n",
      "Optimizing NNI: done in 0.222181 secs using 1500% CPU\n",
      "Optimizing NNI: done in 0.167116 secs using 1537% CPU\n",
      "Optimizing NNI: done in 0.222966 secs using 1489% CPU\n",
      "Optimizing NNI: done in 0.149357 secs using 1546% CPU\n",
      "Iteration 30 / LogL: -43649.665 / Time: 0h:0m:7s (0h:0m:22s left)\n",
      "Optimizing NNI: done in 0.143639 secs using 1554% CPU\n",
      "Optimizing NNI: done in 0.147652 secs using 1530% CPU\n",
      "Optimizing NNI: done in 0.149762 secs using 1539% CPU\n",
      "Optimizing NNI: done in 0.0987965 secs using 1550% CPU\n",
      "Optimizing NNI: done in 0.143733 secs using 1544% CPU\n",
      "Optimizing NNI: done in 0.211836 secs using 1499% CPU\n",
      "Optimizing NNI: done in 0.138938 secs using 1559% CPU\n",
      "Optimizing NNI: done in 0.130294 secs using 1551% CPU\n",
      "Optimizing NNI: done in 0.160701 secs using 1559% CPU\n",
      "Optimizing NNI: done in 0.155026 secs using 1512% CPU\n",
      "Iteration 40 / LogL: -43654.661 / Time: 0h:0m:9s (0h:0m:17s left)\n",
      "Optimizing NNI: done in 0.277481 secs using 1508% CPU\n",
      "Optimizing NNI: done in 0.251699 secs using 1522% CPU\n",
      "Optimizing NNI: done in 0.15222 secs using 1562% CPU\n",
      "Optimizing NNI: done in 0.24746 secs using 1506% CPU\n",
      "Optimizing NNI: done in 0.18727 secs using 1560% CPU\n",
      "Optimizing NNI: done in 0.150074 secs using 1564% CPU\n",
      "Optimizing NNI: done in 0.140418 secs using 1535% CPU\n",
      "Optimizing NNI: done in 0.144468 secs using 1552% CPU\n",
      "Optimizing NNI: done in 0.119148 secs using 1560% CPU\n",
      "Optimizing NNI: done in 0.251732 secs using 1524% CPU\n",
      "Iteration 50 / LogL: -43649.429 / Time: 0h:0m:11s (0h:0m:14s left)\n",
      "Optimizing NNI: done in 0.139088 secs using 1505% CPU\n",
      "Optimizing NNI: done in 0.17866 secs using 1526% CPU\n",
      "Optimizing NNI: done in 0.237741 secs using 1497% CPU\n",
      "Optimizing NNI: done in 0.188553 secs using 1553% CPU\n",
      "Optimizing NNI: done in 0.130328 secs using 1576% CPU\n",
      "Optimizing NNI: done in 0.140041 secs using 1544% CPU\n",
      "Optimizing NNI: done in 0.198611 secs using 1546% CPU\n",
      "Optimizing NNI: done in 0.182301 secs using 1485% CPU\n",
      "Optimizing NNI: done in 0.102231 secs using 1522% CPU\n",
      "Optimizing NNI: done in 0.141783 secs using 1550% CPU\n",
      "Iteration 60 / LogL: -43649.337 / Time: 0h:0m:13s (0h:0m:11s left)\n",
      "Optimizing NNI: done in 0.150996 secs using 1512% CPU\n",
      "Optimizing NNI: done in 0.136593 secs using 1548% CPU\n",
      "Optimizing NNI: done in 0.264449 secs using 1504% CPU\n",
      "Optimizing NNI: done in 0.143653 secs using 1541% CPU\n",
      "Optimizing NNI: done in 0.184823 secs using 1550% CPU\n",
      "Optimizing NNI: done in 0.132494 secs using 1565% CPU\n"
     ]
    },
    {
     "name": "stdout",
     "output_type": "stream",
     "text": [
      "Optimizing NNI: done in 0.248491 secs using 1516% CPU\n",
      "Optimizing NNI: done in 0.164849 secs using 1540% CPU\n",
      "Optimizing NNI: done in 0.14969 secs using 1518% CPU\n",
      "Optimizing NNI: done in 0.131995 secs using 1516% CPU\n",
      "Iteration 70 / LogL: -43649.534 / Time: 0h:0m:14s (0h:0m:9s left)\n",
      "Optimizing NNI: done in 0.218556 secs using 1529% CPU\n",
      "Optimizing NNI: done in 0.131357 secs using 1517% CPU\n",
      "Optimizing NNI: done in 0.150211 secs using 1548% CPU\n",
      "Optimizing NNI: done in 0.203826 secs using 1503% CPU\n",
      "Optimizing NNI: done in 0.191314 secs using 1548% CPU\n",
      "Optimizing NNI: done in 0.224507 secs using 1523% CPU\n",
      "Optimizing NNI: done in 0.105082 secs using 1556% CPU\n",
      "Optimizing NNI: done in 0.184628 secs using 1552% CPU\n",
      "Optimizing NNI: done in 0.173856 secs using 1528% CPU\n",
      "Optimizing NNI: done in 0.20618 secs using 1487% CPU\n",
      "Iteration 80 / LogL: -43652.323 / Time: 0h:0m:16s (0h:0m:7s left)\n",
      "Optimizing NNI: done in 0.146264 secs using 1536% CPU\n",
      "Optimizing NNI: done in 0.160736 secs using 1548% CPU\n",
      "Optimizing NNI: done in 0.11539 secs using 1551% CPU\n",
      "Optimizing NNI: done in 0.178948 secs using 1547% CPU\n",
      "Optimizing NNI: done in 0.16801 secs using 1553% CPU\n",
      "Optimizing NNI: done in 0.12994 secs using 1543% CPU\n",
      "Optimizing NNI: done in 0.236883 secs using 1507% CPU\n",
      "Optimizing NNI: done in 0.117335 secs using 1563% CPU\n",
      "Optimizing NNI: done in 0.191353 secs using 1498% CPU\n",
      "Optimizing NNI: done in 0.187231 secs using 1567% CPU\n",
      "Iteration 90 / LogL: -43652.262 / Time: 0h:0m:18s (0h:0m:4s left)\n",
      "Optimizing NNI: done in 0.164455 secs using 1546% CPU\n",
      "Optimizing NNI: done in 0.202547 secs using 1518% CPU\n",
      "Optimizing NNI: done in 0.121476 secs using 1530% CPU\n",
      "Optimizing NNI: done in 0.167708 secs using 1537% CPU\n",
      "Optimizing NNI: done in 0.14683 secs using 1531% CPU\n",
      "Optimizing NNI: done in 0.168687 secs using 1532% CPU\n",
      "Optimizing NNI: done in 0.173107 secs using 1529% CPU\n",
      "Optimizing NNI: done in 0.341689 secs using 1484% CPU\n",
      "Optimizing NNI: done in 0.228076 secs using 1522% CPU\n",
      "Optimizing NNI: done in 0.196402 secs using 1533% CPU\n",
      "Iteration 100 / LogL: -43656.547 / Time: 0h:0m:20s (0h:0m:2s left)\n",
      "Optimizing NNI: done in 0.12927 secs using 1523% CPU\n",
      "Optimizing NNI: done in 0.148037 secs using 1564% CPU\n",
      "Optimizing NNI: done in 0.255282 secs using 1511% CPU\n",
      "Optimizing NNI: done in 0.153165 secs using 1551% CPU\n",
      "Optimizing NNI: done in 0.159837 secs using 1535% CPU\n",
      "Optimizing NNI: done in 0.251332 secs using 1497% CPU\n",
      "Optimizing NNI: done in 0.173532 secs using 1535% CPU\n",
      "Optimizing NNI: done in 0.171374 secs using 1513% CPU\n",
      "Optimizing NNI: done in 0.207398 secs using 1523% CPU\n",
      "Optimizing NNI: done in 0.157027 secs using 1532% CPU\n",
      "Iteration 110 / LogL: -43655.882 / Time: 0h:0m:22s (0h:0m:0s left)\n",
      "Optimizing NNI: done in 0.143857 secs using 1546% CPU\n",
      "Optimizing NNI: done in 0.141311 secs using 1531% CPU\n",
      "Optimizing NNI: done in 0.260089 secs using 1508% CPU\n",
      "Optimizing NNI: done in 0.231937 secs using 1487% CPU\n",
      "Optimizing NNI: done in 0.179136 secs using 1520% CPU\n",
      "TREE SEARCH COMPLETED AFTER 115 ITERATIONS / Time: 0h:0m:23s\n",
      "\n",
      "--------------------------------------------------------------------\n",
      "|                    FINALIZING TREE SEARCH                        |\n",
      "--------------------------------------------------------------------\n",
      "Performs final model parameters optimization\n",
      "Estimate model parameters (epsilon = 0.010)\n",
      "1. Initial log-likelihood: -43648.966\n",
      "Optimal log-likelihood: -43648.966\n",
      "Rate parameters:  A-C: 0.22001  A-G: 1.07202  A-T: 0.13855  C-G: 0.07416  C-T: 4.62229  G-T: 1.00000\n",
      "Base frequencies:  A: 0.299  C: 0.183  G: 0.196  T: 0.321\n",
      "Parameters optimization took 1 rounds (0.035 sec)\n",
      "BEST SCORE FOUND : -43648.966\n",
      "Total tree length: 0.011\n",
      "\n",
      "Total number of iterations: 115\n",
      "CPU time used for tree search: 336.844 sec (0h:5m:36s)\n",
      "Wall-clock time used for tree search: 22.408 sec (0h:0m:22s)\n",
      "Total CPU time used: 344.511 sec (0h:5m:44s)\n",
      "Total wall-clock time used: 23.175 sec (0h:0m:23s)\n",
      "\n",
      "Analysis results written to: \n",
      "  IQ-TREE report:                subtree.mafft.iqtree-time-tree.iqtree\n",
      "  Maximum-likelihood tree:       subtree.mafft.iqtree-time-tree.treefile\n",
      "  Likelihood distances:          subtree.mafft.iqtree-time-tree.mldist\n",
      "  Screen log file:               subtree.mafft.iqtree-time-tree.log\n",
      "\n",
      "--- Start phylogenetic dating ---\n",
      "Reading date file subtree-dates-for-iqtree-time-tree.tsv ...\n",
      "157 dates extracted\n",
      "Building time tree by least-square dating (LSD) with command:\n",
      "lsd -i subtree.mafft.iqtree-time-tree.timetree.subst -s 29928 -o subtree.mafft.iqtree-time-tree.timetree -r a -d subtree.mafft.iqtree-time-tree.timetree.date \n",
      "\n",
      "TREE 1\n",
      "*PROCESSING:\n",
      "Reading the tree ... \n",
      "Collapse 121 (over 154) internal branches having branch length <= 1.67e-05\n",
      " (settable via option -l)\n",
      "Parameter to adjust variances was set to 0.000334 (settable via option -b)\n",
      "Minimum branch length of time scaled tree (settable via option -u and -U): 0\n",
      "Estimating the root position on all branches using fast method ...\n",
      "*WARNINGS:\n",
      "- 78.5714% internal branches were collapsed.\n",
      "*RESULTS:\n",
      "- Dating results:\n",
      " rate 0.000296826, tMRCA 2016-11-21 , objective function 0.000897004\n",
      "\n",
      "TOTAL ELAPSED TIME: 0.00654 seconds\n",
      "LSD results written to:\n",
      "  LSD report:                  subtree.mafft.iqtree-time-tree.timetree.lsd\n",
      "  Time tree in nexus format:   subtree.mafft.iqtree-time-tree.timetree.nex\n",
      "  Time tree in newick format:  subtree.mafft.iqtree-time-tree.timetree.nwk\n",
      "\n",
      "--- End phylogenetic dating ---\n",
      "Date and Time: Thu Feb 17 11:55:55 2022\n"
     ]
    }
   ],
   "source": [
    "!iqtree -s subtree.mafft.fasta --prefix subtree.mafft.iqtree-time-tree -T 16 -m GTR --date subtree-dates-for-iqtree-time-tree.tsv"
   ]
  },
  {
   "cell_type": "code",
   "execution_count": null,
   "metadata": {},
   "outputs": [],
   "source": []
  }
 ],
 "metadata": {
  "kernelspec": {
   "display_name": "Python 3",
   "language": "python",
   "name": "python3"
  },
  "language_info": {
   "codemirror_mode": {
    "name": "ipython",
    "version": 3
   },
   "file_extension": ".py",
   "mimetype": "text/x-python",
   "name": "python",
   "nbconvert_exporter": "python",
   "pygments_lexer": "ipython3",
   "version": "3.9.7"
  }
 },
 "nbformat": 4,
 "nbformat_minor": 4
}
